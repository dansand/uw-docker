{
 "cells": [
  {
   "cell_type": "markdown",
   "metadata": {
    "collapsed": true
   },
   "source": [
    "Viscoplastic thermal convection in a 2-D square box: Tosi et al. 2015\n",
    "=====\n",
    "\n",
    "This series of notebooks generates benchmark models from the Tosi et al. (2015) in Underworld2. The Underworld2 results are then directly compared to the results from Table 2 of Tosi et al. (2015) the paper for each case. The notebooks are broken into a general notebook for reproducing the models from scratch and 5 post-analysis notebooks which look at the results Underworld2 gives for each case after running to equilibrium. \n",
    "\n",
    "Parallel computer friendly version\n",
    "-------\n",
    "\n",
    "This general notebook contains the conditions for each of the cases in Tose et al. (2015) as well as being written in a way that is parallel computer friendly. This means that to run across multiple processors download this notebook as a python file and use this on your cluster of choice. Or use the supplied ``TosiParallel.py`` python script and run with a command like:\n",
    "\n",
    "    mpirun -np 4 python TosiParallel.py \n",
    "\n",
    "To run case 5b modify the case 5a numbers to use $\\sigma_\\gamma$ = 3 to 5 with increment of 0.1.\n",
    "\n",
    "References\n",
    "-----\n",
    "\n",
    "1. Tosi, Nicola and Stein, Claudia and Noack, Lena and H&uuml;ttig, Christian and Maierov&aacute;, Petra and Samuel, Henri and Davies, DR and Wilson, CR and Kramer, SC and Thieulot, Cedric and others. 2015. _A community benchmark for viscoplastic thermal convection in a 2-D square box_.\n"
   ]
  },
  {
   "cell_type": "markdown",
   "metadata": {},
   "source": [
    "Load python functions needed for underworld. Some additional python functions from os, math and numpy used later on."
   ]
  },
  {
   "cell_type": "code",
   "execution_count": 43,
   "metadata": {
    "collapsed": false
   },
   "outputs": [],
   "source": [
    "import underworld as uw\n",
    "import math\n",
    "from underworld import function as fn\n",
    "import time\n",
    "import numpy as np\n",
    "import glucifer\n",
    "import os"
   ]
  },
  {
   "cell_type": "code",
   "execution_count": 44,
   "metadata": {
    "collapsed": false
   },
   "outputs": [],
   "source": [
    "#!pip install natsort\n",
    "#!pip install networkx"
   ]
  },
  {
   "cell_type": "markdown",
   "metadata": {},
   "source": [
    "Set physical constants and parameters, including the Rayleigh number (*Ra*) and viscosity constants ($\\eta^*$ and $\\eta_T$) which are common to all Tosi et al cases."
   ]
  },
  {
   "cell_type": "code",
   "execution_count": 45,
   "metadata": {
    "collapsed": true
   },
   "outputs": [],
   "source": [
    "ETA_T = 1e5\n",
    "\n",
    "newvisc= math.exp(math.log(ETA_T)*0.53)"
   ]
  },
  {
   "cell_type": "code",
   "execution_count": 46,
   "metadata": {
    "collapsed": false
   },
   "outputs": [],
   "source": [
    "res = 128      # simulation resolution (horizontal and vertical directions)\n",
    "RA  = 1e2*newvisc        # Rayleigh number\n",
    "ETA_T = 1e5      # common viscosity constant\n",
    "TS  = 0          # surface temperature\n",
    "TB  = 1          # bottom boundary temperature (melting point)\n",
    "ETA0 = 1e-3*newvisc      # viscosity constant eta^* in Tosi et al\n",
    "TMAX = 3.0\n",
    "IMAX = 1000\n",
    "D = 2890."
   ]
  },
  {
   "cell_type": "markdown",
   "metadata": {},
   "source": [
    "Select which case of Tosi et al (2015) to use. Must be between 1 and 5."
   ]
  },
  {
   "cell_type": "code",
   "execution_count": 47,
   "metadata": {
    "collapsed": false
   },
   "outputs": [],
   "source": [
    "CASE = 2"
   ]
  },
  {
   "cell_type": "markdown",
   "metadata": {},
   "source": [
    "Setup a dictonary containing viscosity and stress values for each case."
   ]
  },
  {
   "cell_type": "code",
   "execution_count": 48,
   "metadata": {
    "collapsed": false
   },
   "outputs": [],
   "source": [
    "case_dict = {}\n",
    "case_dict[1] = {}\n",
    "case_dict[1]['ETA_Y'] = 1.\n",
    "case_dict[1]['YSTRESS'] = 1.*newvisc\n",
    "case_dict[2] = {}\n",
    "case_dict[2]['ETA_Y'] = 1.\n",
    "case_dict[2]['YSTRESS'] = 1.*newvisc\n",
    "case_dict[3] = {}\n",
    "case_dict[3]['ETA_Y'] = 10.\n",
    "case_dict[4] = {}\n",
    "case_dict[4]['ETA_Y'] = 10.\n",
    "case_dict[4]['YSTRESS'] = 1.*newvisc\n",
    "case_dict[5] = {}\n",
    "case_dict[5]['ETA_Y'] = 10.\n",
    "case_dict[5]['YSTRESS'] = 4.*newvisc"
   ]
  },
  {
   "cell_type": "markdown",
   "metadata": {},
   "source": [
    "Set viscosity constants based on which Tosi et al case is being used."
   ]
  },
  {
   "cell_type": "code",
   "execution_count": 49,
   "metadata": {
    "collapsed": false
   },
   "outputs": [],
   "source": [
    "ETA_Y = case_dict[CASE]['ETA_Y']\n",
    "YSTRESS = case_dict[CASE]['YSTRESS']"
   ]
  },
  {
   "cell_type": "markdown",
   "metadata": {},
   "source": [
    "Set input and output file directories"
   ]
  },
  {
   "cell_type": "code",
   "execution_count": 50,
   "metadata": {
    "collapsed": false
   },
   "outputs": [],
   "source": [
    "# input file directory\n",
    "inputPath  = 'TosiInput/case' + str(CASE) + \"/\"\n",
    "\n",
    "# output files\n",
    "outputPath = 'TosiOutput/'\n",
    "filePath   = outputPath+'files'\n",
    "\n",
    "# make directories if they don't exist\n",
    "if not os.path.isdir(outputPath):\n",
    "    os.makedirs(outputPath)\n",
    "if not os.path.isdir(filePath):\n",
    "    os.makedirs(filePath)"
   ]
  },
  {
   "cell_type": "markdown",
   "metadata": {},
   "source": [
    "Create mesh and finite element variables\n",
    "------\n",
    "\n",
    "Set up mesh and field variables that are solved on the mesh. See user guides for details of this process."
   ]
  },
  {
   "cell_type": "code",
   "execution_count": 51,
   "metadata": {
    "collapsed": false
   },
   "outputs": [],
   "source": [
    "mesh = uw.mesh.FeMesh_Cartesian( elementType = (\"Q1/dQ0\"), \n",
    "                                 elementRes  = (res, res), \n",
    "                                 minCoord    = (0., 0.), \n",
    "                                 maxCoord    = (1., 1.))\n",
    "\n",
    "velocityField       = uw.mesh.MeshVariable( mesh=mesh,         nodeDofCount=2 )\n",
    "pressureField       = uw.mesh.MeshVariable( mesh=mesh.subMesh, nodeDofCount=1 )\n",
    "temperatureField    = uw.mesh.MeshVariable( mesh=mesh,         nodeDofCount=1 )\n",
    "temperatureDotField = uw.mesh.MeshVariable( mesh=mesh,         nodeDofCount=1 )"
   ]
  },
  {
   "cell_type": "markdown",
   "metadata": {},
   "source": [
    "Set initial conditions and boundary conditions\n",
    "----------\n",
    "\n",
    "**Initial and boundary conditions**\n",
    "\n",
    "Either set by perturbation function or load data from file."
   ]
  },
  {
   "cell_type": "code",
   "execution_count": 52,
   "metadata": {
    "collapsed": true
   },
   "outputs": [],
   "source": [
    "LoadFromFile = False\n",
    "RefineMesh = False\n"
   ]
  },
  {
   "cell_type": "markdown",
   "metadata": {},
   "source": [
    "**If loading from file**\n",
    "\n",
    "Read (``savedRes`` $\\times$ ``savedRes``) resolution data for $P$, $v$ and $T$ fields as well as existing summary statistics data. These are converted into lists so that the main time loop below will append with new values.\n"
   ]
  },
  {
   "cell_type": "code",
   "execution_count": 53,
   "metadata": {
    "collapsed": false
   },
   "outputs": [],
   "source": [
    "if(LoadFromFile == True):\n",
    "# set up mesh for savedRes*savedRes data file\n",
    "    meshSaved = uw.mesh.FeMesh_Cartesian( elementType = (\"Q1/dQ0\"), \n",
    "                                       elementRes  = (savedRes, savedRes), \n",
    "                                       minCoord    = (0., 0.), \n",
    "                                       maxCoord    = (1., 1.) )\n",
    "    temperatureFieldSaved    = uw.mesh.MeshVariable( mesh=meshSaved,         nodeDofCount=1 )\n",
    "    temperatureDotFieldSaved = uw.mesh.MeshVariable( mesh=meshSaved,         nodeDofCount=1 )\n",
    "    pressureFieldSaved       = uw.mesh.MeshVariable( mesh=meshSaved.subMesh, nodeDofCount=1 )\n",
    "    velocityFieldSaved       = uw.mesh.MeshVariable( mesh=meshSaved,         nodeDofCount=2 )\n",
    "\n",
    "    temperatureFieldSaved.load(    inputPath+'temperatureField.h5' )\n",
    "    temperatureDotFieldSaved.load( inputPath+'temperatureDotField.h5' )\n",
    "    pressureFieldSaved.load(       inputPath+'pressureField.h5')\n",
    "    velocityFieldSaved.load(       inputPath+'velocityField.h5')\n",
    "    \n",
    "    if(res==savedRes): # no remeshing needed, copy data directly\n",
    "        temperatureField.data[:]    = temperatureFieldSaved.data[:]\n",
    "        pressureField.data[:]       = pressureFieldSaved.data[:]\n",
    "        velocityField.data[:]       = velocityFieldSaved.data[:]\n",
    "        temperatureDotField.data[:] = temperatureDotFieldSaved.data[:]\n",
    "    else: # remeshing needed\n",
    "        temperatureField.data[:]    = temperatureFieldSaved.evaluate( mesh )\n",
    "        pressureField.data[:]       = pressureFieldSaved.evaluate( mesh.subMesh )\n",
    "        velocityField.data[:]       = velocityFieldSaved.evaluate( mesh )\n",
    "        temperatureDotField.data[:] = temperatureDotFieldSaved.evaluate( mesh )\n",
    "        \n",
    "    data = np.loadtxt( inputPath+'Summary.txt', unpack=True )\n",
    "    stepsVal = data[0].tolist()\n",
    "    timeVal = data[1].tolist()\n",
    "    viscdiscVal = data[2].tolist()\n",
    "    nu0Val = data[3].tolist()\n",
    "    nu1Val = data[4].tolist()\n",
    "    Avg_tempVal = data[5].tolist()\n",
    "    vrmsVal = data[6].tolist()\n",
    "    Rms_surfVal = data[7].tolist()\n",
    "    Max_vx_surfVal = data[8].tolist()\n",
    "    GravworkVal = data[9].tolist()\n",
    "    etamaxVal = data[10].tolist()\n",
    "    etaminVal = data[11].tolist() "
   ]
  },
  {
   "cell_type": "code",
   "execution_count": 54,
   "metadata": {
    "collapsed": true
   },
   "outputs": [],
   "source": [
    "if(LoadFromFile == False):\n",
    "# Initialise data.. Note that we are also setting boundary conditions here\n",
    "    velocityField.data[:]  = [0.,0.]\n",
    "    pressureField.data[:]  = 0.\n",
    "    temperatureDotField.data[:] = 0.\n",
    "    temperatureField.data[:] = 0.\n",
    "# Setup temperature initial condition via numpy arrays\n",
    "    A = 0.01\n",
    "#Note that width = height = 1\n",
    "    for index, coord in enumerate(mesh.data):\n",
    "        pertCoeff = (1- coord[1]) + A*math.cos( math.pi * coord[0] ) * math.sin( math.pi * coord[1] )\n",
    "        temperatureField.data[index] = pertCoeff;    \n",
    "    stepsVal = []\n",
    "    timeVal = []\n",
    "    viscdiscVal = []\n",
    "    nu0Val = []\n",
    "    nu1Val = []\n",
    "    Avg_tempVal = []\n",
    "    vrmsVal = []\n",
    "    Rms_surfVal = []\n",
    "    Max_vx_surfVal = []\n",
    "    GravworkVal = []\n",
    "    etamaxVal = []\n",
    "    etaminVal = []"
   ]
  },
  {
   "cell_type": "markdown",
   "metadata": {},
   "source": [
    "#### mesh refine"
   ]
  },
  {
   "cell_type": "code",
   "execution_count": 55,
   "metadata": {
    "collapsed": false
   },
   "outputs": [],
   "source": [
    "s = 1.2\n",
    "a = 0.00\n",
    "b = 1.\n",
    "\n",
    "newys = []\n",
    "newxs = []\n",
    "for index, coord in enumerate(mesh.data):\n",
    "    y0 = coord[1]\n",
    "    x0 = abs(coord[0])\n",
    "    newy =(1. - (a + (b-a)*((1 - y0)/(b-a))**s))\n",
    "    newx =(1. - (a + (b-a)*((1 - x0)/(b-a))**s)) \n",
    "    newys.append(newy)\n",
    "    newxs.append(newx)"
   ]
  },
  {
   "cell_type": "code",
   "execution_count": 56,
   "metadata": {
    "collapsed": false
   },
   "outputs": [],
   "source": [
    "if RefineMesh:\n",
    "    with mesh.deform_mesh():\n",
    "        mesh.data[:,1] = newys\n",
    "        mesh.data[:,0] = newxs"
   ]
  },
  {
   "cell_type": "code",
   "execution_count": 57,
   "metadata": {
    "collapsed": false
   },
   "outputs": [
    {
     "data": {
      "text/html": [
       "<img src='data:image/png;base64,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'>"
      ],
      "text/plain": [
       "<IPython.core.display.HTML object>"
      ]
     },
     "execution_count": 57,
     "metadata": {},
     "output_type": "execute_result"
    }
   ],
   "source": [
    "figtemp = glucifer.Figure( figsize=(800,400) )\n",
    "figtemp.append( glucifer.objects.Surface(mesh, temperatureField, colours=\"blue white red\") )\n",
    "figtemp.append( glucifer.objects.Mesh(mesh) )\n",
    "figtemp.append( glucifer.objects.VectorArrows(mesh, velocityField, arrowHead=0.2, scaling=0.01))\n",
    "figtemp.show()\n"
   ]
  },
  {
   "cell_type": "markdown",
   "metadata": {},
   "source": [
    "**Boundary conditions**\n",
    "\n",
    "This step is to ensure that the temperature boundary conditions are satisfied, as the initial conditions above may have been set to different values on the boundaries."
   ]
  },
  {
   "cell_type": "code",
   "execution_count": 58,
   "metadata": {
    "collapsed": false
   },
   "outputs": [],
   "source": [
    "for index in mesh.specialSets[\"MinJ_VertexSet\"]:\n",
    "    temperatureField.data[index] = TB\n",
    "for index in mesh.specialSets[\"MaxJ_VertexSet\"]:\n",
    "    temperatureField.data[index] = TS"
   ]
  },
  {
   "cell_type": "markdown",
   "metadata": {},
   "source": [
    "**Conditions on the boundaries**\n",
    "\n",
    "Construct sets for the both horizontal and vertical walls. Combine the sets of vertices to make the I (left and right side walls) and J (top and bottom walls) sets. Note that both sets contain the corners of the box."
   ]
  },
  {
   "cell_type": "code",
   "execution_count": 59,
   "metadata": {
    "collapsed": false
   },
   "outputs": [],
   "source": [
    "iWalls = mesh.specialSets[\"MinI_VertexSet\"] + mesh.specialSets[\"MaxI_VertexSet\"]\n",
    "jWalls = mesh.specialSets[\"MinJ_VertexSet\"] + mesh.specialSets[\"MaxJ_VertexSet\"]\n",
    "freeslipBC = uw.conditions.DirichletCondition( variable      = velocityField, \n",
    "                                               indexSetsPerDof = (iWalls, jWalls) )\n",
    "tempBC     = uw.conditions.DirichletCondition( variable      = temperatureField, \n",
    "                                               indexSetsPerDof = (jWalls,) )"
   ]
  },
  {
   "cell_type": "markdown",
   "metadata": {},
   "source": [
    "## Particles"
   ]
  },
  {
   "cell_type": "code",
   "execution_count": 60,
   "metadata": {
    "collapsed": false
   },
   "outputs": [],
   "source": [
    "# initialise a swarm\n",
    "gSwarm = uw.swarm.Swarm( mesh=mesh )\n",
    "\n",
    "# add a data variable which will store information on the particle\n",
    "materialVariable   = gSwarm.add_variable( dataType=\"int\", count=1 )\n",
    "\n",
    "\n",
    "# create a layout object that will populate the swarm across the whole domain\n",
    "swarmLayout = uw.swarm.layouts.PerCellRandomLayout( swarm=gSwarm, particlesPerCell=15)\n",
    "\n",
    "# activate the layout object\n",
    "gSwarm.populate_using_layout( layout=swarmLayout )\n",
    "\n",
    "\n",
    "\n",
    "\n",
    "\n",
    "varlist = [materialVariable]\n",
    "varnames = ['materialVariable']"
   ]
  },
  {
   "cell_type": "code",
   "execution_count": 61,
   "metadata": {
    "collapsed": false
   },
   "outputs": [],
   "source": [
    "mantleIndex = 0\n",
    "lithosphereIndex = 1\n",
    "crustIndex = 2\n",
    "airIndex = 3\n",
    "\n",
    "#All depth conditions are given as (km/D) where D is the length scale, \n",
    "#note that 'model depths' are used, e.g. 1-z, where z is the vertical Underworld coordinate\n",
    "#All temp conditions are in dimensionless temp. [0. - 1.]\n",
    "\n",
    "#A few paramters defining lengths scales\n",
    "\n",
    "Crust = 27.\n",
    "CrustM = Crust/D\n",
    "\n",
    "#######Setup some variables which help define condtions\n",
    "#rock-air topography limits\n",
    "dz = 15./D\n",
    "\n",
    "avgtemp = 0.5"
   ]
  },
  {
   "cell_type": "code",
   "execution_count": 62,
   "metadata": {
    "collapsed": false
   },
   "outputs": [],
   "source": [
    "# Lets initialise the 'materialVariable' data to represent different materials\n",
    "# Set the material to heavy everywhere via the numpy array\n",
    "materialVariable.data[:] = mantleIndex\n",
    "    \n",
    "    \n",
    "#Set initial air and crust materials (allow the graph to take care of lithsophere)\n",
    "#########\n",
    "#This initial material setup will be model dependent\n",
    "#########\n",
    "for particleID in range(gSwarm.particleCoordinates.data.shape[0]):\n",
    "    if (1. - gSwarm.particleCoordinates.data[particleID][1]) < 0:\n",
    "        materialVariable.data[particleID] = airIndex\n",
    "    elif (1. - gSwarm.particleCoordinates.data[particleID][1]) < CrustM:\n",
    "        materialVariable.data[particleID] = crustIndex"
   ]
  },
  {
   "cell_type": "code",
   "execution_count": 63,
   "metadata": {
    "collapsed": true
   },
   "outputs": [],
   "source": [
    "##############\n",
    "#Important: This is a quick fix for a bug that arises in parallel runs\n",
    "##############\n",
    "material_list = [0,1,2,3]"
   ]
  },
  {
   "cell_type": "code",
   "execution_count": 64,
   "metadata": {
    "collapsed": false
   },
   "outputs": [],
   "source": [
    "import networkx as nx\n",
    "\n",
    "#######Graph object\n",
    "DG = nx.DiGraph(field=\"Depth\")\n",
    "\n",
    "#######Nodes\n",
    "#Note that the order of materials, deepest to shallowest is important \n",
    "DG.add_node(0, mat='mantle')\n",
    "DG.add_node(1, mat='lithosphere')\n",
    "DG.add_node(2, mat='crust')\n",
    "DG.add_node(3, mat='air')\n",
    "\n",
    "\n",
    "labels=dict((n,d['mat']) for n,d in DG.nodes(data=True))\n",
    "pos=nx.spring_layout(DG) \n",
    "\n",
    "\n",
    "#######Edges\n",
    "#anything to air\n",
    "DG.add_edges_from([(0,3),(1,3), (2,3)])\n",
    "DG[0][3]['depthcondition'] = -1*dz\n",
    "DG[1][3]['depthcondition'] = -1*dz\n",
    "DG[2][3]['depthcondition'] = -1*dz\n",
    "\n",
    "\n",
    "#Anything to mantle\n",
    "DG.add_edges_from([(2,0), (3,0), (1,0)])\n",
    "DG[3][0]['depthcondition'] = dz\n",
    "DG[2][0]['depthcondition'] = (300./D)\n",
    "DG[1][0]['depthcondition'] = (660./D) #This means we're going to kill lithosphere at the 660.\n",
    "\n",
    "\n",
    "#Anything to lithsphere\n",
    "DG.add_edges_from([(0,1),(3,1)])\n",
    "DG[0][1]['depthcondition'] = 200./D\n",
    "DG[0][1]['avgtempcondition'] = 0.75*avgtemp #definition of thermal lithosphere\n",
    "\n",
    "\n",
    "#Anything to crust\n",
    "DG.add_edges_from([(0,2), (1,2)])\n",
    "DG[0][2]['depthcondition'] = CrustM\n",
    "DG[1][2]['depthcondition'] = CrustM"
   ]
  },
  {
   "cell_type": "code",
   "execution_count": 65,
   "metadata": {
    "collapsed": false
   },
   "outputs": [],
   "source": [
    "remove_nodes = []\n",
    "for node in DG.nodes():\n",
    "    if not node in material_list:\n",
    "        remove_nodes.append(node)\n",
    "        \n",
    "for rmnode in remove_nodes:\n",
    "    DG.remove_node(rmnode)"
   ]
  },
  {
   "cell_type": "code",
   "execution_count": 66,
   "metadata": {
    "collapsed": true
   },
   "outputs": [],
   "source": [
    "#A Dictionary to map strings in the graph (e.g. 'depthcondition') to particle data arrays\n",
    "\n",
    "particledepths = 1. - gSwarm.particleCoordinates.data[:,1]\n",
    "particletemps = temperatureField.evaluate(gSwarm)[:,0]\n",
    "\n",
    "conditionmap = {}\n",
    "\n",
    "conditionmap['depthcondition'] = {}\n",
    "conditionmap['depthcondition']['data'] = particledepths\n",
    "conditionmap['avgtempcondition'] = {}\n",
    "conditionmap['avgtempcondition']['data'] = particletemps"
   ]
  },
  {
   "cell_type": "code",
   "execution_count": 67,
   "metadata": {
    "collapsed": true
   },
   "outputs": [],
   "source": [
    "def update_swarm(graph, particleIndex):\n",
    "    \"\"\"\n",
    "    This function takes the materials graph (networkx.DiGraph), and a particle index,\n",
    "    then determines if a material update is required \n",
    "    and if so, returns the new materialindex\n",
    "    Args:\n",
    "        graph (networkx.DiGraph): Directed multigraph representing the transformation of material types\n",
    "        particleIndex (int): the particle index as corressponding to the index in the swarm data arrays\n",
    "    Returns:\n",
    "        if update is required the function returns the the new material variable (int) \n",
    "        else returns None\n",
    "    Raises:\n",
    "        TypeError: not implemented\n",
    "        ValueError: not implemented\n",
    "    \"\"\"\n",
    "    ##Egde gives links to other materials, we then query the conditions to see if we should change materials\n",
    "    matId = materialVariable.data[particleIndex][0]\n",
    "    innerchange = False\n",
    "    outerchange = False\n",
    "    for edge in graph[matId]:\n",
    "        if outerchange:\n",
    "            break\n",
    "        for cond in graph[matId][edge].keys():\n",
    "            outerchange = False\n",
    "            if innerchange: #found a complete transition, break inner loop\n",
    "                break\n",
    "            currentparticlevalue = conditionmap[cond]['data'][particleIndex]\n",
    "            crossover = graph[matId][edge][cond]\n",
    "            if ((matId > edge) and (currentparticlevalue > crossover)):\n",
    "                innerchange = False # continue on, \n",
    "                if graph[matId][edge].keys()[-1] == cond:\n",
    "                    outerchange = True\n",
    "                    innerchange = edge\n",
    "                    break\n",
    "            elif ((matId < edge) and (currentparticlevalue < crossover)):\n",
    "                innerchange = False\n",
    "                if graph[matId][edge].keys()[-1] == cond:\n",
    "                    outerchange = True\n",
    "                    innerchange = edge\n",
    "                    break\n",
    "            else:\n",
    "                #condition not met, break outer loop, go to next edge, outerchange should still be False\n",
    "                break\n",
    "    if type(innerchange) == int:\n",
    "        return innerchange"
   ]
  },
  {
   "cell_type": "code",
   "execution_count": 68,
   "metadata": {
    "collapsed": true
   },
   "outputs": [],
   "source": [
    "#Cleanse the swarm of its sins\n",
    "#For some Material Graphs, the graph may have to be treaversed more than once\n",
    "\n",
    "check = -1\n",
    "number_updated = 1\n",
    "\n",
    "while number_updated != 0:\n",
    "    number_updated = 0\n",
    "    for particleID in range(gSwarm.particleCoordinates.data.shape[0]):\n",
    "                check = update_swarm(DG, particleID)\n",
    "                if check > -1:\n",
    "                    number_updated += 1\n",
    "                    materialVariable.data[particleID] = check"
   ]
  },
  {
   "cell_type": "code",
   "execution_count": 69,
   "metadata": {
    "collapsed": false
   },
   "outputs": [
    {
     "data": {
      "text/html": [
       "<img src='data:image/png;base64,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'>"
      ],
      "text/plain": [
       "<IPython.core.display.HTML object>"
      ]
     },
     "execution_count": 69,
     "metadata": {},
     "output_type": "execute_result"
    }
   ],
   "source": [
    "\n",
    "figParticle = glucifer.Figure( figsize=(1024,384) )\n",
    "figParticle.append( glucifer.objects.Points(gSwarm, materialVariable, pointSize=2, colours='white green red purple blue') )\n",
    "figParticle.append( glucifer.objects.Mesh(mesh) )\n",
    "figParticle.show()\n",
    "#figParticle.save_database('test.gldb')"
   ]
  },
  {
   "cell_type": "markdown",
   "metadata": {
    "collapsed": false
   },
   "source": [
    "Set up material parameters and functions\n",
    "-----\n"
   ]
  },
  {
   "cell_type": "markdown",
   "metadata": {},
   "source": [
    "**Viscosity field**\n",
    "\n",
    "The viscosity is a function of temperature ($T$), the vertical coordinate ($z$) and the strain rate ($\\dot{\\epsilon}$) and is given by\n",
    "\n",
    "$$\n",
    "    \\eta(T, z, \\dot{\\epsilon}) = 2 \\left( \\frac{1}{\\eta_{lin}(T,z)} + \\frac{1}{\\eta_{plast}(\\dot{\\epsilon})} \\right)^{-1}\n",
    "$$\n",
    "\n",
    "where the linear part is\n",
    "\n",
    "$$\n",
    "    \\eta_{lin}(T, z) = \\exp(-\\gamma_T T + \\gamma_z z)\n",
    "$$\n",
    "\n",
    "with $\\gamma_T = \\ln(\\Delta \\eta_T)$ and $\\gamma_z = \\ln(\\Delta \\eta_z)$. The nonlinear part is\n",
    "\n",
    "$$\n",
    "    \\eta_{plast}(\\dot{\\epsilon}) = \\eta^* + \\frac{\\sigma_{\\gamma}}{\\sqrt{\\dot{\\epsilon} : \\dot{\\epsilon}}}\n",
    "$$\n",
    "\n",
    "where $\\eta^*$ is the effective viscosity at high stresses and $\\sigma_{\\gamma}$ is the yield stress. The values of $\\Delta \\eta_T$, $\\Delta \\eta_z$, $\\eta^*$ and $\\sigma_{\\gamma}$ are assumed to be constant with values dependent on the particular case."
   ]
  },
  {
   "cell_type": "markdown",
   "metadata": {},
   "source": [
    "**Create variables required for plasticity calculations**"
   ]
  },
  {
   "cell_type": "code",
   "execution_count": 70,
   "metadata": {
    "collapsed": false
   },
   "outputs": [],
   "source": [
    "secinv = fn.tensor.second_invariant( fn.tensor.symmetric( velocityField.fn_gradient ) )\n",
    "coordinate = fn.coord()"
   ]
  },
  {
   "cell_type": "markdown",
   "metadata": {},
   "source": [
    "**Setup viscosity functions**\n",
    "\n",
    "Remember to use floats everywhere when setting up functions"
   ]
  },
  {
   "cell_type": "code",
   "execution_count": 71,
   "metadata": {
    "collapsed": false
   },
   "outputs": [],
   "source": [
    "viscosityl1 = fn.math.exp(math.log(ETA_T)*-1.*temperatureField)\n",
    "viscosityl2 = fn.math.exp((math.log(ETA_T)*-1.*temperatureField) + (1.-coordinate[1])*math.log(ETA_Y))\n",
    "\n",
    "#Von Mises effective viscosity\n",
    "viscosityp = ETA0 + YSTRESS/(secinv/math.sqrt(0.5)) #extra factor to account for underworld second invariant form\n",
    "\n",
    "if CASE == 1:\n",
    "    fn_viscosity = viscosityl1\n",
    "elif CASE == 2:\n",
    "    fn_viscosity = 2./(1./viscosityl1 + 1./viscosityp)\n",
    "elif CASE == 3:\n",
    "    fn_viscosity = viscosityl2\n",
    "else:\n",
    "    fn_viscosity = 2./(1./viscosityl2 + 1./viscosityp)"
   ]
  },
  {
   "cell_type": "markdown",
   "metadata": {},
   "source": [
    "**Add functions for density and buoyancy**"
   ]
  },
  {
   "cell_type": "code",
   "execution_count": 72,
   "metadata": {
    "collapsed": true
   },
   "outputs": [],
   "source": [
    "densityFn = RA*temperatureField\n",
    "\n",
    "# define our vertical unit vector using a python tuple (this will be automatically converted to a function)\n",
    "z_hat = ( 0.0, 1.0 )\n",
    "\n",
    "# now create a buoyancy force vector using the density (FEvariable) and the vertical unit vector. \n",
    "buoyancyFn = densityFn * z_hat"
   ]
  },
  {
   "cell_type": "markdown",
   "metadata": {},
   "source": [
    "Build the Stokes system and solvers\n",
    "------\n",
    "\n",
    "Setup the Stokes system with linear or nonlinear visocity viscosity depending on case."
   ]
  },
  {
   "cell_type": "code",
   "execution_count": 73,
   "metadata": {
    "collapsed": false
   },
   "outputs": [],
   "source": [
    "#We first set up a l\n",
    "stokesPIC = uw.systems.Stokes(velocityField=velocityField, \n",
    "                              pressureField=pressureField,\n",
    "                              conditions=[freeslipBC,],\n",
    "#                              viscosityFn=viscosityFn1, \n",
    "                              fn_viscosity=fn.exception.SafeMaths(viscosityl1), \n",
    "                              fn_bodyforce=buoyancyFn)"
   ]
  },
  {
   "cell_type": "code",
   "execution_count": 74,
   "metadata": {
    "collapsed": true
   },
   "outputs": [],
   "source": [
    "solver = uw.systems.Solver(stokesPIC)\n",
    "solver.solve() "
   ]
  },
  {
   "cell_type": "code",
   "execution_count": 75,
   "metadata": {
    "collapsed": false
   },
   "outputs": [],
   "source": [
    "stokesPIC2 = uw.systems.Stokes( velocityField = velocityField, \n",
    "                               pressureField = pressureField,\n",
    "                               conditions    = [freeslipBC,],\n",
    "                               fn_viscosity   = fn.exception.SafeMaths( fn_viscosity ), \n",
    "                               fn_bodyforce   = buoyancyFn )"
   ]
  },
  {
   "cell_type": "markdown",
   "metadata": {},
   "source": [
    "Setup solver for the Stokes system of equations"
   ]
  },
  {
   "cell_type": "code",
   "execution_count": 76,
   "metadata": {
    "collapsed": false
   },
   "outputs": [],
   "source": [
    "solver = uw.systems.Solver( stokesPIC2 )"
   ]
  },
  {
   "cell_type": "markdown",
   "metadata": {},
   "source": [
    "We do one solve for initial pressure and velocity with linear viscosity to get the initial strain rate invariant. This solve step also calculates a 'guess' of the the velocity field based on the linear system, which is used later in the non-linear solver."
   ]
  },
  {
   "cell_type": "code",
   "execution_count": 77,
   "metadata": {
    "collapsed": false
   },
   "outputs": [],
   "source": [
    "solver.solve( nonLinearIterate=False )"
   ]
  },
  {
   "cell_type": "markdown",
   "metadata": {},
   "source": [
    "Create an advective-diffusive system\n",
    "-----\n",
    "\n",
    "Setup the system in underworld by flagging the temperature and velocity field variables."
   ]
  },
  {
   "cell_type": "code",
   "execution_count": 78,
   "metadata": {
    "collapsed": false
   },
   "outputs": [],
   "source": [
    "advDiff = uw.systems.AdvectionDiffusion( temperatureField, temperatureDotField, velocityField,\n",
    "                                         fn_diffusivity=1., conditions=[tempBC,] )\n",
    "\n",
    "\n",
    "advector = uw.systems.SwarmAdvector( swarm=gSwarm, velocityField=velocityField, order=2 )\n"
   ]
  },
  {
   "cell_type": "markdown",
   "metadata": {},
   "source": [
    "Metrics for benchmark\n",
    "=====\n",
    "\n",
    "Define functions to be used in the time loop. For cases 1-4, participants were asked to report a number of diagnostic quantities to be measured after reaching steady state:\n",
    "\n",
    "* Average temperature\n",
    "$$  \\langle T \\rangle  = \\int^1_0 \\int^1_0 T \\, dxdy $$\n",
    "* Top and bottom Nusselt numbers\n",
    "$$Nu_{top/bot} = - \\left. \\int^1_0 \\frac{\\partial T}{\\partial y} \\right|_{y=1/y=0} \\, dx$$\n",
    "* RMS velocity over the whole domain, surface and max velocity at surface\n",
    "$$u_{RMS} = \\left( \\int_0^1 \\int_0^1 \\left( u_x^2 + u_y^2 \\right) dx dy \\right)^{1/2}$$\n",
    "$$u_{RMS}^{surf} = \\left( \\left. \\int_0^1 u_x^2\\right|_{y=1} dx \\right)^{1/2}$$\n",
    "$$u_{max}^{surf} = \\left. \\max(u_x)\\right|_{y=1}$$\n",
    "* max and min viscosity over the whole domain\n",
    "$$\\eta_{max/min} = \\max / \\min \\left( \\eta\\left(x,y\\right) \\right)$$\n",
    "* average rate of work done against gravity\n",
    "$$\\langle W \\rangle = \\int^1_0 \\int^1_0 T u_y \\, dx dy$$\n",
    "* and the average rate of viscous dissipation\n",
    "$$\\langle \\Phi \\rangle = \\int^1_0 \\int^1_0 \\tau_{ij} \\dot \\epsilon_{ij} \\, dx dy$$\n",
    "\n",
    "* In steady state, if thermal energy is accurately conserved, the difference between $\\langle W \\rangle$ and $\\langle \\Phi \\rangle / Ra$ must vanish, so also reported is the percentage error: \n",
    "\n",
    "$$ \\delta = \\frac{\\lvert \\langle W \\rangle - \\frac{\\langle \\Phi \\rangle}{Ra} \\rvert}{max \\left(  \\langle W \\rangle,  \\frac{\\langle \\Phi \\rangle}{Ra}\\right)} \\times 100% $$"
   ]
  },
  {
   "cell_type": "markdown",
   "metadata": {},
   "source": [
    "**Setup volume integrals used in metric functions**"
   ]
  },
  {
   "cell_type": "code",
   "execution_count": 79,
   "metadata": {
    "collapsed": true
   },
   "outputs": [],
   "source": [
    "tempint = uw.utils.Integral( temperatureField, mesh )\n",
    "areaint = uw.utils.Integral( 1.,               mesh )\n",
    "\n",
    "v2int   = uw.utils.Integral( fn.math.dot(velocityField,velocityField), mesh )\n",
    "\n",
    "dwint   = uw.utils.Integral( temperatureField*velocityField[1], mesh )\n",
    "\n",
    "sinner = fn.math.dot( secinv, secinv )\n",
    "vdint = uw.utils.Integral( (4.*fn_viscosity*sinner), mesh )"
   ]
  },
  {
   "cell_type": "markdown",
   "metadata": {},
   "source": [
    "**Setup surface integrals used in metric functions**"
   ]
  },
  {
   "cell_type": "code",
   "execution_count": 80,
   "metadata": {
    "collapsed": false
   },
   "outputs": [],
   "source": [
    "rmsSurfInt = uw.utils.Integral( fn=velocityField[0]*velocityField[0], mesh=mesh, integrationType='Surface', \n",
    "                          surfaceIndexSet=mesh.specialSets[\"MaxJ_VertexSet\"])\n",
    "nuTop      = uw.utils.Integral( fn=temperatureField.fn_gradient[1],    mesh=mesh, integrationType='Surface', \n",
    "                          surfaceIndexSet=mesh.specialSets[\"MaxJ_VertexSet\"])\n",
    "nuBottom   = uw.utils.Integral( fn=temperatureField.fn_gradient[1],    mesh=mesh, integrationType='Surface', \n",
    "                          surfaceIndexSet=mesh.specialSets[\"MinJ_VertexSet\"])"
   ]
  },
  {
   "cell_type": "markdown",
   "metadata": {},
   "source": [
    "**Define diagnostic functions using integrals**"
   ]
  },
  {
   "cell_type": "code",
   "execution_count": 81,
   "metadata": {
    "collapsed": false
   },
   "outputs": [],
   "source": [
    "def avg_temp():\n",
    "    return tempint.evaluate()[0]/areaint.evaluate()[0]\n",
    "\n",
    "def nusseltTB(temp_field, mesh):\n",
    "    return -nuTop.evaluate()[0], -nuBottom.evaluate()[0]\n",
    "\n",
    "def rms():\n",
    "    return math.sqrt(v2int.evaluate()[0]/areaint.evaluate()[0])\n",
    "\n",
    "def rms_surf():\n",
    "    return math.sqrt(rmsSurfInt.evaluate()[0])\n",
    "\n",
    "def max_vx_surf(velfield, mesh):\n",
    "    vuvelxfn = fn.view.min_max(velfield[0])\n",
    "    vuvelxfn.evaluate(mesh.specialSets[\"MaxJ_VertexSet\"])\n",
    "    return vuvelxfn.max_global()\n",
    "\n",
    "def gravwork(workfn):\n",
    "    return workfn.evaluate()[0]\n",
    "\n",
    "def viscdis(vdissfn):\n",
    "    return vdissfn.evaluate()[0]\n",
    "\n",
    "def visc_extr(viscfn):\n",
    "    vuviscfn = fn.view.min_max(viscfn)\n",
    "    vuviscfn.evaluate(mesh)\n",
    "    return vuviscfn.max_global(), vuviscfn.min_global()"
   ]
  },
  {
   "cell_type": "markdown",
   "metadata": {},
   "source": [
    "Main simulation loop\n",
    "------\n",
    "\n",
    "The main time stepping loop begins here. Before this the time and timestep are initialised to zero and the output statistics arrays are set up. Also the frequency of outputting basic statistics to the screen is set in steps_output.\n",
    "\n",
    "Since getting each case to equilibrium takes a long time the default number of steps to do is kept short. Edit this if you wish to go through the entire process yourself."
   ]
  },
  {
   "cell_type": "code",
   "execution_count": 82,
   "metadata": {
    "collapsed": true
   },
   "outputs": [],
   "source": [
    "steps_todo = 10"
   ]
  },
  {
   "cell_type": "markdown",
   "metadata": {},
   "source": [
    "Initialise steps and time. Set to zero unless loading values from file."
   ]
  },
  {
   "cell_type": "code",
   "execution_count": 83,
   "metadata": {
    "collapsed": false
   },
   "outputs": [],
   "source": [
    "try:\n",
    "    realtime = timeVal[-1]\n",
    "    step = int(stepsVal[-1])\n",
    "except:\n",
    "    realtime = 0.0\n",
    "    step = 0\n",
    "steps_end = step + steps_todo\n",
    "steps_output = 100\n",
    "steps_output = max(steps_output,1)"
   ]
  },
  {
   "cell_type": "code",
   "execution_count": 84,
   "metadata": {
    "collapsed": false
   },
   "outputs": [
    {
     "name": "stdout",
     "output_type": "stream",
     "text": [
      "total advDiff time is: 0.316036\n",
      "total advector time is: 1.99999999495e-06\n",
      "total advDiff time is: 0.319999\n",
      "total advector time is: 3.00000002085e-06\n",
      "total advDiff time is: 0.342155\n",
      "total advector time is: 2.00000002337e-06\n",
      "total advDiff time is: 0.322534\n",
      "total advector time is: 9.99999997475e-07\n",
      "total advDiff time is: 0.317462\n",
      "total advector time is: 7.9999999798e-06\n",
      "total advDiff time is: 0.315358\n",
      "total advector time is: 1.99999999495e-06\n",
      "total advDiff time is: 0.317817\n",
      "total advector time is: 1.99999999495e-06\n",
      "total advDiff time is: 0.32097\n",
      "total advector time is: 7.9999999798e-06\n",
      "total advDiff time is: 0.319754\n",
      "total advector time is: 1.99999999495e-06\n",
      "step = 9 ; CPU time = 53.739393 ; vrms =  2190.07001365\n",
      "total advDiff time is: 0.318384\n",
      "total advector time is: 9.99999997475e-07\n"
     ]
    }
   ],
   "source": [
    "# initialise timer for computation\n",
    "startMain = time.clock()\n",
    "# start loop\n",
    "while step < steps_end:\n",
    "    # Solve non-linear system\n",
    "    solver.solve(nonLinearIterate=True)\n",
    "    dt = advDiff.get_max_dt()\n",
    "    if step == 0:\n",
    "        dt = 0.\n",
    "    # Advect using this timestep size   \n",
    "    start = time.clock()\n",
    "    advDiff.integrate(dt)\n",
    "    machine_time = (time.clock()-start)\n",
    "    print(\"total advDiff time is: \" + str(machine_time))\n",
    "    # Advect swarm using this timestep size\n",
    "    start = time.clock()\n",
    "    #advector.integrate(dt)\n",
    "    machine_time = (time.clock()-start)\n",
    "    print(\"total advector time is: \" + str(machine_time))\n",
    "    # Increment\n",
    "    # Increment\n",
    "    realtime += dt\n",
    "    step += 1\n",
    "    # Calculate the Metrics, only on 1 of the processors:\n",
    "    Avg_temp = avg_temp()\n",
    "    Rms = rms()\n",
    "    Rms_surf = rms_surf()\n",
    "    Max_vx_surf = max_vx_surf(velocityField, mesh)\n",
    "    Gravwork = gravwork(dwint)\n",
    "    Viscdis = viscdis(vdint)\n",
    "    nu1, nu0 = nusseltTB(temperatureField, mesh) # return top then bottom\n",
    "    etamax, etamin = visc_extr(fn_viscosity)\n",
    "    # store results\n",
    "    stepsVal.append(       step)\n",
    "    timeVal.append(        realtime )\n",
    "    viscdiscVal.append(    Viscdis )\n",
    "    nu0Val.append(         nu0 )\n",
    "    nu1Val.append(         nu1 )\n",
    "    Avg_tempVal.append(    Avg_temp )\n",
    "    vrmsVal.append(        Rms )\n",
    "    Rms_surfVal.append(    Rms_surf )\n",
    "    Max_vx_surfVal.append( Max_vx_surf )\n",
    "    GravworkVal.append(    Gravwork )\n",
    "    etamaxVal.append(      etamax )\n",
    "    etaminVal.append(      etamin )\n",
    "\n",
    "    # output fields and summary info to file (output graphics can also be added here)\n",
    "    if uw.rank()==0:\n",
    "        if (step % steps_output == 0) or (step == steps_end-1):\n",
    "            print 'step =',step, '; CPU time =', time.clock()-startMain, '; vrms = ',Rms\n",
    "            # Temperature\n",
    "            fnametemp = \"temperatureField_\" + str(step).zfill(6) + \".h5\"\n",
    "            fullpath = os.path.join(outputPath + \"files/\" + fnametemp)\n",
    "            temperatureField.save(fullpath)\n",
    "            # Temperature time derivative\n",
    "            fnametemp = \"temperatureDotField_\" + str(step).zfill(6) + \".h5\"\n",
    "            fullpath = os.path.join(outputPath + \"files/\" + fnametemp)\n",
    "            temperatureDotField.save(fullpath)\n",
    "            # Pressure\n",
    "            fnametemp = \"pressureField_\" + str(step).zfill(6) + \".h5\"\n",
    "            fullpath = os.path.join(outputPath + \"files/\" + fnametemp)\n",
    "            pressureField.save(fullpath)\n",
    "            # Velocity\n",
    "            fnametemp = \"velocityField_\" + str(step).zfill(6) + \".h5\"\n",
    "            fullpath = os.path.join(outputPath + \"files/\" + fnametemp)\n",
    "            velocityField.save(fullpath)\n",
    "\n",
    "            np.savetxt( outputPath + 'Summary.txt', np.c_[stepsVal, timeVal, viscdiscVal, nu0Val, \n",
    "                                                          nu1Val, Avg_tempVal, vrmsVal, Rms_surfVal,\n",
    "                                                         Max_vx_surfVal, GravworkVal, etamaxVal, etaminVal], \n",
    "                   header=\"Steps, Time, visc, Nusselt bottom/top, av_T, vrms, surf_rms, surf_max, grav, etamax, etamin\" )\n"
   ]
  },
  {
   "cell_type": "code",
   "execution_count": null,
   "metadata": {
    "collapsed": true
   },
   "outputs": [],
   "source": []
  },
  {
   "cell_type": "code",
   "execution_count": null,
   "metadata": {
    "collapsed": true
   },
   "outputs": [],
   "source": []
  },
  {
   "cell_type": "markdown",
   "metadata": {},
   "source": [
    "Save final fields - useful for continuing runs."
   ]
  }
 ],
 "metadata": {
  "kernelspec": {
   "display_name": "Python 2",
   "language": "python",
   "name": "python2"
  },
  "language_info": {
   "codemirror_mode": {
    "name": "ipython",
    "version": 2
   },
   "file_extension": ".py",
   "mimetype": "text/x-python",
   "name": "python",
   "nbconvert_exporter": "python",
   "pygments_lexer": "ipython2",
   "version": "2.7.11"
  }
 },
 "nbformat": 4,
 "nbformat_minor": 0
}
