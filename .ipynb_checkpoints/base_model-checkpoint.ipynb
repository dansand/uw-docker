{
 "cells": [
  {
   "cell_type": "markdown",
   "metadata": {
    "collapsed": true
   },
   "source": [
    "\n",
    "Viscoplastic thermal convection in a 2-D square box\n",
    "=======\n",
    "\n",
    "Benchmarks from Tosi et al. 2015\n",
    "--------\n",
    "\n"
   ]
  },
  {
   "cell_type": "markdown",
   "metadata": {
    "collapsed": true
   },
   "source": [
    "This notebook generates models from the <a name=\"ref-1\"/>[(Tosi et al., 2015)](#cite-tosi2015community) in Underworld2. The Underworld2 results are compared to the model run on Fenics. Input files for the Fenics models were provided by Petra Maierova.\n",
    "\n",
    "This example uses the RT PIC solver with classic and nearest neighbour\n",
    "\n",
    "\n",
    "References\n",
    "====\n",
    "\n",
    "<a name=\"cite-tosi2015community\"/><sup>[^](#ref-1) </sup>Tosi, Nicola and Stein, Claudia and Noack, Lena and H&uuml;ttig, Christian and Maierov&aacute;, Petra and Samuel, Henri and Davies, DR and Wilson, CR and Kramer, SC and Thieulot, Cedric and others. 2015. _A community benchmark for viscoplastic thermal convection in a 2-D square box_.\n",
    "\n"
   ]
  },
  {
   "cell_type": "code",
   "execution_count": 1,
   "metadata": {
    "collapsed": false
   },
   "outputs": [
    {
     "data": {
      "text/plain": [
       "u'/Users/dansandiford/Documents/programming/earthsci_code/python/uw-docker'"
      ]
     },
     "execution_count": 1,
     "metadata": {},
     "output_type": "execute_result"
    }
   ],
   "source": [
    "pwd"
   ]
  },
  {
   "cell_type": "markdown",
   "metadata": {},
   "source": [
    "Load python functions needed for underworld. Some additional python functions from os, math and numpy used later on."
   ]
  },
  {
   "cell_type": "code",
   "execution_count": 2,
   "metadata": {
    "collapsed": false
   },
   "outputs": [],
   "source": [
    "#!pip install natsort\n",
    "#!pip install networkx"
   ]
  },
  {
   "cell_type": "code",
   "execution_count": 3,
   "metadata": {
    "collapsed": false
   },
   "outputs": [],
   "source": [
    "import underworld as uw\n",
    "import math\n",
    "from underworld import function as fn\n",
    "import glucifer\n",
    "#import matplotlib.pyplot as pyplot\n",
    "import time\n",
    "import numpy as np\n",
    "import os\n",
    "import sys\n",
    "import natsort\n",
    "import shutil\n",
    "\n",
    "from mpi4py import MPI\n",
    "comm = MPI.COMM_WORLD\n",
    "rank = comm.Get_rank()"
   ]
  },
  {
   "cell_type": "code",
   "execution_count": 4,
   "metadata": {
    "collapsed": false
   },
   "outputs": [],
   "source": [
    "############\n",
    "#Model name.  \n",
    "############\n",
    "Model = \"T\"\n",
    "ModNum = 5\n",
    "\n",
    "if len(sys.argv) == 1:\n",
    "    ModIt = \"Base\"\n",
    "elif sys.argv[1] == '-f':\n",
    "    ModIt = \"Base\"\n",
    "else:\n",
    "    ModIt = str(sys.argv[1])\n"
   ]
  },
  {
   "cell_type": "code",
   "execution_count": 5,
   "metadata": {
    "collapsed": true
   },
   "outputs": [],
   "source": [
    "###########\n",
    "#Standard output directory setup\n",
    "###########\n",
    "\n",
    "\n",
    "outputPath = \"results\" + \"/\" +  str(Model) + \"/\" + str(ModNum) + \"/\" + str(ModIt) + \"/\"\n",
    "imagePath = outputPath + 'images/'\n",
    "filePath = outputPath + 'files/'\n",
    "checkpointPath = outputPath + 'checkpoint/'\n",
    "dbPath = outputPath + 'gldbs/'\n",
    "outputFile = 'results_model' + Model + '_' + str(ModNum) + '_' + str(ModIt) + '.dat'\n",
    "\n",
    "if uw.rank()==0:\n",
    "    # make directories if they don't exist\n",
    "    if not os.path.isdir(outputPath):\n",
    "        os.makedirs(outputPath)\n",
    "    if not os.path.isdir(checkpointPath):\n",
    "        os.makedirs(checkpointPath)\n",
    "    if not os.path.isdir(imagePath):\n",
    "        os.makedirs(imagePath)\n",
    "    if not os.path.isdir(dbPath):\n",
    "        os.makedirs(dbPath)\n",
    "    if not os.path.isdir(filePath):\n",
    "        os.makedirs(filePath)"
   ]
  },
  {
   "cell_type": "code",
   "execution_count": 6,
   "metadata": {
    "collapsed": false
   },
   "outputs": [
    {
     "name": "stdout",
     "output_type": "stream",
     "text": [
      "results/T/5/Base/checkpoint/ is empty\n"
     ]
    }
   ],
   "source": [
    "###########\n",
    "#Check if starting from checkpoint\n",
    "###########\n",
    "\n",
    "checkdirs = []\n",
    "for dirpath, dirnames, files in os.walk(checkpointPath):\n",
    "    if files:\n",
    "        print dirpath, 'has files'\n",
    "        checkpointLoad = True\n",
    "        checkdirs.append(dirpath)\n",
    "    if not files:\n",
    "        print dirpath, 'is empty'\n",
    "        checkpointLoad = False"
   ]
  },
  {
   "cell_type": "markdown",
   "metadata": {},
   "source": [
    "Set physical constants and parameters, including the Rayleigh number (*RA*). "
   ]
  },
  {
   "cell_type": "code",
   "execution_count": 7,
   "metadata": {
    "collapsed": true
   },
   "outputs": [],
   "source": [
    "#############\n",
    "#This allows dot notation for grabbing Dictionary values using keys\n",
    "#http://stackoverflow.com/questions/2352181/how-to-use-a-dot-to-access-members-of-dictionary\n",
    "#############\n",
    "class Map(dict):\n",
    "    \"\"\"\n",
    "    Example:\n",
    "    m = Map({'first_name': 'Eduardo'}, last_name='Pool', age=24, sports=['Soccer'])\n",
    "    \"\"\"\n",
    "    def __init__(self, *args, **kwargs):\n",
    "        super(Map, self).__init__(*args, **kwargs)\n",
    "        for arg in args:\n",
    "            if isinstance(arg, dict):\n",
    "                for k, v in arg.iteritems():\n",
    "                    self[k] = v\n",
    "\n",
    "        if kwargs:\n",
    "            for k, v in kwargs.iteritems():\n",
    "                self[k] = v\n",
    "\n",
    "    def __getattr__(self, attr):\n",
    "        return self.get(attr)\n",
    "\n",
    "    def __setattr__(self, key, value):\n",
    "        self.__setitem__(key, value)\n",
    "\n",
    "    def __setitem__(self, key, value):\n",
    "        super(Map, self).__setitem__(key, value)\n",
    "        self.__dict__.update({key: value})\n",
    "\n",
    "    def __delattr__(self, item):\n",
    "        self.__delitem__(item)\n",
    "\n",
    "    def __delitem__(self, key):\n",
    "        super(Map, self).__delitem__(key)\n",
    "        del self.__dict__[key]"
   ]
  },
  {
   "cell_type": "code",
   "execution_count": 48,
   "metadata": {
    "collapsed": false
   },
   "outputs": [],
   "source": [
    "###########\n",
    "#Physical parameters\n",
    "###########\n",
    "\n",
    "#The Slippy rheology class will contain dimensional and nondimensional values, linked in a self-consistent way by scaling paramters\n",
    "#lowermantle.nondimensional['cohesion']\n",
    "#Where lowermantle is a material class (generated within a rheology class); and non dimensional is a dictionary\n",
    "\n",
    "#UW naming conventions: \n",
    "#module_name, package_name, ClassName, function_name, method_name, \n",
    "#ExceptionName, propertyName GLOBAL_CONSTANT_NAME, globalVarName, instanceVarName, functionParameterName, localVarName\n",
    "###########\n",
    "\n",
    "\n",
    "newvisc= math.exp(math.log(1e5)*0.53) #A factor that appears because I rescale the reference viscosity, compared to the one used in Tosi et al.\n",
    "#Where 1e5 = ETAT, and 0.53 is the steady state average temp of the system \n",
    "\n",
    "#These dictionaries are somehow similar to what will eveltually appear in the Rheology class.\n",
    "dim = Map({'LS':2890.*1e3,'rho':3300,'g':9.81, 'kappa':10**-6,'alpha':1.25*10**-5, 'deltaT':2500})\n",
    "nondim = Map({'RA':1e2*newvisc, 'LS':1., 'etaT':1e5, 'etaY':10., 'eta0':1e-3*newvisc, 'TS':0.,'TB':1., 'cohesion':1.*newvisc})\n",
    "\n",
    "\n",
    "#dimsional values used in this model\n",
    "D = dim.LS\n",
    "g = dim.g\n",
    "rho = dim.rho\n",
    "a = dim.alpha\n",
    "kappa = dim.kappa\n",
    "dT = dim.deltaT\n",
    "\n",
    "#nondimensional values used in this model\n",
    "RA  = nondim.RA      # Rayleigh number\n",
    "TS  = nondim.TS          # surface temperature\n",
    "TB  = nondim.TB           # bottom boundary temperature (melting point)\n",
    "ETA_T = nondim.etaT\n",
    "ETA_Y = nondim.etaY\n",
    "ETA0 = nondim.eta0\n",
    "YSTRESS = nondim.cohesion\n",
    "\n",
    "#A few paramters defining lengths scales, affects materal transistions etc.\n",
    "MANTLETOCRUST = (27.*1e3)/D #Crust depth\n",
    "CRUSTTOMANTLE = (300.*1e3)/D\n",
    "LITHTOMANTLE = (660.*1e3)/D\n",
    "MANTLETOLITH = (200.*1e3)/D\n",
    "TOPOHEIGHT = (15.*1e3)/D #rock-air topography limits\n",
    "AVGTEMP = 0.53 #Used to define lithosphere\n",
    "\n",
    "\n",
    "\n",
    "#Compositional Rayliegh number of rock-air\n",
    "ETAREF = rho*g*a*dT*((D*1e3)**3)/(RA*kappa) #equivalent dimesnional reference viscosity\n",
    "RC = (3300*g*(D*1000)**3)/(ETAREF *kappa) #Composisitional Rayleigh number for rock-air buoyancy force\n",
    "COMP_RA_FACT = RC/RA\n",
    "\n",
    "\n",
    "#Additional dimensionless paramters\n",
    "AIRVISCOSITY = 0.001\n",
    "AIRDENSITY = RA*COMP_RA_FACT\n",
    "\n",
    "\n",
    "#######################To be replaced soon\n",
    "#Physical parameters that can be defined with STDIN,\n",
    "#The == '-f': check is a a hack check to see cover the notebook case\n",
    "if len(sys.argv) == 1:\n",
    "    YSTRESS = YSTRESS\n",
    "elif sys.argv[1] == '-f':\n",
    "    YSTRESS = YSTRESS\n",
    "else:\n",
    "    YSTRESS = float(sys.argv[1])*newvisc"
   ]
  },
  {
   "cell_type": "code",
   "execution_count": 10,
   "metadata": {
    "collapsed": false
   },
   "outputs": [],
   "source": [
    "###########\n",
    "#Model setup parameters\n",
    "###########\n",
    "\n",
    "stickyAir = True\n",
    "\n",
    "MINX = 0.\n",
    "MINY = 0.\n",
    "MAXX = 1.0\n",
    "MAXY = 1.035\n",
    "\n",
    "if MINX == 0.:\n",
    "    squareModel = True\n",
    "else: \n",
    "    squareModel = False\n",
    "    \n",
    "    \n",
    "dim = 2          # number of spatial dimensions\n",
    "\n",
    "\n",
    "#MESH STUFF\n",
    "\n",
    "RES = 128\n",
    "\n",
    "if MINX == 0.:\n",
    "    Xres = RES\n",
    "else:\n",
    "    Xres = 2*RES\n",
    "    \n",
    "if stickyAir:\n",
    "    Yres = RES\n",
    "    MAXY = 1.035\n",
    "\n",
    "else:\n",
    "    Yres = RES\n",
    "    MAXY = 1.\n",
    "    \n",
    "    \n",
    "yelsize = MAXY/Yres\n",
    "MAXY, yelsize, yelsize*D\n",
    "\n",
    "periodic = [False,False]\n",
    "elementType = \"Q1/dQ0\"\n",
    "#elementType =\"Q2/DPC1\"\n",
    "\n",
    "refineMesh = False\n",
    "\n",
    "s = 1.2 #Mesh refinement parameter\n",
    "ALPHA = 11. #Mesh refinement parameter\n",
    "\n",
    "#System/Solver stuff\n",
    "\n",
    "PIC_integration=False"
   ]
  },
  {
   "cell_type": "code",
   "execution_count": 11,
   "metadata": {
    "collapsed": false
   },
   "outputs": [],
   "source": [
    "###########\n",
    "#Model Runtime parameters\n",
    "###########\n",
    "\n",
    "steps_end = 5\n",
    "swarm_update = 100\n",
    "swarm_repop = 50\n",
    "files_output = 250\n",
    "gldbs_output = 500\n",
    "images_output = 250\n",
    "checkpoint_every = 250\n",
    "metric_output = 100\n",
    "sticky_air_temp = 10\n",
    "\n"
   ]
  },
  {
   "cell_type": "code",
   "execution_count": 12,
   "metadata": {
    "collapsed": false
   },
   "outputs": [],
   "source": [
    "###########\n",
    "#Model output parameters\n",
    "###########\n",
    "\n",
    "#Do you want to write hdf5 files - Temp, RMS, viscosity, stress?\n",
    "writeFiles = True\n",
    "loadTemp = True\n",
    "\n",
    "    "
   ]
  },
  {
   "cell_type": "code",
   "execution_count": 13,
   "metadata": {
    "collapsed": false
   },
   "outputs": [],
   "source": [
    "elementMesh = uw.mesh.FeMesh_Cartesian( elementType= elementType, \n",
    "                                         elementRes=(Xres, Yres), \n",
    "                                           minCoord=(MINX,MINY), \n",
    "                                           maxCoord=(MAXX,MAXY), periodic=periodic)\n",
    "linearMesh   = elementMesh\n",
    "constantMesh = elementMesh.subMesh "
   ]
  },
  {
   "cell_type": "markdown",
   "metadata": {},
   "source": [
    "Create Finite Element (FE) variables for the velocity, pressure and temperature fields. The last two of these are scalar fields needing only one value at each mesh point, while the velocity field contains a vector of *dim* dimensions at each mesh point."
   ]
  },
  {
   "cell_type": "code",
   "execution_count": 14,
   "metadata": {
    "collapsed": false
   },
   "outputs": [],
   "source": [
    "velocityField       = uw.mesh.MeshVariable( mesh=elementMesh,         nodeDofCount=dim )\n",
    "pressureField       = uw.mesh.MeshVariable( mesh=elementMesh.subMesh, nodeDofCount=1 )\n",
    "temperatureField    = uw.mesh.MeshVariable( mesh=elementMesh,         nodeDofCount=1 )\n",
    "temperatureDotField = uw.mesh.MeshVariable( mesh=elementMesh,         nodeDofCount=1 )"
   ]
  },
  {
   "cell_type": "markdown",
   "metadata": {},
   "source": [
    "Create some dummy fevariables for doing top and bottom boundary calculations."
   ]
  },
  {
   "cell_type": "markdown",
   "metadata": {},
   "source": [
    "##Refine mesh"
   ]
  },
  {
   "cell_type": "code",
   "execution_count": 15,
   "metadata": {
    "collapsed": true
   },
   "outputs": [],
   "source": [
    "if refineMesh:\n",
    "    alpha=ALPHA\n",
    "    newys = []\n",
    "    newxs = []\n",
    "    for index, coord in enumerate(linearMesh.data):\n",
    "        y0 = coord[1]\n",
    "        x0 = abs(coord[0])\n",
    "        if y0 >= 1.0:\n",
    "            newy = y0\n",
    "        else:\n",
    "            newy = (math.log(alpha*y0 + math.e) - 1)*(1/(math.log(alpha + math.e) - 1))\n",
    "        newx = (math.log((alpha/2.)*x0 + math.e) - 1)*(1/(math.log((alpha/2.) + math.e) - 1))\n",
    "        if coord[0] <= 0:\n",
    "            newx = -1.*newx\n",
    "        newys.append(newy)\n",
    "        newxs.append(newx)\n",
    "        \n",
    "    with linearMesh.deform_mesh():\n",
    "        linearMesh.data[:,1] = newys\n",
    "        linearMesh.data[:,0] = newxs"
   ]
  },
  {
   "cell_type": "markdown",
   "metadata": {
    "collapsed": true
   },
   "source": [
    "#THis one for the rectangular mesh\n",
    "\n",
    "if refineMesh:\n",
    "    alpha = ALPHA\n",
    "    newys = []\n",
    "    newxs = []\n",
    "    for index, coord in enumerate(linearMesh.data):\n",
    "        y0 = coord[1]\n",
    "        x0 = abs(coord[0])\n",
    "        if y0 == MAXY:\n",
    "            newy = y0\n",
    "        else:\n",
    "            ynorm = y0/MAXY\n",
    "            newy = MAXY*(math.log(alpha*ynorm + math.e) - 1)*(1/(math.log(alpha + math.e) - 1))\n",
    "        if coord[0] > 0:\n",
    "            newx = (math.e**(x0*(math.log((alpha/2.) + math.e) - 1) + 1 ) - math.e)/(alpha/2.)\n",
    "        else:\n",
    "            newx = -1.*(math.e**(x0*(math.log((alpha/2.) + math.e) - 1) + 1 ) - math.e)/(alpha/2.)\n",
    "        newys.append(newy)\n",
    "        newxs.append(newx)\n",
    "        #print y0,newy\n",
    "\n",
    "    with linearMesh.deform_mesh():\n",
    "            linearMesh.data[:,1] = newys\n",
    "            linearMesh.data[:,0] = newxs"
   ]
  },
  {
   "cell_type": "markdown",
   "metadata": {
    "collapsed": false
   },
   "source": [
    "ay = elementMesh.minCoord[1]\n",
    "by = elementMesh.maxCoord[1]\n",
    "ax = 0.\n",
    "bx = elementMesh.maxCoord[0]\n",
    "\n",
    "newys = []\n",
    "newxs = []\n",
    "for index, coord in enumerate(elementMesh.data):\n",
    "    y0 = coord[1]\n",
    "    x0 = abs(coord[0])\n",
    "    newy =(by - (ay + (by-ay)*((by - y0)/(by-ay))**s))\n",
    "    newx =((ax + (bx-ax)*((bx - x0)/(bx-ax))**s))\n",
    "    if coord[0] < 0.:\n",
    "        newx *= -1.\n",
    "        \n",
    "    newys.append(newy)\n",
    "    newxs.append(newx)\n",
    "    \n",
    "if refineMesh:\n",
    "    with elementMesh.deform_mesh():\n",
    "        elementMesh.data[:,1] = newys\n",
    "        elementMesh.data[:,0] = newxs"
   ]
  },
  {
   "cell_type": "code",
   "execution_count": 16,
   "metadata": {
    "collapsed": false
   },
   "outputs": [
    {
     "data": {
      "text/html": [
       "<img src='data:image/png;base64,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'>"
      ],
      "text/plain": [
       "<IPython.core.display.HTML object>"
      ]
     },
     "execution_count": 16,
     "metadata": {},
     "output_type": "execute_result"
    }
   ],
   "source": [
    "meshfig = glucifer.Figure(figsize=(800,400))\n",
    "meshfig.append( glucifer.objects.Mesh(elementMesh) )\n",
    "meshfig.show()\n",
    "#meshfig.save_database('test.gldb')"
   ]
  },
  {
   "cell_type": "markdown",
   "metadata": {},
   "source": [
    "#ICs and BCs"
   ]
  },
  {
   "cell_type": "code",
   "execution_count": 17,
   "metadata": {
    "collapsed": false
   },
   "outputs": [],
   "source": [
    "# Initialise data.. Note that we are also setting boundary conditions here\n",
    "velocityField.data[:] = [0.,0.]\n",
    "pressureField.data[:] = 0.\n",
    "temperatureField.data[:] = 0.\n",
    "temperatureDotField.data[:] = 0.\n",
    "\n",
    "# Setup temperature initial condition via numpy arrays\n",
    "A = 0.01\n",
    "#Note that width = height = 1\n",
    "tempNump = temperatureField.data\n",
    "for index, coord in enumerate(linearMesh.data):\n",
    "    pertCoeff = (1- coord[1]) + A*math.cos( math.pi * abs(1. - coord[0]) ) * math.sin( math.pi * coord[1] )\n",
    "    tempNump[index] = pertCoeff;\n",
    "    if coord[1] > 1:\n",
    "        tempNump[index] = 0."
   ]
  },
  {
   "cell_type": "code",
   "execution_count": 18,
   "metadata": {
    "collapsed": false
   },
   "outputs": [],
   "source": [
    "#For notebook runs\n",
    "#ModIt = \"96\""
   ]
  },
  {
   "cell_type": "code",
   "execution_count": null,
   "metadata": {
    "collapsed": true
   },
   "outputs": [],
   "source": []
  },
  {
   "cell_type": "code",
   "execution_count": 19,
   "metadata": {
    "collapsed": false
   },
   "outputs": [],
   "source": [
    "##############\n",
    "#a little workaround for change in Load Style\n",
    "##############\n",
    "\n",
    "import libUnderworld\n",
    "def _oldload(self, path):\n",
    "    libUnderworld.StgFEM.FeVariable_ReadFromFile( self._cself, path)\n",
    "    \n",
    "#uw.fevariable._fevariable.FeVariable._oldload = _oldload # monkey patch fevariable\n",
    "uw.meshvariable.MeshVariable._oldload = _oldload # monkey patch fevariable  "
   ]
  },
  {
   "cell_type": "code",
   "execution_count": 20,
   "metadata": {
    "collapsed": false
   },
   "outputs": [],
   "source": [
    "########################################\n",
    "#No sticky air, square models\n",
    "########################################\n",
    "\n",
    "if (loadTemp == True) and (refineMesh == False) and (squareModel == True) and (stickyAir == False) and not checkdirs:\n",
    "    print \"True\"\n",
    "    if ModIt == str(96):\n",
    "        temperatureField._oldload('temp_ics/1.0_96_init_temp.hdf5')\n",
    "    elif ModIt == str(128):\n",
    "        temperatureField._oldload('temp_ics/1.0_128_init_temp.hdf5')\n",
    "    elif ModIt == str(144):\n",
    "        temperatureField._oldload('temp_ics/1.0_144_init_temp.hdf5')\n",
    "    elif ModIt == str(192):\n",
    "        temperatureField._oldload('temp_ics/1.0_192_init_temp.hdf5')\n",
    "    elif ModIt == str(256):\n",
    "        temperatureField._oldload('temp_ics/1.0_256_init_temp.hdf5')\n",
    "elif (loadTemp == True) and (refineMesh == True) and (squareModel == True) and (stickyAir == False) and not checkdirs:\n",
    "    print \"True\"\n",
    "    if ModIt == str(96):\n",
    "        temperatureField._oldload('temp_ics/r11_1.0_96_init_temp.hdf5')\n",
    "    elif ModIt == str(128):\n",
    "        temperatureField._oldload('temp_ics/r11_1.0_128_init_temp.hdf5')\n",
    "    elif ModIt == str(144):\n",
    "        temperatureField._oldload('temp_ics/r11_1.0_144_init_temp.hdf5')\n",
    "    elif ModIt == str(192):\n",
    "        temperatureField._oldload('temp_ics/r11_1.0_192_init_temp.hdf5')\n",
    "    elif ModIt == str(256):\n",
    "        temperatureField._oldload('temp_ics/r11_1.0_256_init_temp.hdf5') "
   ]
  },
  {
   "cell_type": "code",
   "execution_count": 21,
   "metadata": {
    "collapsed": false
   },
   "outputs": [
    {
     "name": "stdout",
     "output_type": "stream",
     "text": [
      "True\n"
     ]
    }
   ],
   "source": [
    "########################################\n",
    "#Sticky air, square models\n",
    "########################################\n",
    "if (loadTemp == True) and (refineMesh == False) and (squareModel == True) and (stickyAir == True) and not checkdirs:\n",
    "    print \"True\"\n",
    "    if ModIt == str(96):\n",
    "        temperatureField._oldload('temp_ics/sqa_96_init_temp.hdf5')\n",
    "    elif ModIt == str(128):\n",
    "        temperatureField._oldload('temp_ics/sqa_128_init_temp.hdf5')\n",
    "    elif ModIt == str(144):\n",
    "        temperatureField._oldload('temp_ics/sqa_144_init_temp.hdf5')\n",
    "    elif ModIt == str(192):\n",
    "        temperatureField._oldload('temp_ics/sqa_192_init_temp.hdf5')\n",
    "    elif ModIt == str(256):\n",
    "        temperatureField._oldload('temp_ics/sqa_256_init_temp.hdf5')\n",
    "elif (loadTemp == True) and (refineMesh == True) and (squareModel == True) and (stickyAir == True) and not checkdirs:\n",
    "    print \"True\"\n",
    "    if ModIt == str(96):\n",
    "        temperatureField._oldload('temp_ics/r11_sqa_96_init_temp.hdf5')\n",
    "    elif ModIt == str(128):\n",
    "        temperatureField._oldload('temp_ics/r11_sqa_128_init_temp.hdf5')\n",
    "    elif ModIt == str(144):\n",
    "        temperatureField._oldload('temp_ics/r11_sqa_144_init_temp.hdf5')\n",
    "    elif ModIt == str(192):\n",
    "        temperatureField._oldload('temp_ics/r11_sqa_192_init_temp.hdf5')\n",
    "    elif ModIt == str(256):\n",
    "        temperatureField._oldload('temp_ics/r11_sqa_256_init_temp.hdf5') "
   ]
  },
  {
   "cell_type": "code",
   "execution_count": 22,
   "metadata": {
    "collapsed": false
   },
   "outputs": [],
   "source": [
    "########################################\n",
    "#Sticky air, rectangular models\n",
    "########################################\n",
    "\n",
    "if (loadTemp == True) and (refineMesh == False) and (squareModel == False) and (stickyAir == True) and not checkdirs:\n",
    "    print \"True\"\n",
    "    if ModIt == str(96):\n",
    "        temperatureField._oldload('temp_ics/sa_96_init_temp.hdf5')\n",
    "    elif ModIt == str(128):\n",
    "        temperatureField._oldload('temp_ics/sa_128_init_temp.hdf5')\n",
    "    elif ModIt == str(144):\n",
    "        temperatureField._oldload('temp_ics/sa_144_init_temp.hdf5')\n",
    "    elif ModIt == str(192):\n",
    "        temperatureField._oldload('temp_ics/sa_192_init_temp.hdf5')\n",
    "    elif ModIt == str(256):\n",
    "        temperatureField._oldload('temp_ics/sa_256_init_temp.hdf5')\n",
    "elif (loadTemp == True) and (refineMesh == True) and (squareModel == False) and (stickyAir == True) and not checkdirs:\n",
    "    print \"True\"\n",
    "    if ModIt == str(96):\n",
    "        temperatureField._oldload('temp_ics/r11_sa_96_init_temp.hdf5')\n",
    "    elif ModIt == str(128):\n",
    "        temperatureField._oldload('temp_ics/r11_sa_128_init_temp.hdf5')\n",
    "    elif ModIt == str(144):\n",
    "        temperatureField._oldload('temp_ics/r11_sa_144_init_temp.hdf5')\n",
    "    elif ModIt == str(192):\n",
    "        temperatureField._oldload('temp_ics/r11_sa_192_init_temp.hdf5')\n",
    "    elif ModIt == str(256):\n",
    "        temperatureField._oldload('temp_ics/r11_sa_256_init_temp.hdf5')"
   ]
  },
  {
   "cell_type": "markdown",
   "metadata": {
    "collapsed": true
   },
   "source": [
    "dres = 96\n",
    "dummyelementMesh = uw.mesh.FeMesh_Cartesian( elementType = (\"Q1/dQ0\"), \n",
    "                                         elementRes = (dres, dres), \n",
    "                                           minCoord = (0., 0.), \n",
    "                                           maxCoord = (1., 1.))\n",
    "\n",
    "dummytemperatureMesh = dummyelementMesh \n",
    "dummytemperatureField = uw.fevariable.FeVariable( feMesh=dummytemperatureMesh, nodeDofCount=1 )\n",
    "dummytemperatureField.load('temp_ics/temperatureField_4_10200.hdf5')\n",
    "\n",
    "for index, coord in enumerate(linearMesh.data):\n",
    "    #This bit determines whether you see a reflected image or not\n",
    "    #xpos, ypos = (1.- abs(coord[0])), coord[1]\n",
    "    xpos, ypos = (abs(coord[0])), coord[1]\n",
    "    if ypos >= 1:\n",
    "        temperatureField.data[index] = 0.\n",
    "    else:\n",
    "        #print(dummytemperatureField.evaluate((xpos, ypos)))\n",
    "        #randpert = np.random.rand(1)[0]*(50./2500)\n",
    "        randpert = 0.\n",
    "        #Don't know mesh partitions in advance, and possible diferent between 'real' and 'dummy' mesh\n",
    "        try:\n",
    "            temperatureField.data[index] = dummytemperatureField.evaluate((xpos, ypos))  + randpert\n",
    "        except:\n",
    "            pass\n",
    "            \n",
    "temperatureField.save('temp_ics/r11_1.0_144_init_temp.hdf5')"
   ]
  },
  {
   "cell_type": "markdown",
   "metadata": {
    "collapsed": true
   },
   "source": []
  },
  {
   "cell_type": "code",
   "execution_count": null,
   "metadata": {
    "collapsed": true
   },
   "outputs": [],
   "source": []
  },
  {
   "cell_type": "code",
   "execution_count": 23,
   "metadata": {
    "collapsed": false
   },
   "outputs": [],
   "source": [
    "#icfnam= \"R(11)_\" + \"2_\" + str(RES) + \"_init_temp.hdf5\"\n",
    "#icpath = \"temp_ics/\" + icfnam \n",
    "#icfnam= str(Model) + str(ModIt) + \"_init_temp.hdf5\"\n",
    "#temperatureField.save(icpath)\n",
    "#icfnam\n",
    "#icpath"
   ]
  },
  {
   "cell_type": "code",
   "execution_count": 24,
   "metadata": {
    "collapsed": false
   },
   "outputs": [],
   "source": [
    "# Get the actual sets \n",
    "#\n",
    "#  HJJJJJJH\n",
    "#  I      I\n",
    "#  I      I\n",
    "#  I      I\n",
    "#  HJJJJJJH\n",
    "#  \n",
    "#  Note that H = I & J \n",
    "\n",
    "# Note that we use operator overloading to combine sets\n",
    "IWalls = linearMesh.specialSets[\"MinI_VertexSet\"] + linearMesh.specialSets[\"MaxI_VertexSet\"]\n",
    "JWalls = linearMesh.specialSets[\"MinJ_VertexSet\"] + linearMesh.specialSets[\"MaxJ_VertexSet\"]\n",
    "TWalls = linearMesh.specialSets[\"MaxJ_VertexSet\"]\n",
    "BWalls = linearMesh.specialSets[\"MinJ_VertexSet\"]"
   ]
  },
  {
   "cell_type": "code",
   "execution_count": null,
   "metadata": {
    "collapsed": true
   },
   "outputs": [],
   "source": []
  },
  {
   "cell_type": "code",
   "execution_count": 25,
   "metadata": {
    "collapsed": false
   },
   "outputs": [],
   "source": [
    "# Now setup the dirichlet boundary condition\n",
    "# Note that through this object, we are flagging to the system \n",
    "# that these nodes are to be considered as boundary conditions. \n",
    "# Also note that we provide a tuple of sets.. One for the Vx, one for Vy.\n",
    "freeslipBC = uw.conditions.DirichletCondition(     variable=velocityField, \n",
    "                                              indexSetsPerDof=(IWalls, JWalls) )\n",
    "\n",
    "# also set dirichlet for temp field\n",
    "tempBC = uw.conditions.DirichletCondition(     variable=temperatureField, \n",
    "                                              indexSetsPerDof=(JWalls,) )"
   ]
  },
  {
   "cell_type": "markdown",
   "metadata": {},
   "source": [
    "##Add Random 125 K temp perturbation\n"
   ]
  },
  {
   "cell_type": "code",
   "execution_count": 26,
   "metadata": {
    "collapsed": true
   },
   "outputs": [],
   "source": [
    "tempNump = temperatureField.data\n",
    "\n",
    "#In gerneral we only want to do this on the initial setup, not restarts\n",
    "\n",
    "if not checkpointLoad:\n",
    "    for index, coord in enumerate(linearMesh.data):\n",
    "        pertCoeff = (0.05*np.random.rand(1)[0])\n",
    "        ict = tempNump[index]\n",
    "        tempNump[index] = ict + pertCoeff"
   ]
  },
  {
   "cell_type": "markdown",
   "metadata": {},
   "source": [
    "##Reset bottom Dirichlet conds."
   ]
  },
  {
   "cell_type": "code",
   "execution_count": 27,
   "metadata": {
    "collapsed": false
   },
   "outputs": [],
   "source": [
    "# Set temp boundaries \n",
    "# on the boundaries\n",
    "for index in linearMesh.specialSets[\"MinJ_VertexSet\"]:\n",
    "    temperatureField.data[index] = TB\n",
    "for index in linearMesh.specialSets[\"MaxJ_VertexSet\"]:\n",
    "    temperatureField.data[index] = TS"
   ]
  },
  {
   "cell_type": "code",
   "execution_count": 28,
   "metadata": {
    "collapsed": false
   },
   "outputs": [
    {
     "data": {
      "text/plain": [
       "[]"
      ]
     },
     "execution_count": 28,
     "metadata": {},
     "output_type": "execute_result"
    }
   ],
   "source": [
    "checkdirs"
   ]
  },
  {
   "cell_type": "code",
   "execution_count": null,
   "metadata": {
    "collapsed": true
   },
   "outputs": [],
   "source": []
  },
  {
   "cell_type": "markdown",
   "metadata": {},
   "source": [
    "# Particles"
   ]
  },
  {
   "cell_type": "code",
   "execution_count": 29,
   "metadata": {
    "collapsed": false
   },
   "outputs": [],
   "source": [
    "###########\n",
    "#Material Swarm and variables\n",
    "###########\n",
    "\n",
    "gSwarm = uw.swarm.Swarm(mesh=elementMesh )\n",
    "materialVariable = gSwarm.add_variable( dataType=\"char\", count=1 )\n",
    "rockIntVar = gSwarm.add_variable( dataType=\"double\", count=1 )\n",
    "airIntVar = gSwarm.add_variable( dataType=\"double\", count=1 )\n",
    "lithIntVar = gSwarm.add_variable( dataType=\"double\", count=1 )\n",
    "\n",
    "varlist = [materialVariable, rockIntVar, airIntVar, lithIntVar]\n",
    "varnames = ['materialVariable', 'rockIntVar', 'airIntVar', 'lithIntVar']"
   ]
  },
  {
   "cell_type": "code",
   "execution_count": 30,
   "metadata": {
    "collapsed": true
   },
   "outputs": [],
   "source": [
    "###########\n",
    "#Swarms for surface intragrals when using Sticky air\n",
    "###########\n",
    "\n",
    "snum = 1000.\n",
    "dx = (linearMesh.data[:,0].max()- linearMesh.data[:,0].min())/snum\n",
    "yp = 0.9947 #1. - yelsize/2. at res = 96\n",
    "\n",
    "linearMesh.data[:,0].max()\n",
    "xps = np.linspace(linearMesh.data[:,0].min(),linearMesh.data[:,0].max(), snum)\n",
    "yps = [yp for i in xps]\n",
    "\n",
    "surfintswarm = uw.swarm.Swarm( mesh=elementMesh )\n",
    "dumout = surfintswarm.add_particles_with_coordinates(np.array((xps,yps)).T)\n",
    "\n",
    "yps = [ 1.- yp  for i in xps]\n",
    "\n",
    "baseintswarm = uw.swarm.Swarm( mesh=elementMesh )\n",
    "dumout = baseintswarm.add_particles_with_coordinates(np.array((xps,yps)).T)"
   ]
  },
  {
   "cell_type": "markdown",
   "metadata": {},
   "source": [
    "#Initialise swarm variables, or Swarm checkpoint load"
   ]
  },
  {
   "cell_type": "code",
   "execution_count": 31,
   "metadata": {
    "collapsed": false
   },
   "outputs": [],
   "source": [
    "mantleIndex = 0\n",
    "lithosphereIndex = 1\n",
    "crustIndex = 2\n",
    "airIndex = 3\n",
    "\n",
    "\n",
    "\n",
    "\n",
    "if checkpointLoad:\n",
    "    checkpointLoadDir = natsort.natsorted(checkdirs)[-1]\n",
    "    temperatureField._oldload(os.path.join(checkpointLoadDir, \"temperatureField\" + \".hdf5\"))\n",
    "    pressureField._oldload(os.path.join(checkpointLoadDir, \"pressureField\" + \".hdf5\"))\n",
    "    velocityField._oldload(os.path.join(checkpointLoadDir, \"velocityField\" + \".hdf5\"))\n",
    "    gSwarm.load(os.path.join(checkpointLoadDir, \"swarm\" + \".h5\"))\n",
    "    for ix in range(len(varlist)):\n",
    "        varb = varlist[ix]\n",
    "        varb.load(os.path.join(checkpointLoadDir,varnames[ix] + \".h5\"))\n",
    "\n",
    "else:\n",
    "\n",
    "    # Layouts are used to populate the swarm across the whole domain\n",
    "    # Create the layout object\n",
    "    #layout = uw.swarm.layouts.GlobalSpaceFillerLayout( swarm=gSwarm, particlesPerCell=20)\n",
    "    layout = uw.swarm.layouts.PerCellRandomLayout(swarm=gSwarm, particlesPerCell=15)\n",
    "    # Now use it to populate.\n",
    "    gSwarm.populate_using_layout( layout=layout )\n",
    "\n",
    "    # Lets initialise the 'materialVariable' data to represent different materials\n",
    "    # Set the material to heavy everywhere via the numpy array\n",
    "    materialVariable.data[:] = mantleIndex\n",
    "    \n",
    "    \n",
    "    #Set initial air and crust materials (allow the graph to take care of lithsophere)\n",
    "    #########\n",
    "    #This initial material setup will be model dependent\n",
    "    #########\n",
    "    for particleID in range(gSwarm.particleCoordinates.data.shape[0]):\n",
    "        if (1. - gSwarm.particleCoordinates.data[particleID][1]) < 0:\n",
    "                 materialVariable.data[particleID] = airIndex\n",
    "        elif (1. - gSwarm.particleCoordinates.data[particleID][1]) < MANTLETOCRUST:\n",
    "                 materialVariable.data[particleID] = crustIndex\n"
   ]
  },
  {
   "cell_type": "markdown",
   "metadata": {},
   "source": [
    "#Material Graphs"
   ]
  },
  {
   "cell_type": "code",
   "execution_count": 32,
   "metadata": {
    "collapsed": false
   },
   "outputs": [],
   "source": [
    "##############\n",
    "#Important: This is a quick fix for a bug that arises in parallel runs\n",
    "##############\n",
    "material_list = [0,1,2,3]\n"
   ]
  },
  {
   "cell_type": "code",
   "execution_count": 33,
   "metadata": {
    "collapsed": false
   },
   "outputs": [
    {
     "name": "stdout",
     "output_type": "stream",
     "text": [
      "unique values after swarm has loaded:[0 2 3]\n"
     ]
    }
   ],
   "source": [
    "print( \"unique values after swarm has loaded:\" + str(np.unique(materialVariable.data[:])))\n"
   ]
  },
  {
   "cell_type": "code",
   "execution_count": 34,
   "metadata": {
    "collapsed": false
   },
   "outputs": [],
   "source": [
    "import networkx as nx\n",
    "\n",
    "#All depth conditions are given as (km/D) where D is the length scale, \n",
    "#note that 'model depths' are used, e.g. 1-z, where z is the vertical Underworld coordinate\n",
    "#All temp conditions are in dimensionless temp. [0. - 1.]\n",
    "\n",
    "#######Graph object\n",
    "DG = nx.DiGraph(field=\"Depth\")\n",
    "\n",
    "#######Nodes\n",
    "#Note that the order of materials, deepest to shallowest is important \n",
    "DG.add_node(0, mat='mantle')\n",
    "DG.add_node(1, mat='lithosphere')\n",
    "DG.add_node(2, mat='crust')\n",
    "DG.add_node(3, mat='air')\n",
    "\n",
    "\n",
    "labels=dict((n,d['mat']) for n,d in DG.nodes(data=True))\n",
    "pos=nx.spring_layout(DG) \n",
    "\n",
    "\n",
    "#######Edges\n",
    "#anything to air\n",
    "DG.add_edges_from([(0,3),(1,3), (2,3)])\n",
    "DG[0][3]['depthcondition'] = -1*TOPOHEIGHT\n",
    "DG[1][3]['depthcondition'] = -1*TOPOHEIGHT\n",
    "DG[2][3]['depthcondition'] = -1*TOPOHEIGHT\n",
    "\n",
    "\n",
    "#Anything to mantle\n",
    "DG.add_edges_from([(2,0), (3,0), (1,0)])\n",
    "DG[3][0]['depthcondition'] = TOPOHEIGHT\n",
    "DG[2][0]['depthcondition'] = CRUSTTOMANTLE\n",
    "DG[1][0]['depthcondition'] = LITHTOMANTLE #This means we're going to kill lithosphere at the 660.\n",
    "\n",
    "\n",
    "#Anything to lithsphere\n",
    "DG.add_edges_from([(0,1),(3,1)])\n",
    "DG[0][1]['depthcondition'] = MANTLETOLITH\n",
    "DG[0][1]['avgtempcondition'] = 0.75*AVGTEMP #definition of thermal lithosphere\n",
    "\n",
    "\n",
    "#Anything to crust\n",
    "DG.add_edges_from([(0,2), (1,2)])\n",
    "DG[0][2]['depthcondition'] = MANTLETOCRUST\n",
    "DG[1][2]['depthcondition'] = MANTLETOCRUST"
   ]
  },
  {
   "cell_type": "code",
   "execution_count": 35,
   "metadata": {
    "collapsed": false
   },
   "outputs": [
    {
     "data": {
      "text/plain": [
       "[0, 1, 2, 3]"
      ]
     },
     "execution_count": 35,
     "metadata": {},
     "output_type": "execute_result"
    }
   ],
   "source": [
    "DG.nodes()"
   ]
  },
  {
   "cell_type": "code",
   "execution_count": 36,
   "metadata": {
    "collapsed": false
   },
   "outputs": [],
   "source": [
    "remove_nodes = []\n",
    "for node in DG.nodes():\n",
    "    if not node in material_list:\n",
    "        remove_nodes.append(node)\n",
    "        \n",
    "for rmnode in remove_nodes:\n",
    "    DG.remove_node(rmnode)"
   ]
  },
  {
   "cell_type": "code",
   "execution_count": 37,
   "metadata": {
    "collapsed": false
   },
   "outputs": [
    {
     "data": {
      "text/plain": [
       "[0, 1, 2, 3]"
      ]
     },
     "execution_count": 37,
     "metadata": {},
     "output_type": "execute_result"
    }
   ],
   "source": [
    "DG.nodes()"
   ]
  },
  {
   "cell_type": "code",
   "execution_count": 38,
   "metadata": {
    "collapsed": false
   },
   "outputs": [],
   "source": [
    "#remove_nodes = []\n",
    "#for node in DG.nodes_iter():\n",
    "#    if not node in material_list:\n",
    "#        remove_nodes.append(node)\n",
    "        \n",
    "#for rmnode in remove_nodes:\n",
    "#    DG.remove_node(rmnode)"
   ]
  },
  {
   "cell_type": "code",
   "execution_count": 39,
   "metadata": {
    "collapsed": true
   },
   "outputs": [],
   "source": [
    "#A Dictionary to map strings in the graph (e.g. 'depthcondition') to particle data arrays\n",
    "\n",
    "particledepths = 1. - gSwarm.particleCoordinates.data[:,1]\n",
    "particletemps = temperatureField.evaluate(gSwarm)[:,0]\n",
    "\n",
    "conditionmap = {}\n",
    "\n",
    "conditionmap['depthcondition'] = {}\n",
    "conditionmap['depthcondition']['data'] = particledepths\n",
    "conditionmap['avgtempcondition'] = {}\n",
    "conditionmap['avgtempcondition']['data'] = particletemps"
   ]
  },
  {
   "cell_type": "code",
   "execution_count": 40,
   "metadata": {
    "collapsed": true
   },
   "outputs": [],
   "source": [
    "def update_swarm(graph, particleIndex):\n",
    "    \"\"\"\n",
    "    This function takes the materials graph (networkx.DiGraph), and a particle index,\n",
    "    then determines if a material update is required \n",
    "    and if so, returns the new materialindex\n",
    "    Args:\n",
    "        graph (networkx.DiGraph): Directed multigraph representing the transformation of material types\n",
    "        particleIndex (int): the particle index as corressponding to the index in the swarm data arrays\n",
    "    Returns:\n",
    "        if update is required the function returns the the new material variable (int) \n",
    "        else returns None\n",
    "    Raises:\n",
    "        TypeError: not implemented\n",
    "        ValueError: not implemented\n",
    "    \"\"\"\n",
    "    ##Egde gives links to other materials, we then query the conditions to see if we should change materials\n",
    "    matId = materialVariable.data[particleIndex][0]\n",
    "    innerchange = False\n",
    "    outerchange = False\n",
    "    for edge in graph[matId]:\n",
    "        if outerchange:\n",
    "            break\n",
    "        for cond in graph[matId][edge].keys():\n",
    "            outerchange = False\n",
    "            if innerchange: #found a complete transition, break inner loop\n",
    "                break\n",
    "            currentparticlevalue = conditionmap[cond]['data'][particleIndex]\n",
    "            crossover = graph[matId][edge][cond]\n",
    "            if ((matId > edge) and (currentparticlevalue > crossover)):\n",
    "                innerchange = False # continue on, \n",
    "                if graph[matId][edge].keys()[-1] == cond:\n",
    "                    outerchange = True\n",
    "                    innerchange = edge\n",
    "                    break\n",
    "            elif ((matId < edge) and (currentparticlevalue < crossover)):\n",
    "                innerchange = False\n",
    "                if graph[matId][edge].keys()[-1] == cond:\n",
    "                    outerchange = True\n",
    "                    innerchange = edge\n",
    "                    break\n",
    "            else:\n",
    "                #condition not met, break outer loop, go to next edge, outerchange should still be False\n",
    "                break\n",
    "    if type(innerchange) == int:\n",
    "        return innerchange"
   ]
  },
  {
   "cell_type": "code",
   "execution_count": 41,
   "metadata": {
    "collapsed": false
   },
   "outputs": [],
   "source": [
    "#Cleanse the swarm of its sins\n",
    "#For some Material Graphs, the graph may have to be treaversed more than once\n",
    "\n",
    "check = -1\n",
    "number_updated = 1\n",
    "\n",
    "while number_updated != 0:\n",
    "    number_updated = 0\n",
    "    for particleID in range(gSwarm.particleCoordinates.data.shape[0]):\n",
    "                check = update_swarm(DG, particleID)\n",
    "                if check > -1:\n",
    "                    number_updated += 1\n",
    "                    materialVariable.data[particleID] = check"
   ]
  },
  {
   "cell_type": "markdown",
   "metadata": {},
   "source": [
    "##Set the values for the masking swarms"
   ]
  },
  {
   "cell_type": "code",
   "execution_count": 42,
   "metadata": {
    "collapsed": false
   },
   "outputs": [],
   "source": [
    "#Setup up a masking Swarm variable for the integrations.\n",
    "#These should be rebuilt at same frequency as the metric calcualtions\n",
    "\n",
    "rockIntVar.data[:] = 0.\n",
    "notair = np.where(materialVariable.data != airIndex)\n",
    "rockIntVar.data[notair] = 1.\n",
    "\n",
    "airIntVar.data[:] = 0.\n",
    "notrock = np.where(materialVariable.data == airIndex)\n",
    "airIntVar.data[notrock] = 1.\n",
    "\n",
    "lithIntVar.data[:] = 0.\n",
    "islith = np.where((materialVariable.data == lithosphereIndex) | (materialVariable.data == crustIndex))\n",
    "lithIntVar.data[islith] = 1.\n"
   ]
  },
  {
   "cell_type": "markdown",
   "metadata": {
    "collapsed": false
   },
   "source": [
    "#Material properties\n"
   ]
  },
  {
   "cell_type": "code",
   "execution_count": 44,
   "metadata": {
    "collapsed": false
   },
   "outputs": [],
   "source": [
    "#Make variables required for plasticity\n",
    "\n",
    "secinv = fn.tensor.second_invariant(\n",
    "                    fn.tensor.symmetric(\n",
    "                        velocityField.fn_gradient ))\n",
    "\n",
    "\n",
    "coordinate = fn.input()\n",
    "depth = 1. - coordinate[1]\n",
    "depthField = uw.mesh.MeshVariable( mesh=linearMesh,   nodeDofCount=1 )\n",
    "depthField.data[:] = depth.evaluate(linearMesh)\n",
    "depthField.data[np.where(depthField.data[:] < 0.)[0]] = 0."
   ]
  },
  {
   "cell_type": "code",
   "execution_count": 45,
   "metadata": {
    "collapsed": false
   },
   "outputs": [],
   "source": [
    "##Basic mantle viscosity Functions\n",
    "viscosityl2 = newvisc*fn.math.exp((math.log(ETA_T)*-1*temperatureField) + (depthField*math.log(ETA_Y)))\n",
    "viscosityFn1 = viscosityl2 #This one always gets passed to the first velcotity solve\n",
    "\n",
    "#Von Mises effective viscosity\n",
    "viscosityp = ETA0 + YSTRESS/(secinv/math.sqrt(0.5)) #extra factor to account for underworld second invariant form\n",
    "viscosityFn2 = 2./(1./viscosityl2 + 1./viscosityp)\n",
    "\n",
    "\n",
    "##Now setup rheolgy for models with crust rheology;\n",
    "\n",
    "viscreduct = 0.1\n",
    "crustviscosityp = viscreduct*ETA0 + ((viscreduct*YSTRESS)/(secinv/math.sqrt(0.5))) #extra factor to account for underworld second invariant form\n",
    "crustviscosityFn2 = 2./(1./viscosityl2 + 1./crustviscosityp)"
   ]
  },
  {
   "cell_type": "code",
   "execution_count": 46,
   "metadata": {
    "collapsed": false
   },
   "outputs": [
    {
     "data": {
      "text/plain": [
       "5.46671580683526e+32"
      ]
     },
     "execution_count": 46,
     "metadata": {},
     "output_type": "execute_result"
    }
   ],
   "source": [
    "ETA0"
   ]
  },
  {
   "cell_type": "code",
   "execution_count": 83,
   "metadata": {
    "collapsed": true
   },
   "outputs": [],
   "source": []
  },
  {
   "cell_type": "markdown",
   "metadata": {},
   "source": [
    "Set up simulation parameters and functions\n",
    "====\n",
    "\n",
    "Here the functions for density, viscosity etc. are set. These functions and/or values are preserved for the entire simulation time. "
   ]
  },
  {
   "cell_type": "code",
   "execution_count": 84,
   "metadata": {
    "collapsed": false
   },
   "outputs": [],
   "source": [
    "# Here we set a viscosity value of '1.' for both materials\n",
    "viscosityMapFn = fn.branching.map( fn_key = materialVariable,\n",
    "                         mapping = {airIndex:AIRVISCOSITY, lithosphereIndex:viscosityFn2, crustIndex:crustviscosityFn2,mantleIndex:viscosityFn2} )\n",
    "\n",
    "densityMapFn = fn.branching.map( fn_key = materialVariable,\n",
    "                         mapping = {airIndex:AIRDENSITY, lithosphereIndex:RA*temperatureField, crustIndex:RA*temperatureField, mantleIndex:RA*temperatureField} )\n",
    "\n",
    "# Define our gravity using a python tuple (this will be automatically converted to a function)\n",
    "gravity = ( 0.0, 1.0 )\n",
    "\n",
    "buoyancyFn = gravity*densityMapFn"
   ]
  },
  {
   "cell_type": "markdown",
   "metadata": {},
   "source": [
    "Build the Stokes system, solvers, advection-diffusion\n",
    "------\n",
    "\n",
    "Setup linear Stokes system to get the initial velocity."
   ]
  },
  {
   "cell_type": "code",
   "execution_count": 59,
   "metadata": {
    "collapsed": false
   },
   "outputs": [],
   "source": [
    "#We first set up a l\n",
    "stokesPIC = uw.systems.Stokes(velocityField=velocityField, \n",
    "                              pressureField=pressureField,\n",
    "                              conditions=[freeslipBC,],\n",
    "#                              viscosityFn=viscosityFn1, \n",
    "                              fn_viscosity=fn.exception.SafeMaths(viscosityFn1), \n",
    "                              fn_bodyforce=buoyancyFn)"
   ]
  },
  {
   "cell_type": "markdown",
   "metadata": {},
   "source": [
    "We do one solve with linear viscosity to get the initial strain rate invariant. This solve step also calculates a 'guess' of the the velocity field based on the linear system, which is used later in the non-linear solver."
   ]
  },
  {
   "cell_type": "code",
   "execution_count": 60,
   "metadata": {
    "collapsed": false
   },
   "outputs": [
    {
     "data": {
      "text/plain": [
       "False"
      ]
     },
     "execution_count": 60,
     "metadata": {},
     "output_type": "execute_result"
    }
   ],
   "source": [
    "checkpointLoad"
   ]
  },
  {
   "cell_type": "code",
   "execution_count": 61,
   "metadata": {
    "collapsed": false
   },
   "outputs": [],
   "source": [
    "if not checkpointLoad:\n",
    "    solver = uw.systems.Solver(stokesPIC)\n",
    "    solver.solve() "
   ]
  },
  {
   "cell_type": "code",
   "execution_count": 62,
   "metadata": {
    "collapsed": false
   },
   "outputs": [],
   "source": [
    "#Switch particle escape on, this will also trigger the inflow population control \n",
    "gSwarm.particleEscape = True"
   ]
  },
  {
   "cell_type": "code",
   "execution_count": 63,
   "metadata": {
    "collapsed": false
   },
   "outputs": [],
   "source": [
    "# Setup the Stokes system again, now with linear or nonlinear visocity viscosity.\n",
    "\n",
    "if PIC_integration:\n",
    "    swarm = gSwarm\n",
    "else:\n",
    "    swarm = False\n",
    "\n",
    "stokesPIC2 = uw.systems.Stokes(velocityField=velocityField, \n",
    "                              pressureField=pressureField,\n",
    "                              conditions=[freeslipBC,],\n",
    "                              fn_viscosity=fn.exception.SafeMaths(viscosityMapFn), \n",
    "                              fn_bodyforce=buoyancyFn, swarm = swarm)"
   ]
  },
  {
   "cell_type": "markdown",
   "metadata": {
    "collapsed": false
   },
   "source": [
    "solver = uw.systems.Solver(stokesPIC2) # altered from PIC2\n",
    "\n",
    "solver.options.main.Q22_pc_type='uwscale'  # also try 'gtkg', 'gkgdiag' and 'uwscale'\n",
    "solver.options.main.penalty = 1.0\n",
    "solver.options.A11.ksp_rtol=1e-6\n",
    "solver.options.scr.ksp_rtol=1e-5\n",
    "solver.options.scr.use_previous_guess = True\n",
    "solver.options.scr.ksp_set_min_it_converge = 1\n",
    "solver.options.scr.ksp_set_max_it = 100\n",
    "solver.options.mg.levels = 4\n",
    "solver.options.mg.mg_levels_ksp_type = 'chebyshev'\n",
    "solver.options.mg_accel.mg_accelerating_smoothing = True\n",
    "solver.options.mg_accel.mg_accelerating_smoothing_view = False\n",
    "solver.options.mg_accel.mg_smooths_to_start = 1"
   ]
  },
  {
   "cell_type": "code",
   "execution_count": 64,
   "metadata": {
    "collapsed": true
   },
   "outputs": [],
   "source": [
    "solver = uw.systems.Solver(stokesPIC2) # altered from PIC2\n",
    "\n",
    "\n",
    "\n",
    "solver.options.main.Q22_pc_type='uw'\n",
    "solver.options.A11.ksp_rtol=1e-7\n",
    "solver.options.scr.ksp_rtol=1e-6\n",
    "solver.options.scr.use_previous_guess = True\n",
    "solver.options.scr.ksp_set_min_it_converge = 6\n",
    "\n",
    "solver.options.mg.levels = 4\n",
    "\n",
    "solver.options.A11.ksp_monitor=''"
   ]
  },
  {
   "cell_type": "markdown",
   "metadata": {},
   "source": [
    "Solve for initial pressure and velocity using a quick non-linear Picard iteration\n"
   ]
  },
  {
   "cell_type": "code",
   "execution_count": 65,
   "metadata": {
    "collapsed": false
   },
   "outputs": [],
   "source": [
    "solver.solve(nonLinearIterate=True)"
   ]
  },
  {
   "cell_type": "markdown",
   "metadata": {},
   "source": [
    "Create an advective-diffusive system\n",
    "=====\n",
    "\n",
    "Setup the system in underworld by flagging the temperature and velocity field variables."
   ]
  },
  {
   "cell_type": "code",
   "execution_count": 66,
   "metadata": {
    "collapsed": false
   },
   "outputs": [],
   "source": [
    "#Create advdiff system\n",
    "\n",
    "\n",
    "\n",
    "advDiff = uw.systems.AdvectionDiffusion( phiField       = temperatureField, \n",
    "                                         phiDotField    = temperatureDotField, \n",
    "                                         velocityField  = velocityField, \n",
    "                                         fn_diffusivity = 1.0, \n",
    "                                         conditions     = [tempBC,] )\n",
    "\n",
    "\n",
    "\n",
    "advector = uw.systems.SwarmAdvector( swarm         = gSwarm, \n",
    "                                     velocityField = velocityField, \n",
    "                                     order         = 1)"
   ]
  },
  {
   "cell_type": "markdown",
   "metadata": {},
   "source": [
    "Metrics for benchmark\n",
    "=====\n",
    "\n",
    "Define functions to be used in the time loop. For cases 1-4, participants were asked to report a number of diagnostic quantities to be measured after reaching steady state:\n",
    "\n",
    "* Average temp... $$  \\langle T \\rangle  = \\int^1_0 \\int^1_0 T \\, dxdy $$\n",
    "* Top and bottom Nusselt numbers... $$N = \\int^1_0 \\frac{\\partial T}{\\partial y} \\rvert_{y=0/1} \\, dx$$\n",
    "* RMS velocity over the whole domain, surface and max velocity at surface\n",
    "* max and min viscosity over the whole domain\n",
    "* average rate of work done against gravity...$$\\langle W \\rangle = \\int^1_0 \\int^1_0 T u_y \\, dx dy$$\n",
    "* and the average rate of viscous dissipation...$$\\langle \\Phi \\rangle = \\int^1_0 \\int^1_0 \\tau_{ij} \\dot \\epsilon_{ij} \\, dx dy$$\n",
    "\n",
    "* In steady state, if thermal energy is accurately conserved, the difference between $\\langle W \\rangle$ and $\\langle \\Phi \\rangle / Ra$ must vanish, so also reported is the percentage error: \n",
    "\n",
    "$$ \\delta = \\frac{\\lvert \\langle W \\rangle - \\frac{\\langle \\Phi \\rangle}{Ra} \\rvert}{max \\left(  \\langle W \\rangle,  \\frac{\\langle \\Phi \\rangle}{Ra}\\right)} \\times 100% $$"
   ]
  },
  {
   "cell_type": "code",
   "execution_count": 67,
   "metadata": {
    "collapsed": false
   },
   "outputs": [],
   "source": [
    "#Setup some Integrals. We want these outside the main loop...\n",
    "tempVariable = gSwarm.add_variable( dataType=\"double\", count=1 )\n",
    "tempVariable.data[:] = temperatureField.evaluate(gSwarm)[:]\n",
    "tempint = uw.utils.Integral((tempVariable*rockIntVar), linearMesh)\n",
    "\n",
    "\n",
    "areaint = uw.utils.Integral((1.*rockIntVar),linearMesh)\n",
    "\n",
    "v2int = uw.utils.Integral(fn.math.dot(velocityField,velocityField)*rockIntVar, linearMesh)\n",
    "\n",
    "\n",
    "dwint = uw.utils.Integral(temperatureField*velocityField[1]*rockIntVar, linearMesh)\n",
    "\n",
    "\n",
    "sinner = fn.math.dot(secinv,secinv)\n",
    "vdint = uw.utils.Integral((4.*viscosityFn2*sinner)*rockIntVar, linearMesh)\n",
    "vdintair = uw.utils.Integral((4.*viscosityFn2*sinner)*airIntVar, linearMesh)\n",
    "vdintlith = uw.utils.Integral((4.*viscosityFn2*sinner)*lithIntVar, linearMesh)"
   ]
  },
  {
   "cell_type": "code",
   "execution_count": 68,
   "metadata": {
    "collapsed": false
   },
   "outputs": [],
   "source": [
    "def avg_temp():\n",
    "    return tempint.evaluate()[0]\n",
    "\n",
    "#This one gets cleaned up when Surface integrals are available\n",
    "def nusselt(tempfield, swarm, dx):\n",
    "    #Update the swarm variable\n",
    "    tempgrad = tempfield.fn_gradient\n",
    "    valcheck = tempgrad[1].evaluate(swarm)\n",
    "    if valcheck is None:\n",
    "        vals = np.array(0, dtype='float64')\n",
    "    else:\n",
    "        vals = valcheck.sum()*dx\n",
    "    return vals\n",
    "\n",
    "def rms():\n",
    "    return math.sqrt(v2int.evaluate()[0])\n",
    "\n",
    "#This one gets cleaned up when Surface integrals are available\n",
    "def rms_surf(swarm, dx):\n",
    "    rmsmaxfn = fn.math.sqrt(fn.math.dot(velocityField,velocityField))\n",
    "    rmscheck = rmsmaxfn.evaluate(swarm)\n",
    "    if rmscheck is None:\n",
    "        rmsvals = np.array(0, dtype='float64')\n",
    "    else:\n",
    "        rmsvals = rmscheck.sum()*dx\n",
    "    return rmsvals\n",
    "\n",
    "def max_vx_surf(velfield, swarm):\n",
    "    surfvelxmaxfn = fn.view.min_max(velfield[0])\n",
    "    surfvelxmaxfn.evaluate(swarm)\n",
    "    return surfvelxmaxfn.max_global()\n",
    "\n",
    "def max_vy_surf(velfield, swarm):\n",
    "    surfvelxmaxfn = fn.view.min_max(velfield[1])\n",
    "    surfvelxmaxfn.evaluate(swarm)\n",
    "    return surfvelxmaxfn.max_global()\n",
    "\n",
    "def gravwork(workfn):\n",
    "    return workfn.evaluate()[0]\n",
    "\n",
    "def viscdis(vdissfn):\n",
    "    return vdissfn.evaluate()[0]\n",
    "\n",
    "def visc_extr(viscfn):\n",
    "    vuviscfn = fn.view.min_max(viscfn)\n",
    "    vuviscfn.evaluate(linearMesh)\n",
    "    return vuviscfn.max_global(), vuviscfn.min_global()"
   ]
  },
  {
   "cell_type": "code",
   "execution_count": 69,
   "metadata": {
    "collapsed": false
   },
   "outputs": [],
   "source": [
    "#Fields for saving data / fields\n",
    "\n",
    "rmsField = uw.mesh.MeshVariable( mesh=linearMesh,   nodeDofCount=1)\n",
    "rmsfn = fn.math.sqrt(fn.math.dot(velocityField,velocityField))\n",
    "rmsdata = rmsfn.evaluate(linearMesh)\n",
    "rmsField.data[:] = rmsdata \n",
    "\n",
    "viscField = uw.mesh.MeshVariable( mesh=linearMesh,   nodeDofCount=1)\n",
    "viscdata = viscosityFn2.evaluate(linearMesh)\n",
    "viscField.data[:] = viscdata\n",
    "\n",
    "\n",
    "strainrateField = uw.mesh.MeshVariable( mesh=linearMesh,   nodeDofCount=1)\n",
    "srtdata = fn.tensor.second_invariant( \n",
    "                    fn.tensor.symmetric( \n",
    "                        velocityField.fn_gradient ))\n",
    "rostfield = srtdata.evaluate(linearMesh)\n",
    "strainrateField.data[:] = rostfield\n",
    "\n",
    "viscVariable = gSwarm.add_variable( dataType=\"float\", count=1 )\n",
    "viscVariable.data[:] = viscosityMapFn.evaluate(gSwarm)\n"
   ]
  },
  {
   "cell_type": "code",
   "execution_count": 70,
   "metadata": {
    "collapsed": false
   },
   "outputs": [],
   "source": [
    "#Images\n",
    "figEta = glucifer.Figure()\n",
    "figEta.append( glucifer.objects.Points(gSwarm,viscVariable, logScale=True))\n",
    "\n",
    "\n",
    "figMat = glucifer.Figure()\n",
    "figMat.append( glucifer.objects.Points(gSwarm,materialVariable, colours='brown white blue red'))\n",
    "figMat.append( glucifer.objects.Mesh(linearMesh))\n",
    "\n",
    "\n",
    "figStrainRate = glucifer.Figure()\n",
    "figStrainRate.append( glucifer.objects.Surface(elementMesh, secinv, logScale=True))\n",
    "\n",
    "\n",
    "figVelocityMag = glucifer.Figure()\n",
    "figVelocityMag.append( glucifer.objects.Surface(elementMesh, fn.math.dot(velocityField,velocityField))\n",
    ")\n",
    "figTemp = glucifer.Figure()\n",
    "figTemp.append( glucifer.objects.Surface(elementMesh, temperatureField))\n",
    "\n",
    "\n",
    "\n",
    "#Pack some stuff into a database as well\n",
    "figDb = glucifer.Figure()\n",
    "figDb.append( glucifer.objects.Points(gSwarm,viscVariable, logScale=True, colours='brown white blue'))\n",
    "figDb.append( glucifer.objects.Mesh(linearMesh))\n",
    "figDb.append( glucifer.objects.VectorArrows(elementMesh,velocityField, arrowHead=0.2, scaling=0.0005))\n",
    "figDb.append( glucifer.objects.Surface(elementMesh, secinv, logScale=True, colours='brown white blue'))\n",
    "                           "
   ]
  },
  {
   "cell_type": "code",
   "execution_count": 71,
   "metadata": {
    "collapsed": true
   },
   "outputs": [],
   "source": [
    "pics = uw.swarm.PICIntegrationSwarm(gSwarm)"
   ]
  },
  {
   "cell_type": "code",
   "execution_count": 72,
   "metadata": {
    "collapsed": false
   },
   "outputs": [],
   "source": [
    "def checkpoint1(step, checkpointPath,filename, filewrites):\n",
    "    path = checkpointPath + str(step) \n",
    "    velfile = \"velocityField\" + \".hdf5\"\n",
    "    tempfile = \"temperatureField\" + \".hdf5\"\n",
    "    pressfile = \"pressureField\" + \".hdf5\"\n",
    "    swarmfile = \"materialSwarm\" + \".hdf5\"\n",
    "    os.mkdir(path)\n",
    "    ##Write and save the file, if not already a writing step\n",
    "    if not step % filewrites == 0:\n",
    "        filename.write((13*'%-15s ' + '\\n') % (realtime, Viscdis, float(Nu0glob), float(Nu1glob), Avg_temp, \n",
    "                                              Rms,Rmsurfglob,Max_vx_surf,Gravwork, etamax, etamin, Viscdisair, Viscdislith))\n",
    "    filename.close()\n",
    "    shutil.copyfile(os.path.join(outputPath, outputFile), os.path.join(path, outputFile))\n",
    "\n",
    "\n",
    "def checkpoint2(step, checkpointPath, swarm, filename, varlist = [materialVariable], varnames = ['materialVariable']):\n",
    "    path = checkpointPath + str(step) \n",
    "    velfile = \"velocityField\" + \".hdf5\"\n",
    "    tempfile = \"temperatureField\" + \".hdf5\"\n",
    "    pressfile = \"pressureField\" + \".hdf5\"\n",
    "    velocityField.save(os.path.join(path, velfile))\n",
    "    temperatureField.save(os.path.join(path, tempfile))\n",
    "    pressureField.save(os.path.join(path, pressfile))\n",
    "    swarm.save(os.path.join(path, \"swarm.h5\") ) \n",
    "    for ix in range(len(varlist)):\n",
    "        varb = varlist[ix]\n",
    "        varb.save(os.path.join(path,varnames[ix] + \".h5\"), swarmfilepath=os.path.join(path, \"swarm.h5\"))\n",
    "        \n",
    "    "
   ]
  },
  {
   "cell_type": "code",
   "execution_count": 73,
   "metadata": {
    "collapsed": true
   },
   "outputs": [],
   "source": [
    "###########\n",
    "#Open file for writing metrics\n",
    "###########\n",
    "\n",
    "if checkpointLoad:\n",
    "    if uw.rank() == 0:\n",
    "        shutil.copyfile(os.path.join(checkpointLoadDir, outputFile), outputPath+outputFile)\n",
    "    comm.Barrier()\n",
    "    #os.rename(os.path.join(checkpointLoadDir, outputFile), outputPath+outputFile)\n",
    "    f_o = open(os.path.join(outputPath, outputFile), 'a')\n",
    "    prevdata = np.genfromtxt(os.path.join(outputPath, outputFile), skip_header=0, skip_footer=0)\n",
    "    realtime = prevdata[prevdata.shape[0]-1, 0]\n",
    "    step = int(checkpointLoadDir.split('/')[-1])\n",
    "    timevals = [0.]\n",
    "else:\n",
    "    f_o = open(outputPath+outputFile, 'w')\n",
    "    realtime = 0.\n",
    "    step = 0\n",
    "    timevals = [0.]"
   ]
  },
  {
   "cell_type": "markdown",
   "metadata": {},
   "source": [
    "Main simulation loop\n",
    "=======\n",
    "\n",
    "The main time stepping loop begins here. Before this the time and timestep are initialised to zero and the output statistics arrays are set up. Also the frequency of outputting basic statistics to the screen is set in steps_output.\n"
   ]
  },
  {
   "cell_type": "code",
   "execution_count": 74,
   "metadata": {
    "collapsed": false
   },
   "outputs": [
    {
     "name": "stdout",
     "output_type": "stream",
     "text": [
      "0\n",
      "total advDiff time is: 0.308836\n",
      "total advector time is: 0.303914\n",
      "1\n",
      "total advDiff time is: 0.317105\n",
      "total advector time is: 0.291281\n",
      "2\n",
      "total advDiff time is: 0.309142\n",
      "total advector time is: 0.304864\n",
      "3\n",
      "total advDiff time is: 0.312834\n",
      "total advector time is: 0.288084\n",
      "4\n",
      "total advDiff time is: 0.308629\n",
      "total advector time is: 0.284908\n",
      "5\n",
      "total advDiff time is: 0.315296\n",
      "total advector time is: 0.287959\n",
      "6\n",
      "total advDiff time is: 0.312198\n",
      "total advector time is: 0.295108\n",
      "7\n",
      "total advDiff time is: 0.309878\n",
      "total advector time is: 0.304464\n",
      "8\n",
      "total advDiff time is: 0.311589\n",
      "total advector time is: 0.30438\n",
      "9\n",
      "total advDiff time is: 0.308464\n",
      "total advector time is: 0.290372\n",
      "step = 10 ; dt = 1.52587890625e-05 ; CPU time = 120.4085\n"
     ]
    }
   ],
   "source": [
    "# initialise timer for computation\n",
    "startMain = time.clock()\n",
    "# Perform steps\n",
    "#while realtime < 0.4:\n",
    "while step < 10:\n",
    "    #Enter non-linear loop\n",
    "    print step\n",
    "    solver.solve(nonLinearIterate=True)\n",
    "    dt = advDiff.get_max_dt()\n",
    "    if step == 0:\n",
    "        dt = 0.\n",
    "    start = time.clock()\n",
    "    advDiff.integrate(dt)\n",
    "    machine_time = (time.clock()-start)\n",
    "    print(\"total advDiff time is: \" + str(machine_time))\n",
    "    # Advect swarm using this timestep size\n",
    "    start = time.clock()\n",
    "    advector.integrate(dt)\n",
    "    machine_time = (time.clock()-start)\n",
    "    print(\"total advector time is: \" + str(machine_time))\n",
    "    # Increment\n",
    "    realtime += dt\n",
    "    step += 1\n",
    "    timevals.append(realtime)\n",
    "    \n",
    "    ################\n",
    "    #Update temperature field in the air region\n",
    "    ################\n",
    "    if (step % sticky_air_temp == 0):\n",
    "        for index, coord in enumerate(linearMesh.data):\n",
    "            if coord[1] >= 1.:\n",
    "                temperatureField.data[index] = 0.\n",
    " \n",
    "    ################\n",
    "    #Particle update\n",
    "    ###############\n",
    "    if (step % swarm_update == 0) or (step % metric_output == 0): #These updates should be done before any metric output\n",
    "        #These swarm variables get updated first, as they are used to determine material changes\n",
    "        particledepths = 1. - gSwarm.particleCoordinates.data[:,1]\n",
    "        particletemps = temperatureField.evaluate(gSwarm)[:,0]\n",
    "        conditionmap['depthcondition']['data'] = particledepths\n",
    "        conditionmap['avgtempcondition']['data'] = particletemps\n",
    "        ################\n",
    "        number_updated = 0\n",
    "        for particleID in range(gSwarm.particleCoordinates.data.shape[0]):\n",
    "            check = update_swarm(DG, particleID)\n",
    "            if check > -1:\n",
    "                number_updated += 1\n",
    "                #if check == 0:\n",
    "                #    print \"from \" + str(materialVariable.data[particleID]) + \" to \" + str(check)\n",
    "                materialVariable.data[particleID] = check\n",
    "            else:\n",
    "                pass\n",
    "        #Also update those integration swarms\n",
    "        rockIntVar.data[:] = 0.\n",
    "        notair = np.where(materialVariable.data != airIndex)\n",
    "        rockIntVar.data[notair] = 1.\n",
    "        airIntVar.data[:] = 0.\n",
    "        notrock = np.where(materialVariable.data == airIndex)\n",
    "        airIntVar.data[notrock] = 1.\n",
    "        lithIntVar.data[:] = 0.\n",
    "        islith = np.where((materialVariable.data == lithosphereIndex) | (materialVariable.data == crustIndex))\n",
    "        lithIntVar.data[islith] = 1.\n",
    "\n",
    "    ################            \n",
    "    # Calculate the Metrics, only on 1 of the processors:\n",
    "    ################\n",
    "    if (step % metric_output == 0):\n",
    "        tempVariable.data[:] = temperatureField.evaluate(gSwarm)[:]\n",
    "        Avg_temp = avg_temp()\n",
    "        Rms = rms()\n",
    "        Max_vx_surf = max_vx_surf(velocityField, surfintswarm)\n",
    "        Gravwork = gravwork(dwint)\n",
    "        Viscdis = viscdis(vdint)\n",
    "        Viscdisair = viscdis(vdintair)\n",
    "        Viscdislith = viscdis(vdintlith)\n",
    "        etamax, etamin = visc_extr(viscosityFn2)\n",
    "        #These are the ones that need mpi4py treatment\n",
    "        Nu0loc = nusselt(temperatureField, baseintswarm, dx)\n",
    "        Nu1loc = nusselt(temperatureField, surfintswarm, dx)\n",
    "        Rmsurfloc = rms_surf(surfintswarm, dx)\n",
    "        #Setup the global output arrays\n",
    "        dTp = Nu0loc.dtype\n",
    "        Nu0glob = np.array(0, dtype=dTp)\n",
    "        dTp = Nu1loc.dtype\n",
    "        Nu1glob = np.array(0, dtype=dTp)\n",
    "        dTp = Rmsurfloc.dtype\n",
    "        Rmsurfglob = np.array(0, dtype=dTp)\n",
    "        #Do global sum\n",
    "        comm.Allreduce(Nu0loc, Nu0glob, op=MPI.SUM)\n",
    "        comm.Allreduce(Nu1loc, Nu1glob, op=MPI.SUM)\n",
    "        comm.Allreduce(Rmsurfloc, Rmsurfglob, op=MPI.SUM)\n",
    "        # output to summary text file\n",
    "        if uw.rank()==0:\n",
    "            f_o.write((13*'%-15s ' + '\\n') % (realtime, Viscdis, float(Nu0glob), float(Nu1glob), Avg_temp, \n",
    "                                              Rms,Rmsurfglob,Max_vx_surf,Gravwork, etamax, etamin, Viscdisair, Viscdislith))\n",
    "    ################\n",
    "    #Gldb output\n",
    "    ################ \n",
    "    if (step % gldbs_output == 0) & (writeFiles == True):\n",
    "        #Rebuild any necessary swarm variables\n",
    "        viscVariable.data[:] = viscosityMapFn.evaluate(gSwarm)\n",
    "        #Write gldbs\n",
    "        fnamedb = \"dbFig\" + \"_\" + str(ModIt) + \"_\" + str(step) + \".gldb\"\n",
    "        fullpath = os.path.join(outputPath + \"gldbs/\" + fnamedb)\n",
    "        figDb.show()\n",
    "        figDb.save_database(fullpath)\n",
    "    ################\n",
    "    #Also repopulate entire swarm periodically\n",
    "    ################\n",
    "    if step % swarm_repop == 0:\n",
    "        pics.repopulate()\n",
    "    ################\n",
    "    #Checkpoint\n",
    "    ################\n",
    "    if step % checkpoint_every == 0:\n",
    "        if uw.rank() == 0:\n",
    "            checkpoint1(step, checkpointPath,f_o, metric_output)           \n",
    "        checkpoint2(step, checkpointPath, gSwarm, f_o, varlist = varlist, varnames = varnames)\n",
    "        f_o = open(os.path.join(outputPath, outputFile), 'a') #is this line supposed to be here?\n",
    "\n",
    "        \n",
    "        \n",
    "f_o.close()\n",
    "print 'step =',step, '; dt =', dt, '; CPU time =', time.clock()-startMain"
   ]
  },
  {
   "cell_type": "code",
   "execution_count": 75,
   "metadata": {
    "collapsed": false
   },
   "outputs": [
    {
     "data": {
      "text/plain": [
       "100"
      ]
     },
     "execution_count": 75,
     "metadata": {},
     "output_type": "execute_result"
    }
   ],
   "source": [
    "metric_output"
   ]
  },
  {
   "cell_type": "code",
   "execution_count": 87,
   "metadata": {
    "collapsed": false
   },
   "outputs": [],
   "source": [
    "figEta = glucifer.Figure(figsize=(1024,384))\n",
    "figEta.append( glucifer.objects.Points(gSwarm,viscVariable, logScale=True))\n",
    "figEta.show()\n",
    "figEta.save_database('test.gldb')\n"
   ]
  },
  {
   "cell_type": "code",
   "execution_count": 335,
   "metadata": {
    "collapsed": false
   },
   "outputs": [],
   "source": []
  },
  {
   "cell_type": "code",
   "execution_count": 88,
   "metadata": {
    "collapsed": false
   },
   "outputs": [
    {
     "data": {
      "text/html": [
       "<img src='data:image/png;base64,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'>"
      ],
      "text/plain": [
       "<IPython.core.display.HTML object>"
      ]
     },
     "execution_count": 88,
     "metadata": {},
     "output_type": "execute_result"
    }
   ],
   "source": [
    "\n",
    "figMat = glucifer.Figure()\n",
    "figMat.append( glucifer.objects.Points(gSwarm,materialVariable, colours='brown white blue red'))\n",
    "figMat.append( glucifer.objects.Mesh(linearMesh))\n",
    "figMat.save_database('test.gldb')\n",
    "figMat.show()\n",
    "\n",
    " "
   ]
  },
  {
   "cell_type": "code",
   "execution_count": 71,
   "metadata": {
    "collapsed": false
   },
   "outputs": [
    {
     "data": {
      "text/html": [
       "<img src='data:image/png;base64,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'>"
      ],
      "text/plain": [
       "<IPython.core.display.HTML object>"
      ]
     },
     "execution_count": 71,
     "metadata": {},
     "output_type": "execute_result"
    }
   ],
   "source": [
    "figTemp = glucifer.Figure()\n",
    "figTemp.append( glucifer.objects.Surface(elementMesh, temperatureField))\n",
    "figTemp.show()"
   ]
  },
  {
   "cell_type": "code",
   "execution_count": 72,
   "metadata": {
    "collapsed": false
   },
   "outputs": [
    {
     "data": {
      "text/html": [
       "<img src='data:image/png;base64,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'>"
      ],
      "text/plain": [
       "<IPython.core.display.HTML object>"
      ]
     },
     "execution_count": 72,
     "metadata": {},
     "output_type": "execute_result"
    }
   ],
   "source": [
    "figStrainRate = glucifer.Figure()\n",
    "figStrainRate.append( glucifer.objects.Surface(elementMesh, secinv, logScale=True))\n",
    "figStrainRate.show()\n",
    "#figStrainRate.save_database('test.gldb')\n"
   ]
  },
  {
   "cell_type": "code",
   "execution_count": 76,
   "metadata": {
    "collapsed": false
   },
   "outputs": [
    {
     "data": {
      "text/html": [
       "<img src='data:image/png;base64,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'>"
      ],
      "text/plain": [
       "<IPython.core.display.HTML object>"
      ]
     },
     "execution_count": 76,
     "metadata": {},
     "output_type": "execute_result"
    }
   ],
   "source": [
    "figVelocityMag = glucifer.Figure()\n",
    "figVelocityMag.append( glucifer.objects.Surface(elementMesh, fn.math.dot(velocityField,velocityField)))\n",
    "figVelocityMag.append( glucifer.objects.VectorArrows(elementMesh,velocityField, arrowHead=0.2, scaling=0.004))\n",
    "figVelocityMag.show()"
   ]
  },
  {
   "cell_type": "code",
   "execution_count": null,
   "metadata": {
    "collapsed": false
   },
   "outputs": [],
   "source": [
    "machine_time = (time.clock()-start)\n",
    "print(\"total time is: \" + str(machine_time))"
   ]
  },
  {
   "cell_type": "code",
   "execution_count": 80,
   "metadata": {
    "collapsed": false
   },
   "outputs": [],
   "source": [
    "figDb.save_database('test.gldb')"
   ]
  },
  {
   "cell_type": "code",
   "execution_count": 96,
   "metadata": {
    "collapsed": false
   },
   "outputs": [
    {
     "data": {
      "text/plain": [
       "43.540638854099171"
      ]
     },
     "execution_count": 96,
     "metadata": {},
     "output_type": "execute_result"
    }
   ],
   "source": [
    "velocityField.evaluate(IWalls)[:,1].max()"
   ]
  },
  {
   "cell_type": "code",
   "execution_count": 97,
   "metadata": {
    "collapsed": false
   },
   "outputs": [
    {
     "data": {
      "text/plain": [
       "0.0"
      ]
     },
     "execution_count": 97,
     "metadata": {},
     "output_type": "execute_result"
    }
   ],
   "source": [
    "velocityField.evaluate(TWalls)[:,0].max()"
   ]
  },
  {
   "cell_type": "code",
   "execution_count": 98,
   "metadata": {
    "collapsed": false
   },
   "outputs": [
    {
     "name": "stdout",
     "output_type": "stream",
     "text": [
      "('ksp_monitor', '')\n",
      "('_mg_active', True)\n",
      "('ksp_type', 'fgmres')\n",
      "('ksp_rtol', 1e-07)\n"
     ]
    }
   ],
   "source": [
    "solver.options.A11.list()"
   ]
  },
  {
   "cell_type": "code",
   "execution_count": 99,
   "metadata": {
    "collapsed": false
   },
   "outputs": [
    {
     "data": {
      "text/plain": [
       "3.162277660168379e-07"
      ]
     },
     "execution_count": 99,
     "metadata": {},
     "output_type": "execute_result"
    }
   ],
   "source": [
    "10**(-6.5)"
   ]
  }
 ],
 "metadata": {
  "kernelspec": {
   "display_name": "Python 2",
   "language": "python",
   "name": "python2"
  },
  "language_info": {
   "codemirror_mode": {
    "name": "ipython",
    "version": 2
   },
   "file_extension": ".py",
   "mimetype": "text/x-python",
   "name": "python",
   "nbconvert_exporter": "python",
   "pygments_lexer": "ipython2",
   "version": "2.7.11"
  }
 },
 "nbformat": 4,
 "nbformat_minor": 0
}
