{
 "cells": [
  {
   "cell_type": "markdown",
   "metadata": {
    "collapsed": true
   },
   "source": [
    "Viscoplastic thermal convection in a 2-D square box: Tosi et al. 2015\n",
    "=====\n",
    "\n",
    "This series of notebooks generates benchmark models from the Tosi et al. (2015) in Underworld2. The Underworld2 results are then directly compared to the results from Table 2 of Tosi et al. (2015) the paper for each case. The notebooks are broken into a general notebook for reproducing the models from scratch and 5 post-analysis notebooks which look at the results Underworld2 gives for each case after running to equilibrium. \n",
    "\n",
    "Parallel computer friendly version\n",
    "-------\n",
    "\n",
    "This general notebook contains the conditions for each of the cases in Tose et al. (2015) as well as being written in a way that is parallel computer friendly. This means that to run across multiple processors download this notebook as a python file and use this on your cluster of choice. Or use the supplied ``TosiParallel.py`` python script and run with a command like:\n",
    "\n",
    "    mpirun -np 4 python TosiParallel.py \n",
    "\n",
    "To run case 5b modify the case 5a numbers to use $\\sigma_\\gamma$ = 3 to 5 with increment of 0.1.\n",
    "\n",
    "References\n",
    "-----\n",
    "\n",
    "1. Tosi, Nicola and Stein, Claudia and Noack, Lena and H&uuml;ttig, Christian and Maierov&aacute;, Petra and Samuel, Henri and Davies, DR and Wilson, CR and Kramer, SC and Thieulot, Cedric and others. 2015. _A community benchmark for viscoplastic thermal convection in a 2-D square box_.\n"
   ]
  },
  {
   "cell_type": "markdown",
   "metadata": {},
   "source": [
    "Load python functions needed for underworld. Some additional python functions from os, math and numpy used later on."
   ]
  },
  {
   "cell_type": "code",
   "execution_count": 1,
   "metadata": {
    "collapsed": false
   },
   "outputs": [],
   "source": [
    "import underworld as uw\n",
    "import math\n",
    "from underworld import function as fn\n",
    "import time\n",
    "import numpy as np\n",
    "import glucifer\n",
    "import os"
   ]
  },
  {
   "cell_type": "code",
   "execution_count": 2,
   "metadata": {
    "collapsed": false
   },
   "outputs": [],
   "source": [
    "#!pip install natsort\n",
    "#!pip install networkx"
   ]
  },
  {
   "cell_type": "markdown",
   "metadata": {},
   "source": [
    "Set physical constants and parameters, including the Rayleigh number (*Ra*) and viscosity constants ($\\eta^*$ and $\\eta_T$) which are common to all Tosi et al cases."
   ]
  },
  {
   "cell_type": "code",
   "execution_count": 3,
   "metadata": {
    "collapsed": true
   },
   "outputs": [],
   "source": [
    "ETA_T = 1e5\n",
    "\n",
    "newvisc= math.exp(math.log(ETA_T)*0.53)"
   ]
  },
  {
   "cell_type": "code",
   "execution_count": 4,
   "metadata": {
    "collapsed": false
   },
   "outputs": [],
   "source": [
    "res = 128      # simulation resolution (horizontal and vertical directions)\n",
    "RA  = 1e2*newvisc        # Rayleigh number\n",
    "ETA_T = 1e5      # common viscosity constant\n",
    "TS  = 0          # surface temperature\n",
    "TB  = 1          # bottom boundary temperature (melting point)\n",
    "ETA0 = 1e-3*newvisc      # viscosity constant eta^* in Tosi et al\n",
    "TMAX = 3.0\n",
    "IMAX = 1000\n",
    "D = 2890.\n",
    "ALPHA = 11."
   ]
  },
  {
   "cell_type": "code",
   "execution_count": 5,
   "metadata": {
    "collapsed": true
   },
   "outputs": [],
   "source": [
    "LoadFromFile = False\n",
    "RefineMesh = True\n"
   ]
  },
  {
   "cell_type": "markdown",
   "metadata": {},
   "source": [
    "Select which case of Tosi et al (2015) to use. Must be between 1 and 5."
   ]
  },
  {
   "cell_type": "code",
   "execution_count": 6,
   "metadata": {
    "collapsed": false
   },
   "outputs": [],
   "source": [
    "CASE = 2"
   ]
  },
  {
   "cell_type": "markdown",
   "metadata": {},
   "source": [
    "Setup a dictonary containing viscosity and stress values for each case."
   ]
  },
  {
   "cell_type": "code",
   "execution_count": 7,
   "metadata": {
    "collapsed": false
   },
   "outputs": [],
   "source": [
    "case_dict = {}\n",
    "case_dict[1] = {}\n",
    "case_dict[1]['ETA_Y'] = 1.\n",
    "case_dict[1]['YSTRESS'] = 1.*newvisc\n",
    "case_dict[2] = {}\n",
    "case_dict[2]['ETA_Y'] = 1.\n",
    "case_dict[2]['YSTRESS'] = 1.*newvisc\n",
    "case_dict[3] = {}\n",
    "case_dict[3]['ETA_Y'] = 10.\n",
    "case_dict[4] = {}\n",
    "case_dict[4]['ETA_Y'] = 10.\n",
    "case_dict[4]['YSTRESS'] = 1.*newvisc\n",
    "case_dict[5] = {}\n",
    "case_dict[5]['ETA_Y'] = 10.\n",
    "case_dict[5]['YSTRESS'] = 4.*newvisc"
   ]
  },
  {
   "cell_type": "markdown",
   "metadata": {},
   "source": [
    "Set viscosity constants based on which Tosi et al case is being used."
   ]
  },
  {
   "cell_type": "code",
   "execution_count": 8,
   "metadata": {
    "collapsed": false
   },
   "outputs": [],
   "source": [
    "ETA_Y = case_dict[CASE]['ETA_Y']\n",
    "YSTRESS = case_dict[CASE]['YSTRESS']"
   ]
  },
  {
   "cell_type": "markdown",
   "metadata": {},
   "source": [
    "Set input and output file directories"
   ]
  },
  {
   "cell_type": "code",
   "execution_count": 9,
   "metadata": {
    "collapsed": false
   },
   "outputs": [],
   "source": [
    "# input file directory\n",
    "inputPath  = 'TosiInput/case' + str(CASE) + \"/\"\n",
    "\n",
    "# output files\n",
    "outputPath = 'TosiOutput/'\n",
    "filePath   = outputPath+'files'\n",
    "\n",
    "# make directories if they don't exist\n",
    "if not os.path.isdir(outputPath):\n",
    "    os.makedirs(outputPath)\n",
    "if not os.path.isdir(filePath):\n",
    "    os.makedirs(filePath)"
   ]
  },
  {
   "cell_type": "markdown",
   "metadata": {},
   "source": [
    "Create mesh and finite element variables\n",
    "------\n",
    "\n",
    "Set up mesh and field variables that are solved on the mesh. See user guides for details of this process."
   ]
  },
  {
   "cell_type": "code",
   "execution_count": 10,
   "metadata": {
    "collapsed": false
   },
   "outputs": [],
   "source": [
    "minCoord    = (0., 0.) \n",
    "maxCoord    = (1., 1.035)\n",
    "\n",
    "mesh = uw.mesh.FeMesh_Cartesian( elementType = (\"Q1/dQ0\"), \n",
    "                                 elementRes  = (res, res), \n",
    "                                 minCoord    = minCoord, \n",
    "                                 maxCoord    = maxCoord)\n",
    "\n",
    "velocityField       = uw.mesh.MeshVariable( mesh=mesh,         nodeDofCount=2 )\n",
    "pressureField       = uw.mesh.MeshVariable( mesh=mesh.subMesh, nodeDofCount=1 )\n",
    "temperatureField    = uw.mesh.MeshVariable( mesh=mesh,         nodeDofCount=1 )\n",
    "temperatureDotField = uw.mesh.MeshVariable( mesh=mesh,         nodeDofCount=1 )"
   ]
  },
  {
   "cell_type": "markdown",
   "metadata": {},
   "source": [
    "#### mesh refine"
   ]
  },
  {
   "cell_type": "code",
   "execution_count": 11,
   "metadata": {
    "collapsed": false
   },
   "outputs": [],
   "source": [
    "ay = minCoord[1]\n",
    "by = maxCoord[1]\n",
    "ax = minCoord[0]\n",
    "bx = maxCoord[0]"
   ]
  },
  {
   "cell_type": "code",
   "execution_count": 12,
   "metadata": {
    "collapsed": true
   },
   "outputs": [],
   "source": [
    "s = 1.2\n",
    "\n",
    "\n",
    "newys = []\n",
    "newxs = []\n",
    "for index, coord in enumerate(mesh.data):\n",
    "    y0 = coord[1]\n",
    "    x0 = abs(coord[0])\n",
    "    newy =(by - (ay + (by-ay)*((by - y0)/(by-ay))**s))\n",
    "    newx =(bx - (ax + (bx-ax)*((bx - x0)/(bx-ax))**s)) \n",
    "    newys.append(newy)\n",
    "    newxs.append(newx)"
   ]
  },
  {
   "cell_type": "code",
   "execution_count": 13,
   "metadata": {
    "collapsed": false
   },
   "outputs": [
    {
     "data": {
      "text/plain": [
       "1.035"
      ]
     },
     "execution_count": 13,
     "metadata": {},
     "output_type": "execute_result"
    }
   ],
   "source": [
    "maxCoord[1]"
   ]
  },
  {
   "cell_type": "markdown",
   "metadata": {
    "collapsed": true
   },
   "source": [
    "alpha=ALPHA\n",
    "newys = []\n",
    "newxs = []\n",
    "for index, coord in enumerate(mesh.data):\n",
    "    y0 = coord[1]\n",
    "    x0 = abs(coord[0])\n",
    "    newy = maxCoord[1]*(math.log(alpha*y0 + math.e) - 1)*(1/(math.log(alpha + math.e) - 1))\n",
    "    newx = (math.log((alpha/2.)*x0 + math.e) - 1)*(1/(math.log((alpha/2.) + math.e) - 1))\n",
    "    if coord[0] <= 0:\n",
    "        newx = -1.*newx\n",
    "    newys.append(newy)\n",
    "    newxs.append(newx)\n",
    "        "
   ]
  },
  {
   "cell_type": "code",
   "execution_count": 14,
   "metadata": {
    "collapsed": false
   },
   "outputs": [],
   "source": [
    "if RefineMesh:\n",
    "    with mesh.deform_mesh():\n",
    "        mesh.data[:,1] = newys\n",
    "        mesh.data[:,0] = newxs"
   ]
  },
  {
   "cell_type": "code",
   "execution_count": 15,
   "metadata": {
    "collapsed": false
   },
   "outputs": [
    {
     "data": {
      "text/html": [
       "<img src='data:image/png;base64,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'>"
      ],
      "text/plain": [
       "<IPython.core.display.HTML object>"
      ]
     },
     "execution_count": 15,
     "metadata": {},
     "output_type": "execute_result"
    }
   ],
   "source": [
    "\n",
    "meshfig = glucifer.Figure(figsize=(800,400))\n",
    "meshfig.append( glucifer.objects.Mesh(mesh) )\n",
    "meshfig.show()\n",
    "#meshfig.save_database('test.gldb')"
   ]
  },
  {
   "cell_type": "markdown",
   "metadata": {},
   "source": [
    "Set initial conditions and boundary conditions\n",
    "----------\n",
    "\n",
    "**Initial and boundary conditions**\n",
    "\n",
    "Either set by perturbation function or load data from file."
   ]
  },
  {
   "cell_type": "markdown",
   "metadata": {},
   "source": [
    "**If loading from file**\n",
    "\n",
    "Read (``savedRes`` $\\times$ ``savedRes``) resolution data for $P$, $v$ and $T$ fields as well as existing summary statistics data. These are converted into lists so that the main time loop below will append with new values.\n"
   ]
  },
  {
   "cell_type": "code",
   "execution_count": 16,
   "metadata": {
    "collapsed": true
   },
   "outputs": [],
   "source": [
    "if(LoadFromFile == False):\n",
    "# Initialise data.. Note that we are also setting boundary conditions here\n",
    "    velocityField.data[:]  = [0.,0.]\n",
    "    pressureField.data[:]  = 0.\n",
    "    temperatureDotField.data[:] = 0.\n",
    "    temperatureField.data[:] = 0.\n",
    "# Setup temperature initial condition via numpy arrays\n",
    "    A = 0.01\n",
    "#Note that width = height = 1\n",
    "    for index, coord in enumerate(mesh.data):\n",
    "        pertCoeff = (1- coord[1]) + A*math.cos( math.pi * coord[0] ) * math.sin( math.pi * coord[1] )\n",
    "        temperatureField.data[index] = pertCoeff;    \n",
    "    stepsVal = []\n",
    "    timeVal = []\n",
    "    viscdiscVal = []\n",
    "    nu0Val = []\n",
    "    nu1Val = []\n",
    "    Avg_tempVal = []\n",
    "    vrmsVal = []\n",
    "    Rms_surfVal = []\n",
    "    Max_vx_surfVal = []\n",
    "    GravworkVal = []\n",
    "    etamaxVal = []\n",
    "    etaminVal = []"
   ]
  },
  {
   "cell_type": "code",
   "execution_count": 17,
   "metadata": {
    "collapsed": false
   },
   "outputs": [
    {
     "data": {
      "text/html": [
       "<img src='data:image/png;base64,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'>"
      ],
      "text/plain": [
       "<IPython.core.display.HTML object>"
      ]
     },
     "execution_count": 17,
     "metadata": {},
     "output_type": "execute_result"
    }
   ],
   "source": [
    "figtemp = glucifer.Figure( figsize=(800,400) )\n",
    "figtemp.append( glucifer.objects.Surface(mesh, temperatureField, colours=\"blue white red\") )\n",
    "figtemp.append( glucifer.objects.Mesh(mesh) )\n",
    "figtemp.append( glucifer.objects.VectorArrows(mesh, velocityField, arrowHead=0.2, scaling=0.01))\n",
    "figtemp.show()\n"
   ]
  },
  {
   "cell_type": "code",
   "execution_count": null,
   "metadata": {
    "collapsed": true
   },
   "outputs": [],
   "source": []
  },
  {
   "cell_type": "code",
   "execution_count": 18,
   "metadata": {
    "collapsed": true
   },
   "outputs": [],
   "source": [
    "def checkSurfaceIntegration(mesh, value, fn=1., rtol=1e-05):\n",
    "    \"\"\"\n",
    "    This function performs surface integration across the entire boundary of the \n",
    "    provided mesh. The surface integration of 'fn' is expected to return a result \n",
    "    with 'rtol' of 'value'.\n",
    "    \n",
    "    Parameters\n",
    "    ----------\n",
    "        mesh : uw.mesh.FeMesh\n",
    "            The mesh across which integration is to be performed.\n",
    "        value: float\n",
    "            The expected result of the integration.\n",
    "        fn   : uw.function.Function\n",
    "            The function which is to be integrated.\n",
    "        rtol : float\n",
    "            Relative tolerance. Check allclose documentation for details.\n",
    "    \"\"\"\n",
    "    boundaryLength = uw.utils.Integral( fn=fn, mesh=mesh, integrationType='Surface', surfaceIndexSet=mesh.specialSets[\"AllWalls_VertexSet\"])\n",
    "    result = boundaryLength.evaluate()\n",
    "    assert np.allclose( result, value, rtol=rtol ), \"Error occurred in surface integration. Integration = {}, Expected = {}\".format(result, value)\n",
    "def checkVolumeIntegration(mesh, value, fn=1., rtol=1e-05):\n",
    "    \"\"\"\n",
    "    This function performs volume integration across the entire volume of the \n",
    "    provided mesh. The volume integration of 'fn' is expected to return a result \n",
    "    with 'rtol' of 'value'.\n",
    "    \n",
    "    Parameters\n",
    "    ----------\n",
    "        mesh : uw.mesh.FeMesh\n",
    "            The mesh across which integration is to be performed.\n",
    "        value: float\n",
    "            The expected result of the integration.\n",
    "        fn   : uw.function.Function\n",
    "            The function which is to be integrated.\n",
    "        rtol : float\n",
    "            Relative tolerance. Check allclose documentation for details.\n",
    "    \"\"\"\n",
    "\n",
    "    totalVolume = uw.utils.Integral( fn=fn, mesh=mesh, integrationType='Volume')\n",
    "    result = totalVolume.evaluate()\n",
    "    assert np.allclose( result, value, rtol=rtol ), \"Error occurred in volume integration. Integration = {}, Expected = {}\".format(result, value)"
   ]
  },
  {
   "cell_type": "code",
   "execution_count": 19,
   "metadata": {
    "collapsed": true
   },
   "outputs": [],
   "source": [
    "def correctLength(minCoord,maxCoord):\n",
    "    \"\"\" Calculates the total boundary length of a mesh created using minCoord,maxCoord. \"\"\"\n",
    "    return 2.*np.sum( maxCoord[ii] - minCoord[ii] for ii in range(0,len(minCoord)))\n",
    "def correctVol(minCoord,maxCoord):\n",
    "    \"\"\" Calculates the volume of a mesh created using minCoord,maxCoord. \"\"\"\n",
    "    return np.prod( [ maxCoord[ii] - minCoord[ii] for ii in range(0,len(minCoord)) ] ) "
   ]
  },
  {
   "cell_type": "code",
   "execution_count": 20,
   "metadata": {
    "collapsed": false
   },
   "outputs": [],
   "source": [
    "\n",
    "#checkVolumeIntegration( mesh, correctVol(minCoord,maxCoord))\n",
    "\n",
    "#checkSurfaceIntegration(mesh, correctLength(minCoord,maxCoord))"
   ]
  },
  {
   "cell_type": "markdown",
   "metadata": {},
   "source": [
    "**Boundary conditions**\n",
    "\n",
    "This step is to ensure that the temperature boundary conditions are satisfied, as the initial conditions above may have been set to different values on the boundaries."
   ]
  },
  {
   "cell_type": "code",
   "execution_count": 21,
   "metadata": {
    "collapsed": false
   },
   "outputs": [],
   "source": [
    "for index in mesh.specialSets[\"MinJ_VertexSet\"]:\n",
    "    temperatureField.data[index] = TB\n",
    "for index in mesh.specialSets[\"MaxJ_VertexSet\"]:\n",
    "    temperatureField.data[index] = TS"
   ]
  },
  {
   "cell_type": "markdown",
   "metadata": {},
   "source": [
    "**Conditions on the boundaries**\n",
    "\n",
    "Construct sets for the both horizontal and vertical walls. Combine the sets of vertices to make the I (left and right side walls) and J (top and bottom walls) sets. Note that both sets contain the corners of the box."
   ]
  },
  {
   "cell_type": "code",
   "execution_count": 22,
   "metadata": {
    "collapsed": false
   },
   "outputs": [],
   "source": [
    "iWalls = mesh.specialSets[\"MinI_VertexSet\"] + mesh.specialSets[\"MaxI_VertexSet\"]\n",
    "jWalls = mesh.specialSets[\"MinJ_VertexSet\"] + mesh.specialSets[\"MaxJ_VertexSet\"]\n",
    "freeslipBC = uw.conditions.DirichletCondition( variable      = velocityField, \n",
    "                                               indexSetsPerDof = (iWalls, jWalls) )\n",
    "tempBC     = uw.conditions.DirichletCondition( variable      = temperatureField, \n",
    "                                               indexSetsPerDof = (jWalls,) )"
   ]
  },
  {
   "cell_type": "markdown",
   "metadata": {},
   "source": [
    "## Particles"
   ]
  },
  {
   "cell_type": "code",
   "execution_count": 23,
   "metadata": {
    "collapsed": false
   },
   "outputs": [],
   "source": [
    "# initialise a swarm\n",
    "gSwarm = uw.swarm.Swarm( mesh=mesh )\n",
    "\n",
    "# add a data variable which will store information on the particle\n",
    "materialVariable   = gSwarm.add_variable( dataType=\"int\", count=1 )\n",
    "\n",
    "\n",
    "# create a layout object that will populate the swarm across the whole domain\n",
    "swarmLayout = uw.swarm.layouts.PerCellRandomLayout( swarm=gSwarm, particlesPerCell=15)\n",
    "\n",
    "# activate the layout object\n",
    "gSwarm.populate_using_layout( layout=swarmLayout )\n",
    "\n",
    "\n",
    "\n",
    "\n",
    "\n",
    "varlist = [materialVariable]\n",
    "varnames = ['materialVariable']"
   ]
  },
  {
   "cell_type": "code",
   "execution_count": 24,
   "metadata": {
    "collapsed": false
   },
   "outputs": [],
   "source": [
    "mantleIndex = 0\n",
    "lithosphereIndex = 1\n",
    "crustIndex = 2\n",
    "airIndex = 3\n",
    "\n",
    "#All depth conditions are given as (km/D) where D is the length scale, \n",
    "#note that 'model depths' are used, e.g. 1-z, where z is the vertical Underworld coordinate\n",
    "#All temp conditions are in dimensionless temp. [0. - 1.]\n",
    "\n",
    "#A few paramters defining lengths scales\n",
    "\n",
    "Crust = 27.\n",
    "CrustM = Crust/D\n",
    "\n",
    "#######Setup some variables which help define condtions\n",
    "#rock-air topography limits\n",
    "dz = 15./D\n",
    "\n",
    "avgtemp = 0.5"
   ]
  },
  {
   "cell_type": "code",
   "execution_count": 25,
   "metadata": {
    "collapsed": false
   },
   "outputs": [],
   "source": [
    "# Lets initialise the 'materialVariable' data to represent different materials\n",
    "# Set the material to heavy everywhere via the numpy array\n",
    "materialVariable.data[:] = mantleIndex\n",
    "    \n",
    "    \n",
    "#Set initial air and crust materials (allow the graph to take care of lithsophere)\n",
    "#########\n",
    "#This initial material setup will be model dependent\n",
    "#########\n",
    "for particleID in range(gSwarm.particleCoordinates.data.shape[0]):\n",
    "    if (1. - gSwarm.particleCoordinates.data[particleID][1]) < 0:\n",
    "        materialVariable.data[particleID] = airIndex\n",
    "    elif (1. - gSwarm.particleCoordinates.data[particleID][1]) < CrustM:\n",
    "        materialVariable.data[particleID] = crustIndex"
   ]
  },
  {
   "cell_type": "code",
   "execution_count": 26,
   "metadata": {
    "collapsed": true
   },
   "outputs": [],
   "source": [
    "##############\n",
    "#Important: This is a quick fix for a bug that arises in parallel runs\n",
    "##############\n",
    "material_list = [0,1,2,3]"
   ]
  },
  {
   "cell_type": "code",
   "execution_count": 27,
   "metadata": {
    "collapsed": false
   },
   "outputs": [],
   "source": [
    "import networkx as nx\n",
    "\n",
    "#######Graph object\n",
    "DG = nx.DiGraph(field=\"Depth\")\n",
    "\n",
    "#######Nodes\n",
    "#Note that the order of materials, deepest to shallowest is important \n",
    "DG.add_node(0, mat='mantle')\n",
    "DG.add_node(1, mat='lithosphere')\n",
    "DG.add_node(2, mat='crust')\n",
    "DG.add_node(3, mat='air')\n",
    "\n",
    "\n",
    "labels=dict((n,d['mat']) for n,d in DG.nodes(data=True))\n",
    "pos=nx.spring_layout(DG) \n",
    "\n",
    "\n",
    "#######Edges\n",
    "#anything to air\n",
    "DG.add_edges_from([(0,3),(1,3), (2,3)])\n",
    "DG[0][3]['depthcondition'] = -1*dz\n",
    "DG[1][3]['depthcondition'] = -1*dz\n",
    "DG[2][3]['depthcondition'] = -1*dz\n",
    "\n",
    "\n",
    "#Anything to mantle\n",
    "DG.add_edges_from([(2,0), (3,0), (1,0)])\n",
    "DG[3][0]['depthcondition'] = dz\n",
    "DG[2][0]['depthcondition'] = (300./D)\n",
    "DG[1][0]['depthcondition'] = (660./D) #This means we're going to kill lithosphere at the 660.\n",
    "\n",
    "\n",
    "#Anything to lithsphere\n",
    "DG.add_edges_from([(0,1),(3,1)])\n",
    "DG[0][1]['depthcondition'] = 200./D\n",
    "DG[0][1]['avgtempcondition'] = 0.75*avgtemp #definition of thermal lithosphere\n",
    "\n",
    "\n",
    "#Anything to crust\n",
    "DG.add_edges_from([(0,2), (1,2)])\n",
    "DG[0][2]['depthcondition'] = CrustM\n",
    "DG[1][2]['depthcondition'] = CrustM"
   ]
  },
  {
   "cell_type": "code",
   "execution_count": 28,
   "metadata": {
    "collapsed": false
   },
   "outputs": [],
   "source": [
    "remove_nodes = []\n",
    "for node in DG.nodes():\n",
    "    if not node in material_list:\n",
    "        remove_nodes.append(node)\n",
    "        \n",
    "for rmnode in remove_nodes:\n",
    "    DG.remove_node(rmnode)"
   ]
  },
  {
   "cell_type": "code",
   "execution_count": 29,
   "metadata": {
    "collapsed": true
   },
   "outputs": [],
   "source": [
    "#A Dictionary to map strings in the graph (e.g. 'depthcondition') to particle data arrays\n",
    "\n",
    "particledepths = 1. - gSwarm.particleCoordinates.data[:,1]\n",
    "particletemps = temperatureField.evaluate(gSwarm)[:,0]\n",
    "\n",
    "conditionmap = {}\n",
    "\n",
    "conditionmap['depthcondition'] = {}\n",
    "conditionmap['depthcondition']['data'] = particledepths\n",
    "conditionmap['avgtempcondition'] = {}\n",
    "conditionmap['avgtempcondition']['data'] = particletemps"
   ]
  },
  {
   "cell_type": "code",
   "execution_count": 30,
   "metadata": {
    "collapsed": true
   },
   "outputs": [],
   "source": [
    "def update_swarm(graph, particleIndex):\n",
    "    \"\"\"\n",
    "    This function takes the materials graph (networkx.DiGraph), and a particle index,\n",
    "    then determines if a material update is required \n",
    "    and if so, returns the new materialindex\n",
    "    Args:\n",
    "        graph (networkx.DiGraph): Directed multigraph representing the transformation of material types\n",
    "        particleIndex (int): the particle index as corressponding to the index in the swarm data arrays\n",
    "    Returns:\n",
    "        if update is required the function returns the the new material variable (int) \n",
    "        else returns None\n",
    "    Raises:\n",
    "        TypeError: not implemented\n",
    "        ValueError: not implemented\n",
    "    \"\"\"\n",
    "    ##Egde gives links to other materials, we then query the conditions to see if we should change materials\n",
    "    matId = materialVariable.data[particleIndex][0]\n",
    "    innerchange = False\n",
    "    outerchange = False\n",
    "    for edge in graph[matId]:\n",
    "        if outerchange:\n",
    "            break\n",
    "        for cond in graph[matId][edge].keys():\n",
    "            outerchange = False\n",
    "            if innerchange: #found a complete transition, break inner loop\n",
    "                break\n",
    "            currentparticlevalue = conditionmap[cond]['data'][particleIndex]\n",
    "            crossover = graph[matId][edge][cond]\n",
    "            if ((matId > edge) and (currentparticlevalue > crossover)):\n",
    "                innerchange = False # continue on, \n",
    "                if graph[matId][edge].keys()[-1] == cond:\n",
    "                    outerchange = True\n",
    "                    innerchange = edge\n",
    "                    break\n",
    "            elif ((matId < edge) and (currentparticlevalue < crossover)):\n",
    "                innerchange = False\n",
    "                if graph[matId][edge].keys()[-1] == cond:\n",
    "                    outerchange = True\n",
    "                    innerchange = edge\n",
    "                    break\n",
    "            else:\n",
    "                #condition not met, break outer loop, go to next edge, outerchange should still be False\n",
    "                break\n",
    "    if type(innerchange) == int:\n",
    "        return innerchange"
   ]
  },
  {
   "cell_type": "code",
   "execution_count": 31,
   "metadata": {
    "collapsed": true
   },
   "outputs": [],
   "source": [
    "#Cleanse the swarm of its sins\n",
    "#For some Material Graphs, the graph may have to be treaversed more than once\n",
    "\n",
    "check = -1\n",
    "number_updated = 1\n",
    "\n",
    "while number_updated != 0:\n",
    "    number_updated = 0\n",
    "    for particleID in range(gSwarm.particleCoordinates.data.shape[0]):\n",
    "                check = update_swarm(DG, particleID)\n",
    "                if check > -1:\n",
    "                    number_updated += 1\n",
    "                    materialVariable.data[particleID] = check"
   ]
  },
  {
   "cell_type": "code",
   "execution_count": 32,
   "metadata": {
    "collapsed": false
   },
   "outputs": [],
   "source": [
    "figParticle = glucifer.Figure( figsize=(1024,384) )\n",
    "figParticle.append( glucifer.objects.Points(gSwarm, materialVariable, pointSize=2, colours='white green red purple blue') )\n",
    "figParticle.append( glucifer.objects.Mesh(mesh) )\n",
    "figParticle.show()\n",
    "figParticle.save_database('test.gldb')"
   ]
  },
  {
   "cell_type": "markdown",
   "metadata": {
    "collapsed": false
   },
   "source": [
    "Set up material parameters and functions\n",
    "-----\n"
   ]
  },
  {
   "cell_type": "markdown",
   "metadata": {},
   "source": [
    "**Viscosity field**\n",
    "\n",
    "The viscosity is a function of temperature ($T$), the vertical coordinate ($z$) and the strain rate ($\\dot{\\epsilon}$) and is given by\n",
    "\n",
    "$$\n",
    "    \\eta(T, z, \\dot{\\epsilon}) = 2 \\left( \\frac{1}{\\eta_{lin}(T,z)} + \\frac{1}{\\eta_{plast}(\\dot{\\epsilon})} \\right)^{-1}\n",
    "$$\n",
    "\n",
    "where the linear part is\n",
    "\n",
    "$$\n",
    "    \\eta_{lin}(T, z) = \\exp(-\\gamma_T T + \\gamma_z z)\n",
    "$$\n",
    "\n",
    "with $\\gamma_T = \\ln(\\Delta \\eta_T)$ and $\\gamma_z = \\ln(\\Delta \\eta_z)$. The nonlinear part is\n",
    "\n",
    "$$\n",
    "    \\eta_{plast}(\\dot{\\epsilon}) = \\eta^* + \\frac{\\sigma_{\\gamma}}{\\sqrt{\\dot{\\epsilon} : \\dot{\\epsilon}}}\n",
    "$$\n",
    "\n",
    "where $\\eta^*$ is the effective viscosity at high stresses and $\\sigma_{\\gamma}$ is the yield stress. The values of $\\Delta \\eta_T$, $\\Delta \\eta_z$, $\\eta^*$ and $\\sigma_{\\gamma}$ are assumed to be constant with values dependent on the particular case."
   ]
  },
  {
   "cell_type": "markdown",
   "metadata": {},
   "source": [
    "**Create variables required for plasticity calculations**"
   ]
  },
  {
   "cell_type": "code",
   "execution_count": 33,
   "metadata": {
    "collapsed": false
   },
   "outputs": [],
   "source": [
    "secinv = fn.tensor.second_invariant( fn.tensor.symmetric( velocityField.fn_gradient ) )\n",
    "coordinate = fn.coord()"
   ]
  },
  {
   "cell_type": "markdown",
   "metadata": {},
   "source": [
    "**Setup viscosity functions**\n",
    "\n",
    "Remember to use floats everywhere when setting up functions"
   ]
  },
  {
   "cell_type": "code",
   "execution_count": 34,
   "metadata": {
    "collapsed": false
   },
   "outputs": [],
   "source": [
    "viscosityl1 = newvisc*fn.math.exp(math.log(ETA_T)*-1.*temperatureField)\n",
    "viscosityl2 = newvisc*fn.math.exp((math.log(ETA_T)*-1.*temperatureField) + (1.-coordinate[1])*math.log(ETA_Y))\n",
    "\n",
    "#Von Mises effective viscosity\n",
    "viscosityp = ETA0 + YSTRESS/(secinv/math.sqrt(0.5)) #extra factor to account for underworld second invariant form\n",
    "\n",
    "if CASE == 1:\n",
    "    fn_viscosity = viscosityl1\n",
    "elif CASE == 2:\n",
    "    fn_viscosity = 2./(1./viscosityl1 + 1./viscosityp)\n",
    "elif CASE == 3:\n",
    "    fn_viscosity = viscosityl2\n",
    "else:\n",
    "    fn_viscosity = 2./(1./viscosityl2 + 1./viscosityp)"
   ]
  },
  {
   "cell_type": "code",
   "execution_count": 35,
   "metadata": {
    "collapsed": false
   },
   "outputs": [],
   "source": [
    "#Viscosities for Air, crust\n",
    "\n",
    "g = 9.81\n",
    "rho = 3300\n",
    "a = 1.25*10**-5\n",
    "kappa = 10**-6\n",
    "dT = 2500\n",
    "eta0 = rho*g*a*dT*((D*1e3)**3)/(RA*kappa)\n",
    "#Composisitional Rayleigh number\n",
    "Rc = (3300*g*(D*1000)**3)/(eta0*kappa)\n",
    "\n",
    "CompRAfact = Rc/RA\n",
    "\n",
    "airviscosity = 0.001\n",
    "airdensity = RA*CompRAfact\n",
    "\n",
    "\n",
    "viscreduct = 0.1\n",
    "\n",
    "#Von Mises effective viscosity\n",
    "crustviscosityp = viscreduct*ETA0 + ((viscreduct*YSTRESS)/(secinv/math.sqrt(0.5))) #extra factor to account for underworld second invariant form\n",
    "crustviscosityFn2 = 2./(1./viscosityl2 + 1./crustviscosityp)"
   ]
  },
  {
   "cell_type": "markdown",
   "metadata": {},
   "source": [
    "**Add functions for density and buoyancy**"
   ]
  },
  {
   "cell_type": "code",
   "execution_count": 36,
   "metadata": {
    "collapsed": false
   },
   "outputs": [],
   "source": [
    "# Here we set a viscosity value of '1.' for both materials\n",
    "viscosityMapFn = fn.branching.map( fn_key = materialVariable,\n",
    "                         mapping = {airIndex:airviscosity, lithosphereIndex:fn_viscosity, crustIndex:crustviscosityFn2,mantleIndex:fn_viscosity} )\n",
    "\n",
    "densityMapFn = fn.branching.map( fn_key = materialVariable,\n",
    "                         mapping = {airIndex:airdensity, lithosphereIndex:RA*temperatureField, crustIndex:RA*temperatureField, mantleIndex:RA*temperatureField} )\n",
    "\n",
    "# Define our gravity using a python tuple (this will be automatically converted to a function)\n",
    "gravity = ( 0.0, 1.0 )\n",
    "\n",
    "buoyancyFn = gravity*densityMapFn"
   ]
  },
  {
   "cell_type": "markdown",
   "metadata": {
    "collapsed": true
   },
   "source": [
    "densityFn = RA*temperatureField\n",
    "\n",
    " define our vertical unit vector using a python tuple (this will be automatically converted to a function)\n",
    "z_hat = ( 0.0, 1.0 )\n",
    "\n",
    "\n",
    "now create a buoyancy force vector using the density (FEvariable) and the vertical unit vector. \n",
    "buoyancyFn = densityFn * z_hat"
   ]
  },
  {
   "cell_type": "markdown",
   "metadata": {},
   "source": [
    "Build the Stokes system and solvers\n",
    "------\n",
    "\n",
    "Setup the Stokes system with linear or nonlinear visocity viscosity depending on case."
   ]
  },
  {
   "cell_type": "code",
   "execution_count": 37,
   "metadata": {
    "collapsed": false
   },
   "outputs": [],
   "source": [
    "#We first set up a l\n",
    "stokesPIC = uw.systems.Stokes(velocityField=velocityField, \n",
    "                              pressureField=pressureField,\n",
    "                              conditions=[freeslipBC,],\n",
    "#                              viscosityFn=viscosityFn1, \n",
    "                              fn_viscosity=fn.exception.SafeMaths(viscosityl1), \n",
    "                              fn_bodyforce=buoyancyFn)"
   ]
  },
  {
   "cell_type": "code",
   "execution_count": 38,
   "metadata": {
    "collapsed": true
   },
   "outputs": [],
   "source": [
    "solver = uw.systems.Solver(stokesPIC)\n",
    "solver.solve() "
   ]
  },
  {
   "cell_type": "code",
   "execution_count": 39,
   "metadata": {
    "collapsed": false
   },
   "outputs": [],
   "source": [
    "stokesPIC2 = uw.systems.Stokes( velocityField = velocityField, \n",
    "                               pressureField = pressureField,\n",
    "                               conditions    = [freeslipBC,],\n",
    "                               fn_viscosity   = fn.exception.SafeMaths(viscosityMapFn), \n",
    "                               fn_bodyforce   = buoyancyFn)"
   ]
  },
  {
   "cell_type": "markdown",
   "metadata": {},
   "source": [
    "Setup solver for the Stokes system of equations"
   ]
  },
  {
   "cell_type": "code",
   "execution_count": 40,
   "metadata": {
    "collapsed": false
   },
   "outputs": [],
   "source": [
    "solver = uw.systems.Solver( stokesPIC2 )\n",
    "\n",
    "solver.options.main.Q22_pc_type='uw'\n",
    "solver.options.A11.ksp_rtol=1e-7\n",
    "solver.options.scr.ksp_rtol=1e-6\n",
    "solver.options.scr.use_previous_guess = True\n",
    "solver.options.scr.ksp_set_min_it_converge = 6\n",
    "\n",
    "solver.options.mg.levels = 4\n",
    "\n",
    "solver.options.A11.ksp_monitor=''"
   ]
  },
  {
   "cell_type": "markdown",
   "metadata": {},
   "source": [
    "We do one solve for initial pressure and velocity with linear viscosity to get the initial strain rate invariant. This solve step also calculates a 'guess' of the the velocity field based on the linear system, which is used later in the non-linear solver."
   ]
  },
  {
   "cell_type": "code",
   "execution_count": 41,
   "metadata": {
    "collapsed": false
   },
   "outputs": [],
   "source": [
    "solver.solve( nonLinearIterate=False )"
   ]
  },
  {
   "cell_type": "code",
   "execution_count": 42,
   "metadata": {
    "collapsed": false
   },
   "outputs": [
    {
     "data": {
      "text/plain": [
       "0.010335453199021433"
      ]
     },
     "execution_count": 42,
     "metadata": {},
     "output_type": "execute_result"
    }
   ],
   "source": [
    "dwint   = uw.utils.Integral( temperatureField*velocityField[1], mesh )\n",
    "dwint.evaluate()[0]"
   ]
  },
  {
   "cell_type": "markdown",
   "metadata": {},
   "source": [
    "Create an advective-diffusive system\n",
    "-----\n",
    "\n",
    "Setup the system in underworld by flagging the temperature and velocity field variables."
   ]
  },
  {
   "cell_type": "code",
   "execution_count": 43,
   "metadata": {
    "collapsed": false
   },
   "outputs": [],
   "source": [
    "advDiff = uw.systems.AdvectionDiffusion( temperatureField, temperatureDotField, velocityField,\n",
    "                                         fn_diffusivity=1., conditions=[tempBC,] )\n",
    "\n",
    "\n",
    "advector = uw.systems.SwarmAdvector( swarm=gSwarm, velocityField=velocityField, order=2 )\n"
   ]
  },
  {
   "cell_type": "markdown",
   "metadata": {},
   "source": [
    "Metrics for benchmark\n",
    "=====\n",
    "\n",
    "Define functions to be used in the time loop. For cases 1-4, participants were asked to report a number of diagnostic quantities to be measured after reaching steady state:\n",
    "\n",
    "* Average temperature\n",
    "$$  \\langle T \\rangle  = \\int^1_0 \\int^1_0 T \\, dxdy $$\n",
    "* Top and bottom Nusselt numbers\n",
    "$$Nu_{top/bot} = - \\left. \\int^1_0 \\frac{\\partial T}{\\partial y} \\right|_{y=1/y=0} \\, dx$$\n",
    "* RMS velocity over the whole domain, surface and max velocity at surface\n",
    "$$u_{RMS} = \\left( \\int_0^1 \\int_0^1 \\left( u_x^2 + u_y^2 \\right) dx dy \\right)^{1/2}$$\n",
    "$$u_{RMS}^{surf} = \\left( \\left. \\int_0^1 u_x^2\\right|_{y=1} dx \\right)^{1/2}$$\n",
    "$$u_{max}^{surf} = \\left. \\max(u_x)\\right|_{y=1}$$\n",
    "* max and min viscosity over the whole domain\n",
    "$$\\eta_{max/min} = \\max / \\min \\left( \\eta\\left(x,y\\right) \\right)$$\n",
    "* average rate of work done against gravity\n",
    "$$\\langle W \\rangle = \\int^1_0 \\int^1_0 T u_y \\, dx dy$$\n",
    "* and the average rate of viscous dissipation\n",
    "$$\\langle \\Phi \\rangle = \\int^1_0 \\int^1_0 \\tau_{ij} \\dot \\epsilon_{ij} \\, dx dy$$\n",
    "\n",
    "* In steady state, if thermal energy is accurately conserved, the difference between $\\langle W \\rangle$ and $\\langle \\Phi \\rangle / Ra$ must vanish, so also reported is the percentage error: \n",
    "\n",
    "$$ \\delta = \\frac{\\lvert \\langle W \\rangle - \\frac{\\langle \\Phi \\rangle}{Ra} \\rvert}{max \\left(  \\langle W \\rangle,  \\frac{\\langle \\Phi \\rangle}{Ra}\\right)} \\times 100% $$"
   ]
  },
  {
   "cell_type": "markdown",
   "metadata": {},
   "source": [
    "**Setup volume integrals used in metric functions**"
   ]
  },
  {
   "cell_type": "code",
   "execution_count": 44,
   "metadata": {
    "collapsed": true
   },
   "outputs": [],
   "source": [
    "tempint = uw.utils.Integral( temperatureField, mesh )\n",
    "areaint = uw.utils.Integral( 1.,               mesh )\n",
    "\n",
    "v2int   = uw.utils.Integral( fn.math.dot(velocityField,velocityField), mesh )\n",
    "\n",
    "dwint   = uw.utils.Integral( temperatureField*velocityField[1], mesh )\n",
    "\n",
    "sinner = fn.math.dot( secinv, secinv )\n",
    "vdint = uw.utils.Integral( (4.*fn_viscosity*sinner), mesh )"
   ]
  },
  {
   "cell_type": "markdown",
   "metadata": {},
   "source": [
    "**Setup surface integrals used in metric functions**"
   ]
  },
  {
   "cell_type": "code",
   "execution_count": 45,
   "metadata": {
    "collapsed": false
   },
   "outputs": [],
   "source": [
    "rmsSurfInt = uw.utils.Integral( fn=velocityField[0]*velocityField[0], mesh=mesh, integrationType='Surface', \n",
    "                          surfaceIndexSet=mesh.specialSets[\"MaxJ_VertexSet\"])\n",
    "nuTop      = uw.utils.Integral( fn=temperatureField.fn_gradient[1],    mesh=mesh, integrationType='Surface', \n",
    "                          surfaceIndexSet=mesh.specialSets[\"MaxJ_VertexSet\"])\n",
    "nuBottom   = uw.utils.Integral( fn=temperatureField.fn_gradient[1],    mesh=mesh, integrationType='Surface', \n",
    "                          surfaceIndexSet=mesh.specialSets[\"MinJ_VertexSet\"])"
   ]
  },
  {
   "cell_type": "markdown",
   "metadata": {},
   "source": [
    "**Define diagnostic functions using integrals**"
   ]
  },
  {
   "cell_type": "code",
   "execution_count": 46,
   "metadata": {
    "collapsed": false
   },
   "outputs": [],
   "source": [
    "def avg_temp():\n",
    "    return tempint.evaluate()[0]/areaint.evaluate()[0]\n",
    "\n",
    "def nusseltTB(temp_field, mesh):\n",
    "    return -nuTop.evaluate()[0], -nuBottom.evaluate()[0]\n",
    "\n",
    "def rms():\n",
    "    return math.sqrt(v2int.evaluate()[0]/areaint.evaluate()[0])\n",
    "\n",
    "def rms_surf():\n",
    "    return math.sqrt(rmsSurfInt.evaluate()[0])\n",
    "\n",
    "def max_vx_surf(velfield, mesh):\n",
    "    vuvelxfn = fn.view.min_max(velfield[0])\n",
    "    vuvelxfn.evaluate(mesh.specialSets[\"MaxJ_VertexSet\"])\n",
    "    return vuvelxfn.max_global()\n",
    "\n",
    "def gravwork(workfn):\n",
    "    return workfn.evaluate()[0]\n",
    "\n",
    "def viscdis(vdissfn):\n",
    "    return vdissfn.evaluate()[0]\n",
    "\n",
    "def visc_extr(viscfn):\n",
    "    vuviscfn = fn.view.min_max(viscfn)\n",
    "    vuviscfn.evaluate(mesh)\n",
    "    return vuviscfn.max_global(), vuviscfn.min_global()"
   ]
  },
  {
   "cell_type": "code",
   "execution_count": 47,
   "metadata": {
    "collapsed": false
   },
   "outputs": [
    {
     "data": {
      "text/plain": [
       "5.021277449261956"
      ]
     },
     "execution_count": 47,
     "metadata": {},
     "output_type": "execute_result"
    }
   ],
   "source": [
    "rms()"
   ]
  },
  {
   "cell_type": "markdown",
   "metadata": {},
   "source": [
    "Main simulation loop\n",
    "------\n",
    "\n",
    "The main time stepping loop begins here. Before this the time and timestep are initialised to zero and the output statistics arrays are set up. Also the frequency of outputting basic statistics to the screen is set in steps_output.\n",
    "\n",
    "Since getting each case to equilibrium takes a long time the default number of steps to do is kept short. Edit this if you wish to go through the entire process yourself."
   ]
  },
  {
   "cell_type": "code",
   "execution_count": 48,
   "metadata": {
    "collapsed": true
   },
   "outputs": [],
   "source": [
    "steps_todo = 10"
   ]
  },
  {
   "cell_type": "markdown",
   "metadata": {},
   "source": [
    "Initialise steps and time. Set to zero unless loading values from file."
   ]
  },
  {
   "cell_type": "code",
   "execution_count": 49,
   "metadata": {
    "collapsed": false
   },
   "outputs": [],
   "source": [
    "try:\n",
    "    realtime = timeVal[-1]\n",
    "    step = int(stepsVal[-1])\n",
    "except:\n",
    "    realtime = 0.0\n",
    "    step = 0\n",
    "steps_end = step + steps_todo\n",
    "steps_output = 1\n",
    "steps_output = max(steps_output,1)"
   ]
  },
  {
   "cell_type": "code",
   "execution_count": 50,
   "metadata": {
    "collapsed": false
   },
   "outputs": [
    {
     "name": "stdout",
     "output_type": "stream",
     "text": [
      "Step :  0\n",
      "step = 1 ; dt = 0.0 ; CPU time = 27.452139 ; vrms =  7.00359602835\n",
      "Step :  1\n",
      "step = 2 ; dt = 2.19096823692e-06 ; CPU time = 36.26058 ; vrms =  7.02916458921\n",
      "Step :  2\n",
      "step = 3 ; dt = 2.19096823692e-06 ; CPU time = 53.464796 ; vrms =  6.09173278725\n",
      "Step :  3\n",
      "step = 4 ; dt = 2.19096823692e-06 ; CPU time = 64.389073 ; vrms =  6.200997348\n",
      "Step :  4\n",
      "step = 5 ; dt = 2.19096823692e-06 ; CPU time = 79.49046 ; vrms =  5.55833420685\n",
      "Step :  5\n",
      "step = 6 ; dt = 2.19096823692e-06 ; CPU time = 90.08443 ; vrms =  5.57447363694\n",
      "Step :  6\n",
      "step = 7 ; dt = 2.19096823692e-06 ; CPU time = 106.287902 ; vrms =  5.06639815643\n",
      "Step :  7\n",
      "step = 8 ; dt = 2.19096823692e-06 ; CPU time = 116.696819 ; vrms =  5.09771647473\n",
      "Step :  8\n",
      "step = 9 ; dt = 2.19096823692e-06 ; CPU time = 125.321575 ; vrms =  5.10651595987\n",
      "Step :  9\n",
      "step = 10 ; dt = 2.19096823692e-06 ; CPU time = 136.119587 ; vrms =  4.97377100043\n"
     ]
    }
   ],
   "source": [
    "# initialise timer for computation\n",
    "startMain = time.clock()\n",
    "# start loop\n",
    "while step < steps_end:\n",
    "    # Solve non-linear system\n",
    "    print \"Step : \", step\n",
    "    solver.solve(nonLinearIterate=True)\n",
    "    dt = advDiff.get_max_dt()\n",
    "    if step == 0:\n",
    "        dt = 0.\n",
    "    # Advect using this timestep size   \n",
    "    start = time.clock()\n",
    "    advDiff.integrate(dt)\n",
    "    machine_time = (time.clock()-start)\n",
    "    #print(\"total advDiff time is: \" + str(machine_time))\n",
    "    # Advect swarm using this timestep size\n",
    "    start = time.clock()\n",
    "    advector.integrate(dt)\n",
    "    machine_time = (time.clock()-start)\n",
    "    #print(\"total advector time is: \" + str(machine_time))\n",
    "    # Increment\n",
    "    # Increment\n",
    "    realtime += dt\n",
    "    step += 1\n",
    "    \n",
    "\n",
    "    # output fields and summary info to file (output graphics can also be added here)\n",
    "    if uw.rank()==0:\n",
    "        if (step % steps_output == 0) or (step == steps_end-1):\n",
    "            # Calculate the Metrics, only on 1 of the processors:\n",
    "            Avg_temp = avg_temp()\n",
    "            Rms = rms()\n",
    "            Rms_surf = rms_surf()\n",
    "            Max_vx_surf = max_vx_surf(velocityField, mesh)\n",
    "            Gravwork = gravwork(dwint)\n",
    "            Viscdis = viscdis(vdint)\n",
    "            nu1, nu0 = nusseltTB(temperatureField, mesh) # return top then bottom\n",
    "            etamax, etamin = visc_extr(fn_viscosity)\n",
    "            # store results\n",
    "            stepsVal.append(       step)\n",
    "            timeVal.append(        realtime )\n",
    "            viscdiscVal.append(    Viscdis )\n",
    "            nu0Val.append(         nu0 )\n",
    "            nu1Val.append(         nu1 )\n",
    "            Avg_tempVal.append(    Avg_temp )\n",
    "            vrmsVal.append(        Rms )\n",
    "            Rms_surfVal.append(    Rms_surf )\n",
    "            Max_vx_surfVal.append( Max_vx_surf )\n",
    "            GravworkVal.append(    Gravwork )\n",
    "            etamaxVal.append(      etamax )\n",
    "            etaminVal.append(      etamin )\n",
    "            print 'step =',step, '; dt =', dt, '; CPU time =', time.clock()-startMain, '; vrms = ',Rms\n",
    "            # Temperature\n",
    "            fnametemp = \"temperatureField_\" + str(step).zfill(6) + \".h5\"\n",
    "            fullpath = os.path.join(outputPath + \"files/\" + fnametemp)\n",
    "            temperatureField.save(fullpath)\n",
    "            # Temperature time derivative\n",
    "            fnametemp = \"temperatureDotField_\" + str(step).zfill(6) + \".h5\"\n",
    "            fullpath = os.path.join(outputPath + \"files/\" + fnametemp)\n",
    "            temperatureDotField.save(fullpath)\n",
    "            # Pressure\n",
    "            fnametemp = \"pressureField_\" + str(step).zfill(6) + \".h5\"\n",
    "            fullpath = os.path.join(outputPath + \"files/\" + fnametemp)\n",
    "            pressureField.save(fullpath)\n",
    "            # Velocity\n",
    "            fnametemp = \"velocityField_\" + str(step).zfill(6) + \".h5\"\n",
    "            fullpath = os.path.join(outputPath + \"files/\" + fnametemp)\n",
    "            velocityField.save(fullpath)\n",
    "\n",
    "            np.savetxt( outputPath + 'Summary.txt', np.c_[stepsVal, timeVal, viscdiscVal, nu0Val, \n",
    "                                                          nu1Val, Avg_tempVal, vrmsVal, Rms_surfVal,\n",
    "                                                         Max_vx_surfVal, GravworkVal, etamaxVal, etaminVal], \n",
    "                   header=\"Steps, Time, visc, Nusselt bottom/top, av_T, vrms, surf_rms, surf_max, grav, etamax, etamin\" )\n"
   ]
  },
  {
   "cell_type": "code",
   "execution_count": 51,
   "metadata": {
    "collapsed": false
   },
   "outputs": [
    {
     "data": {
      "text/plain": [
       "9"
      ]
     },
     "execution_count": 51,
     "metadata": {},
     "output_type": "execute_result"
    }
   ],
   "source": [
    "steps_output\n",
    "steps_end-1"
   ]
  },
  {
   "cell_type": "code",
   "execution_count": 52,
   "metadata": {
    "collapsed": false
   },
   "outputs": [
    {
     "data": {
      "text/plain": [
       "0.0"
      ]
     },
     "execution_count": 52,
     "metadata": {},
     "output_type": "execute_result"
    }
   ],
   "source": [
    "velocityField.evaluate(iWalls)[:,0].min()\n"
   ]
  },
  {
   "cell_type": "code",
   "execution_count": 53,
   "metadata": {
    "collapsed": false
   },
   "outputs": [],
   "source": [
    "viscVariable = gSwarm.add_variable( dataType=\"float\", count=1 )\n",
    "viscVariable.data[:] = viscosityMapFn.evaluate(gSwarm)\n"
   ]
  },
  {
   "cell_type": "code",
   "execution_count": 105,
   "metadata": {
    "collapsed": false
   },
   "outputs": [],
   "source": [
    "figEta = glucifer.Figure()\n",
    "figEta.append( glucifer.objects.Points(gSwarm,viscVariable, logScale=True))\n",
    "figEta.append( glucifer.objects.Mesh(mesh) )\n",
    "figEta.append( glucifer.objects.VectorArrows(mesh, velocityField, arrowHead=0.2, scaling=0.02))\n",
    "figEta.show()\n",
    "figEta.save_database('test.gldb')"
   ]
  },
  {
   "cell_type": "code",
   "execution_count": 101,
   "metadata": {
    "collapsed": false
   },
   "outputs": [],
   "source": [
    "figtemp = glucifer.Figure( figsize=(800,400) )\n",
    "figtemp.append( glucifer.objects.Surface(mesh, temperatureField, colours=\"blue white red\") )\n",
    "figtemp.append( glucifer.objects.Mesh(mesh) )\n",
    "figtemp.append( glucifer.objects.VectorArrows(mesh, velocityField, arrowHead=0.2, scaling=0.02))\n",
    "figtemp.show()\n",
    "figtemp.save_database('test.gldb')\n",
    "\n"
   ]
  },
  {
   "cell_type": "code",
   "execution_count": 53,
   "metadata": {
    "collapsed": true
   },
   "outputs": [],
   "source": [
    "import matplotlib.pyplot as pyplot\n",
    "%matplotlib inline"
   ]
  },
  {
   "cell_type": "code",
   "execution_count": 54,
   "metadata": {
    "collapsed": false
   },
   "outputs": [],
   "source": [
    "uni= np.genfromtxt(os.path.join(\"noRefine.txt\"), skip_header=0)\n",
    "rold= np.genfromtxt(os.path.join(\"oldRefine.txt\"), skip_header=0)\n",
    "rnew= np.genfromtxt(os.path.join(\"newRefine.txt\"), skip_header=0)\n",
    "\n"
   ]
  },
  {
   "cell_type": "code",
   "execution_count": 55,
   "metadata": {
    "collapsed": false
   },
   "outputs": [],
   "source": [
    "colnames = [\"Steps\", \"Time\", \"visc\", \"Nusselt_bottom\", \"Nusselt_top\", \"av_T\", \"vrms\", \"surf_rms\", \"surf_max\", \"grav\", \"etamax\", \"etamin\"]"
   ]
  },
  {
   "cell_type": "code",
   "execution_count": 63,
   "metadata": {
    "collapsed": false
   },
   "outputs": [
    {
     "name": "stdout",
     "output_type": "stream",
     "text": [
      "vrms\n"
     ]
    },
    {
     "data": {
      "text/plain": [
       "[<matplotlib.lines.Line2D at 0x1208e8190>]"
      ]
     },
     "execution_count": 63,
     "metadata": {},
     "output_type": "execute_result"
    },
    {
     "data": {
      "image/png": "[encoded data removed]",
      "text/plain": [
       "<matplotlib.figure.Figure at 0x1207a4ad0>"
      ]
     },
     "metadata": {},
     "output_type": "display_data"
    }
   ],
   "source": [
    "col = 6\n",
    "print(colnames[col])\n",
    "\n",
    "pyplot.plot(rold[:, 1], rold[:, col], c = 'r')\n",
    "pyplot.plot(rnew[:, 1], rnew[:, col], c = 'g')\n",
    "pyplot.plot(uni[:, 1], uni[:, col], c = 'b', linestyle = '--')\n",
    "#pyplot.ylim((0, 0.6))"
   ]
  },
  {
   "cell_type": "markdown",
   "metadata": {},
   "source": [
    "Save final fields - useful for continuing runs."
   ]
  },
  {
   "cell_type": "code",
   "execution_count": null,
   "metadata": {
    "collapsed": true
   },
   "outputs": [],
   "source": []
  }
 ],
 "metadata": {
  "kernelspec": {
   "display_name": "Python 2",
   "language": "python",
   "name": "python2"
  },
  "language_info": {
   "codemirror_mode": {
    "name": "ipython",
    "version": 2
   },
   "file_extension": ".py",
   "mimetype": "text/x-python",
   "name": "python",
   "nbconvert_exporter": "python",
   "pygments_lexer": "ipython2",
   "version": "2.7.11"
  }
 },
 "nbformat": 4,
 "nbformat_minor": 0
}
