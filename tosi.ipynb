{
 "cells": [
  {
   "cell_type": "markdown",
   "metadata": {
    "collapsed": true
   },
   "source": [
    "Viscoplastic thermal convection in a 2-D square box: Tosi et al. 2015\n",
    "=====\n",
    "\n",
    "This series of notebooks generates benchmark models from the Tosi et al. (2015) in Underworld2. The Underworld2 results are then directly compared to the results from Table 2 of Tosi et al. (2015) the paper for each case. The notebooks are broken into a general notebook for reproducing the models from scratch and 5 post-analysis notebooks which look at the results Underworld2 gives for each case after running to equilibrium. \n",
    "\n",
    "Parallel computer friendly version\n",
    "-------\n",
    "\n",
    "This general notebook contains the conditions for each of the cases in Tose et al. (2015) as well as being written in a way that is parallel computer friendly. This means that to run across multiple processors download this notebook as a python file and use this on your cluster of choice. Or use the supplied ``TosiParallel.py`` python script and run with a command like:\n",
    "\n",
    "    mpirun -np 4 python TosiParallel.py \n",
    "\n",
    "To run case 5b modify the case 5a numbers to use $\\sigma_\\gamma$ = 3 to 5 with increment of 0.1.\n",
    "\n",
    "References\n",
    "-----\n",
    "\n",
    "1. Tosi, Nicola and Stein, Claudia and Noack, Lena and H&uuml;ttig, Christian and Maierov&aacute;, Petra and Samuel, Henri and Davies, DR and Wilson, CR and Kramer, SC and Thieulot, Cedric and others. 2015. _A community benchmark for viscoplastic thermal convection in a 2-D square box_.\n"
   ]
  },
  {
   "cell_type": "markdown",
   "metadata": {},
   "source": [
    "Load python functions needed for underworld. Some additional python functions from os, math and numpy used later on."
   ]
  },
  {
   "cell_type": "code",
   "execution_count": 165,
   "metadata": {
    "collapsed": false
   },
   "outputs": [],
   "source": [
    "import underworld as uw\n",
    "import math\n",
    "from underworld import function as fn\n",
    "import time\n",
    "import numpy as np\n",
    "import glucifer\n",
    "import os"
   ]
  },
  {
   "cell_type": "code",
   "execution_count": 166,
   "metadata": {
    "collapsed": false
   },
   "outputs": [],
   "source": [
    "#!pip install natsort\n",
    "#!pip install networkx"
   ]
  },
  {
   "cell_type": "markdown",
   "metadata": {},
   "source": [
    "Set physical constants and parameters, including the Rayleigh number (*Ra*) and viscosity constants ($\\eta^*$ and $\\eta_T$) which are common to all Tosi et al cases."
   ]
  },
  {
   "cell_type": "code",
   "execution_count": 167,
   "metadata": {
    "collapsed": true
   },
   "outputs": [],
   "source": [
    "ETA_T = 1e5\n",
    "\n",
    "newvisc= math.exp(math.log(ETA_T)*0.53)"
   ]
  },
  {
   "cell_type": "code",
   "execution_count": 168,
   "metadata": {
    "collapsed": false
   },
   "outputs": [],
   "source": [
    "res = 128      # simulation resolution (horizontal and vertical directions)\n",
    "RA  = 1e2*newvisc        # Rayleigh number\n",
    "ETA_T = 1e5      # common viscosity constant\n",
    "TS  = 0          # surface temperature\n",
    "TB  = 1          # bottom boundary temperature (melting point)\n",
    "ETA0 = 1e-3*newvisc      # viscosity constant eta^* in Tosi et al\n",
    "TMAX = 3.0\n",
    "IMAX = 1000\n",
    "D = 2890.\n",
    "ALPHA = 11."
   ]
  },
  {
   "cell_type": "code",
   "execution_count": 169,
   "metadata": {
    "collapsed": true
   },
   "outputs": [],
   "source": [
    "LoadFromFile = False\n",
    "RefineMesh = False\n"
   ]
  },
  {
   "cell_type": "markdown",
   "metadata": {},
   "source": [
    "Select which case of Tosi et al (2015) to use. Must be between 1 and 5."
   ]
  },
  {
   "cell_type": "code",
   "execution_count": 170,
   "metadata": {
    "collapsed": false
   },
   "outputs": [],
   "source": [
    "CASE = 4"
   ]
  },
  {
   "cell_type": "markdown",
   "metadata": {},
   "source": [
    "Setup a dictonary containing viscosity and stress values for each case."
   ]
  },
  {
   "cell_type": "code",
   "execution_count": 171,
   "metadata": {
    "collapsed": false
   },
   "outputs": [],
   "source": [
    "case_dict = {}\n",
    "case_dict[1] = {}\n",
    "case_dict[1]['ETA_Y'] = 1.\n",
    "case_dict[1]['YSTRESS'] = 1.*newvisc\n",
    "case_dict[2] = {}\n",
    "case_dict[2]['ETA_Y'] = 1.\n",
    "case_dict[2]['YSTRESS'] = 1.*newvisc\n",
    "case_dict[3] = {}\n",
    "case_dict[3]['ETA_Y'] = 10.\n",
    "case_dict[4] = {}\n",
    "case_dict[4]['ETA_Y'] = 10.\n",
    "case_dict[4]['YSTRESS'] = 1.*newvisc\n",
    "case_dict[5] = {}\n",
    "case_dict[5]['ETA_Y'] = 10.\n",
    "case_dict[5]['YSTRESS'] = 4.*newvisc"
   ]
  },
  {
   "cell_type": "markdown",
   "metadata": {},
   "source": [
    "Set viscosity constants based on which Tosi et al case is being used."
   ]
  },
  {
   "cell_type": "code",
   "execution_count": 172,
   "metadata": {
    "collapsed": false
   },
   "outputs": [],
   "source": [
    "ETA_Y = case_dict[CASE]['ETA_Y']\n",
    "YSTRESS = case_dict[CASE]['YSTRESS']"
   ]
  },
  {
   "cell_type": "markdown",
   "metadata": {},
   "source": [
    "Set input and output file directories"
   ]
  },
  {
   "cell_type": "code",
   "execution_count": 173,
   "metadata": {
    "collapsed": false
   },
   "outputs": [],
   "source": [
    "# input file directory\n",
    "inputPath  = 'TosiInput/case' + str(CASE) + \"/\"\n",
    "\n",
    "# output files\n",
    "outputPath = 'TosiOutput/'\n",
    "filePath   = outputPath+'files'\n",
    "\n",
    "# make directories if they don't exist\n",
    "if not os.path.isdir(outputPath):\n",
    "    os.makedirs(outputPath)\n",
    "if not os.path.isdir(filePath):\n",
    "    os.makedirs(filePath)"
   ]
  },
  {
   "cell_type": "markdown",
   "metadata": {},
   "source": [
    "Create mesh and finite element variables\n",
    "------\n",
    "\n",
    "Set up mesh and field variables that are solved on the mesh. See user guides for details of this process."
   ]
  },
  {
   "cell_type": "code",
   "execution_count": 174,
   "metadata": {
    "collapsed": false
   },
   "outputs": [],
   "source": [
    "minCoord    = (0., 0.) \n",
    "maxCoord    = (1., 1.035)\n",
    "\n",
    "mesh = uw.mesh.FeMesh_Cartesian( elementType = (\"Q1/dQ0\"), \n",
    "                                 elementRes  = (res, res), \n",
    "                                 minCoord    = minCoord, \n",
    "                                 maxCoord    = maxCoord)\n",
    "\n",
    "velocityField       = uw.mesh.MeshVariable( mesh=mesh,         nodeDofCount=2 )\n",
    "pressureField       = uw.mesh.MeshVariable( mesh=mesh.subMesh, nodeDofCount=1 )\n",
    "temperatureField    = uw.mesh.MeshVariable( mesh=mesh,         nodeDofCount=1 )\n",
    "temperatureDotField = uw.mesh.MeshVariable( mesh=mesh,         nodeDofCount=1 )"
   ]
  },
  {
   "cell_type": "markdown",
   "metadata": {},
   "source": [
    "#### mesh refine"
   ]
  },
  {
   "cell_type": "code",
   "execution_count": 175,
   "metadata": {
    "collapsed": false
   },
   "outputs": [],
   "source": [
    "ay = minCoord[1]\n",
    "by = maxCoord[1]\n",
    "ax = minCoord[0]\n",
    "bx = maxCoord[0]"
   ]
  },
  {
   "cell_type": "code",
   "execution_count": 176,
   "metadata": {
    "collapsed": true
   },
   "outputs": [],
   "source": [
    "s = 1.2\n",
    "\n",
    "\n",
    "newys = []\n",
    "newxs = []\n",
    "for index, coord in enumerate(mesh.data):\n",
    "    y0 = coord[1]\n",
    "    x0 = abs(coord[0])\n",
    "    newy =(by - (ay + (by-ay)*((by - y0)/(by-ay))**s))\n",
    "    newx =(bx - (ax + (bx-ax)*((bx - x0)/(bx-ax))**s)) \n",
    "    newys.append(newy)\n",
    "    newxs.append(newx)"
   ]
  },
  {
   "cell_type": "code",
   "execution_count": 177,
   "metadata": {
    "collapsed": false
   },
   "outputs": [
    {
     "data": {
      "text/plain": [
       "1.035"
      ]
     },
     "execution_count": 177,
     "metadata": {},
     "output_type": "execute_result"
    }
   ],
   "source": [
    "maxCoord[1]"
   ]
  },
  {
   "cell_type": "markdown",
   "metadata": {
    "collapsed": true
   },
   "source": [
    "alpha=ALPHA\n",
    "newys = []\n",
    "newxs = []\n",
    "for index, coord in enumerate(mesh.data):\n",
    "    y0 = coord[1]\n",
    "    x0 = abs(coord[0])\n",
    "    newy = maxCoord[1]*(math.log(alpha*y0 + math.e) - 1)*(1/(math.log(alpha + math.e) - 1))\n",
    "    newx = (math.log((alpha/2.)*x0 + math.e) - 1)*(1/(math.log((alpha/2.) + math.e) - 1))\n",
    "    if coord[0] <= 0:\n",
    "        newx = -1.*newx\n",
    "    newys.append(newy)\n",
    "    newxs.append(newx)\n",
    "        "
   ]
  },
  {
   "cell_type": "code",
   "execution_count": 178,
   "metadata": {
    "collapsed": false
   },
   "outputs": [],
   "source": [
    "if RefineMesh:\n",
    "    with mesh.deform_mesh():\n",
    "        mesh.data[:,1] = newys\n",
    "        mesh.data[:,0] = newxs"
   ]
  },
  {
   "cell_type": "code",
   "execution_count": 179,
   "metadata": {
    "collapsed": false
   },
   "outputs": [
    {
     "data": {
      "text/html": [
       "<img src='data:image/png;base64,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'>"
      ],
      "text/plain": [
       "<IPython.core.display.HTML object>"
      ]
     },
     "execution_count": 179,
     "metadata": {},
     "output_type": "execute_result"
    }
   ],
   "source": [
    "\n",
    "meshfig = glucifer.Figure(figsize=(800,400))\n",
    "meshfig.append( glucifer.objects.Mesh(mesh) )\n",
    "meshfig.show()\n",
    "#meshfig.save_database('test.gldb')"
   ]
  },
  {
   "cell_type": "markdown",
   "metadata": {},
   "source": [
    "Set initial conditions and boundary conditions\n",
    "----------\n",
    "\n",
    "**Initial and boundary conditions**\n",
    "\n",
    "Either set by perturbation function or load data from file."
   ]
  },
  {
   "cell_type": "markdown",
   "metadata": {},
   "source": [
    "**If loading from file**\n",
    "\n",
    "Read (``savedRes`` $\\times$ ``savedRes``) resolution data for $P$, $v$ and $T$ fields as well as existing summary statistics data. These are converted into lists so that the main time loop below will append with new values.\n"
   ]
  },
  {
   "cell_type": "code",
   "execution_count": 180,
   "metadata": {
    "collapsed": true
   },
   "outputs": [],
   "source": [
    "if(LoadFromFile == False):\n",
    "# Initialise data.. Note that we are also setting boundary conditions here\n",
    "    velocityField.data[:]  = [0.,0.]\n",
    "    pressureField.data[:]  = 0.\n",
    "    temperatureDotField.data[:] = 0.\n",
    "    temperatureField.data[:] = 0.\n",
    "# Setup temperature initial condition via numpy arrays\n",
    "    A = 0.01\n",
    "#Note that width = height = 1\n",
    "    for index, coord in enumerate(mesh.data):\n",
    "        pertCoeff = (1- coord[1]) + A*math.cos( math.pi * coord[0] ) * math.sin( math.pi * coord[1] )\n",
    "        temperatureField.data[index] = pertCoeff;    \n",
    "    stepsVal = []\n",
    "    timeVal = []\n",
    "    viscdiscVal = []\n",
    "    nu0Val = []\n",
    "    nu1Val = []\n",
    "    Avg_tempVal = []\n",
    "    vrmsVal = []\n",
    "    Rms_surfVal = []\n",
    "    Max_vx_surfVal = []\n",
    "    GravworkVal = []\n",
    "    etamaxVal = []\n",
    "    etaminVal = []"
   ]
  },
  {
   "cell_type": "code",
   "execution_count": 181,
   "metadata": {
    "collapsed": false
   },
   "outputs": [
    {
     "data": {
      "text/html": [
       "<img src='data:image/png;base64,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'>"
      ],
      "text/plain": [
       "<IPython.core.display.HTML object>"
      ]
     },
     "execution_count": 181,
     "metadata": {},
     "output_type": "execute_result"
    }
   ],
   "source": [
    "figtemp = glucifer.Figure( figsize=(800,400) )\n",
    "figtemp.append( glucifer.objects.Surface(mesh, temperatureField, colours=\"blue white red\") )\n",
    "figtemp.append( glucifer.objects.Mesh(mesh) )\n",
    "figtemp.append( glucifer.objects.VectorArrows(mesh, velocityField, arrowHead=0.2, scaling=0.01))\n",
    "figtemp.show()\n"
   ]
  },
  {
   "cell_type": "code",
   "execution_count": null,
   "metadata": {
    "collapsed": true
   },
   "outputs": [],
   "source": []
  },
  {
   "cell_type": "code",
   "execution_count": 182,
   "metadata": {
    "collapsed": true
   },
   "outputs": [],
   "source": [
    "def checkSurfaceIntegration(mesh, value, fn=1., rtol=1e-05):\n",
    "    \"\"\"\n",
    "    This function performs surface integration across the entire boundary of the \n",
    "    provided mesh. The surface integration of 'fn' is expected to return a result \n",
    "    with 'rtol' of 'value'.\n",
    "    \n",
    "    Parameters\n",
    "    ----------\n",
    "        mesh : uw.mesh.FeMesh\n",
    "            The mesh across which integration is to be performed.\n",
    "        value: float\n",
    "            The expected result of the integration.\n",
    "        fn   : uw.function.Function\n",
    "            The function which is to be integrated.\n",
    "        rtol : float\n",
    "            Relative tolerance. Check allclose documentation for details.\n",
    "    \"\"\"\n",
    "    boundaryLength = uw.utils.Integral( fn=fn, mesh=mesh, integrationType='Surface', surfaceIndexSet=mesh.specialSets[\"AllWalls_VertexSet\"])\n",
    "    result = boundaryLength.evaluate()\n",
    "    assert np.allclose( result, value, rtol=rtol ), \"Error occurred in surface integration. Integration = {}, Expected = {}\".format(result, value)\n",
    "def checkVolumeIntegration(mesh, value, fn=1., rtol=1e-05):\n",
    "    \"\"\"\n",
    "    This function performs volume integration across the entire volume of the \n",
    "    provided mesh. The volume integration of 'fn' is expected to return a result \n",
    "    with 'rtol' of 'value'.\n",
    "    \n",
    "    Parameters\n",
    "    ----------\n",
    "        mesh : uw.mesh.FeMesh\n",
    "            The mesh across which integration is to be performed.\n",
    "        value: float\n",
    "            The expected result of the integration.\n",
    "        fn   : uw.function.Function\n",
    "            The function which is to be integrated.\n",
    "        rtol : float\n",
    "            Relative tolerance. Check allclose documentation for details.\n",
    "    \"\"\"\n",
    "\n",
    "    totalVolume = uw.utils.Integral( fn=fn, mesh=mesh, integrationType='Volume')\n",
    "    result = totalVolume.evaluate()\n",
    "    assert np.allclose( result, value, rtol=rtol ), \"Error occurred in volume integration. Integration = {}, Expected = {}\".format(result, value)"
   ]
  },
  {
   "cell_type": "code",
   "execution_count": 183,
   "metadata": {
    "collapsed": true
   },
   "outputs": [],
   "source": [
    "def correctLength(minCoord,maxCoord):\n",
    "    \"\"\" Calculates the total boundary length of a mesh created using minCoord,maxCoord. \"\"\"\n",
    "    return 2.*np.sum( maxCoord[ii] - minCoord[ii] for ii in range(0,len(minCoord)))\n",
    "def correctVol(minCoord,maxCoord):\n",
    "    \"\"\" Calculates the volume of a mesh created using minCoord,maxCoord. \"\"\"\n",
    "    return np.prod( [ maxCoord[ii] - minCoord[ii] for ii in range(0,len(minCoord)) ] ) "
   ]
  },
  {
   "cell_type": "code",
   "execution_count": 184,
   "metadata": {
    "collapsed": false
   },
   "outputs": [],
   "source": [
    "\n",
    "#checkVolumeIntegration( mesh, correctVol(minCoord,maxCoord))\n",
    "\n",
    "#checkSurfaceIntegration(mesh, correctLength(minCoord,maxCoord))"
   ]
  },
  {
   "cell_type": "markdown",
   "metadata": {},
   "source": [
    "**Boundary conditions**\n",
    "\n",
    "This step is to ensure that the temperature boundary conditions are satisfied, as the initial conditions above may have been set to different values on the boundaries."
   ]
  },
  {
   "cell_type": "code",
   "execution_count": 185,
   "metadata": {
    "collapsed": false
   },
   "outputs": [],
   "source": [
    "for index in mesh.specialSets[\"MinJ_VertexSet\"]:\n",
    "    temperatureField.data[index] = TB\n",
    "for index in mesh.specialSets[\"MaxJ_VertexSet\"]:\n",
    "    temperatureField.data[index] = TS"
   ]
  },
  {
   "cell_type": "markdown",
   "metadata": {},
   "source": [
    "**Conditions on the boundaries**\n",
    "\n",
    "Construct sets for the both horizontal and vertical walls. Combine the sets of vertices to make the I (left and right side walls) and J (top and bottom walls) sets. Note that both sets contain the corners of the box."
   ]
  },
  {
   "cell_type": "code",
   "execution_count": 186,
   "metadata": {
    "collapsed": false
   },
   "outputs": [],
   "source": [
    "iWalls = mesh.specialSets[\"MinI_VertexSet\"] + mesh.specialSets[\"MaxI_VertexSet\"]\n",
    "jWalls = mesh.specialSets[\"MinJ_VertexSet\"] + mesh.specialSets[\"MaxJ_VertexSet\"]\n",
    "freeslipBC = uw.conditions.DirichletCondition( variable      = velocityField, \n",
    "                                               indexSetsPerDof = (iWalls, jWalls) )\n",
    "tempBC     = uw.conditions.DirichletCondition( variable      = temperatureField, \n",
    "                                               indexSetsPerDof = (jWalls,) )"
   ]
  },
  {
   "cell_type": "markdown",
   "metadata": {},
   "source": [
    "## Particles"
   ]
  },
  {
   "cell_type": "code",
   "execution_count": 187,
   "metadata": {
    "collapsed": false
   },
   "outputs": [],
   "source": [
    "# initialise a swarm\n",
    "gSwarm = uw.swarm.Swarm( mesh=mesh )\n",
    "\n",
    "# add a data variable which will store information on the particle\n",
    "materialVariable   = gSwarm.add_variable( dataType=\"int\", count=1 )\n",
    "\n",
    "\n",
    "# create a layout object that will populate the swarm across the whole domain\n",
    "swarmLayout = uw.swarm.layouts.PerCellRandomLayout( swarm=gSwarm, particlesPerCell=15)\n",
    "\n",
    "# activate the layout object\n",
    "gSwarm.populate_using_layout( layout=swarmLayout )\n",
    "\n",
    "\n",
    "\n",
    "\n",
    "\n",
    "varlist = [materialVariable]\n",
    "varnames = ['materialVariable']"
   ]
  },
  {
   "cell_type": "code",
   "execution_count": 188,
   "metadata": {
    "collapsed": false
   },
   "outputs": [],
   "source": [
    "mantleIndex = 0\n",
    "lithosphereIndex = 1\n",
    "crustIndex = 2\n",
    "airIndex = 3\n",
    "\n",
    "#All depth conditions are given as (km/D) where D is the length scale, \n",
    "#note that 'model depths' are used, e.g. 1-z, where z is the vertical Underworld coordinate\n",
    "#All temp conditions are in dimensionless temp. [0. - 1.]\n",
    "\n",
    "#A few paramters defining lengths scales\n",
    "\n",
    "Crust = 27.\n",
    "CrustM = Crust/D\n",
    "\n",
    "#######Setup some variables which help define condtions\n",
    "#rock-air topography limits\n",
    "dz = 15./D\n",
    "\n",
    "avgtemp = 0.5"
   ]
  },
  {
   "cell_type": "code",
   "execution_count": 189,
   "metadata": {
    "collapsed": false
   },
   "outputs": [],
   "source": [
    "# Lets initialise the 'materialVariable' data to represent different materials\n",
    "# Set the material to heavy everywhere via the numpy array\n",
    "materialVariable.data[:] = mantleIndex\n",
    "    \n",
    "    \n",
    "#Set initial air and crust materials (allow the graph to take care of lithsophere)\n",
    "#########\n",
    "#This initial material setup will be model dependent\n",
    "#########\n",
    "for particleID in range(gSwarm.particleCoordinates.data.shape[0]):\n",
    "    if (1. - gSwarm.particleCoordinates.data[particleID][1]) < 0:\n",
    "        materialVariable.data[particleID] = airIndex\n",
    "    elif (1. - gSwarm.particleCoordinates.data[particleID][1]) < CrustM:\n",
    "        materialVariable.data[particleID] = crustIndex"
   ]
  },
  {
   "cell_type": "code",
   "execution_count": 190,
   "metadata": {
    "collapsed": true
   },
   "outputs": [],
   "source": [
    "##############\n",
    "#Important: This is a quick fix for a bug that arises in parallel runs\n",
    "##############\n",
    "material_list = [0,1,2,3]"
   ]
  },
  {
   "cell_type": "code",
   "execution_count": 191,
   "metadata": {
    "collapsed": false
   },
   "outputs": [],
   "source": [
    "import networkx as nx\n",
    "\n",
    "#######Graph object\n",
    "DG = nx.DiGraph(field=\"Depth\")\n",
    "\n",
    "#######Nodes\n",
    "#Note that the order of materials, deepest to shallowest is important \n",
    "DG.add_node(0, mat='mantle')\n",
    "DG.add_node(1, mat='lithosphere')\n",
    "DG.add_node(2, mat='crust')\n",
    "DG.add_node(3, mat='air')\n",
    "\n",
    "\n",
    "labels=dict((n,d['mat']) for n,d in DG.nodes(data=True))\n",
    "pos=nx.spring_layout(DG) \n",
    "\n",
    "\n",
    "#######Edges\n",
    "#anything to air\n",
    "DG.add_edges_from([(0,3),(1,3), (2,3)])\n",
    "DG[0][3]['depthcondition'] = -1*dz\n",
    "DG[1][3]['depthcondition'] = -1*dz\n",
    "DG[2][3]['depthcondition'] = -1*dz\n",
    "\n",
    "\n",
    "#Anything to mantle\n",
    "DG.add_edges_from([(2,0), (3,0), (1,0)])\n",
    "DG[3][0]['depthcondition'] = dz\n",
    "DG[2][0]['depthcondition'] = (300./D)\n",
    "DG[1][0]['depthcondition'] = (660./D) #This means we're going to kill lithosphere at the 660.\n",
    "\n",
    "\n",
    "#Anything to lithsphere\n",
    "DG.add_edges_from([(0,1),(3,1)])\n",
    "DG[0][1]['depthcondition'] = 200./D\n",
    "DG[0][1]['avgtempcondition'] = 0.75*avgtemp #definition of thermal lithosphere\n",
    "\n",
    "\n",
    "#Anything to crust\n",
    "DG.add_edges_from([(0,2), (1,2)])\n",
    "DG[0][2]['depthcondition'] = CrustM\n",
    "DG[1][2]['depthcondition'] = CrustM"
   ]
  },
  {
   "cell_type": "code",
   "execution_count": 192,
   "metadata": {
    "collapsed": false
   },
   "outputs": [],
   "source": [
    "remove_nodes = []\n",
    "for node in DG.nodes():\n",
    "    if not node in material_list:\n",
    "        remove_nodes.append(node)\n",
    "        \n",
    "for rmnode in remove_nodes:\n",
    "    DG.remove_node(rmnode)"
   ]
  },
  {
   "cell_type": "code",
   "execution_count": 193,
   "metadata": {
    "collapsed": true
   },
   "outputs": [],
   "source": [
    "#A Dictionary to map strings in the graph (e.g. 'depthcondition') to particle data arrays\n",
    "\n",
    "particledepths = 1. - gSwarm.particleCoordinates.data[:,1]\n",
    "particletemps = temperatureField.evaluate(gSwarm)[:,0]\n",
    "\n",
    "conditionmap = {}\n",
    "\n",
    "conditionmap['depthcondition'] = {}\n",
    "conditionmap['depthcondition']['data'] = particledepths\n",
    "conditionmap['avgtempcondition'] = {}\n",
    "conditionmap['avgtempcondition']['data'] = particletemps"
   ]
  },
  {
   "cell_type": "code",
   "execution_count": 194,
   "metadata": {
    "collapsed": true
   },
   "outputs": [],
   "source": [
    "def update_swarm(graph, particleIndex):\n",
    "    \"\"\"\n",
    "    This function takes the materials graph (networkx.DiGraph), and a particle index,\n",
    "    then determines if a material update is required \n",
    "    and if so, returns the new materialindex\n",
    "    Args:\n",
    "        graph (networkx.DiGraph): Directed multigraph representing the transformation of material types\n",
    "        particleIndex (int): the particle index as corressponding to the index in the swarm data arrays\n",
    "    Returns:\n",
    "        if update is required the function returns the the new material variable (int) \n",
    "        else returns None\n",
    "    Raises:\n",
    "        TypeError: not implemented\n",
    "        ValueError: not implemented\n",
    "    \"\"\"\n",
    "    ##Egde gives links to other materials, we then query the conditions to see if we should change materials\n",
    "    matId = materialVariable.data[particleIndex][0]\n",
    "    innerchange = False\n",
    "    outerchange = False\n",
    "    for edge in graph[matId]:\n",
    "        if outerchange:\n",
    "            break\n",
    "        for cond in graph[matId][edge].keys():\n",
    "            outerchange = False\n",
    "            if innerchange: #found a complete transition, break inner loop\n",
    "                break\n",
    "            currentparticlevalue = conditionmap[cond]['data'][particleIndex]\n",
    "            crossover = graph[matId][edge][cond]\n",
    "            if ((matId > edge) and (currentparticlevalue > crossover)):\n",
    "                innerchange = False # continue on, \n",
    "                if graph[matId][edge].keys()[-1] == cond:\n",
    "                    outerchange = True\n",
    "                    innerchange = edge\n",
    "                    break\n",
    "            elif ((matId < edge) and (currentparticlevalue < crossover)):\n",
    "                innerchange = False\n",
    "                if graph[matId][edge].keys()[-1] == cond:\n",
    "                    outerchange = True\n",
    "                    innerchange = edge\n",
    "                    break\n",
    "            else:\n",
    "                #condition not met, break outer loop, go to next edge, outerchange should still be False\n",
    "                break\n",
    "    if type(innerchange) == int:\n",
    "        return innerchange"
   ]
  },
  {
   "cell_type": "code",
   "execution_count": 195,
   "metadata": {
    "collapsed": true
   },
   "outputs": [],
   "source": [
    "#Cleanse the swarm of its sins\n",
    "#For some Material Graphs, the graph may have to be treaversed more than once\n",
    "\n",
    "check = -1\n",
    "number_updated = 1\n",
    "\n",
    "while number_updated != 0:\n",
    "    number_updated = 0\n",
    "    for particleID in range(gSwarm.particleCoordinates.data.shape[0]):\n",
    "                check = update_swarm(DG, particleID)\n",
    "                if check > -1:\n",
    "                    number_updated += 1\n",
    "                    materialVariable.data[particleID] = check"
   ]
  },
  {
   "cell_type": "code",
   "execution_count": 196,
   "metadata": {
    "collapsed": false
   },
   "outputs": [],
   "source": [
    "figParticle = glucifer.Figure( figsize=(1024,384) )\n",
    "figParticle.append( glucifer.objects.Points(gSwarm, materialVariable, pointSize=2, colours='white green red purple blue') )\n",
    "figParticle.append( glucifer.objects.Mesh(mesh) )\n",
    "figParticle.show()\n",
    "figParticle.save_database('test.gldb')"
   ]
  },
  {
   "cell_type": "markdown",
   "metadata": {
    "collapsed": false
   },
   "source": [
    "Set up material parameters and functions\n",
    "-----\n"
   ]
  },
  {
   "cell_type": "markdown",
   "metadata": {},
   "source": [
    "**Viscosity field**\n",
    "\n",
    "The viscosity is a function of temperature ($T$), the vertical coordinate ($z$) and the strain rate ($\\dot{\\epsilon}$) and is given by\n",
    "\n",
    "$$\n",
    "    \\eta(T, z, \\dot{\\epsilon}) = 2 \\left( \\frac{1}{\\eta_{lin}(T,z)} + \\frac{1}{\\eta_{plast}(\\dot{\\epsilon})} \\right)^{-1}\n",
    "$$\n",
    "\n",
    "where the linear part is\n",
    "\n",
    "$$\n",
    "    \\eta_{lin}(T, z) = \\exp(-\\gamma_T T + \\gamma_z z)\n",
    "$$\n",
    "\n",
    "with $\\gamma_T = \\ln(\\Delta \\eta_T)$ and $\\gamma_z = \\ln(\\Delta \\eta_z)$. The nonlinear part is\n",
    "\n",
    "$$\n",
    "    \\eta_{plast}(\\dot{\\epsilon}) = \\eta^* + \\frac{\\sigma_{\\gamma}}{\\sqrt{\\dot{\\epsilon} : \\dot{\\epsilon}}}\n",
    "$$\n",
    "\n",
    "where $\\eta^*$ is the effective viscosity at high stresses and $\\sigma_{\\gamma}$ is the yield stress. The values of $\\Delta \\eta_T$, $\\Delta \\eta_z$, $\\eta^*$ and $\\sigma_{\\gamma}$ are assumed to be constant with values dependent on the particular case."
   ]
  },
  {
   "cell_type": "markdown",
   "metadata": {},
   "source": [
    "**Create variables required for plasticity calculations**"
   ]
  },
  {
   "cell_type": "code",
   "execution_count": 197,
   "metadata": {
    "collapsed": false
   },
   "outputs": [],
   "source": [
    "secinv = fn.tensor.second_invariant( fn.tensor.symmetric( velocityField.fn_gradient ) )\n",
    "coordinate = fn.coord()"
   ]
  },
  {
   "cell_type": "markdown",
   "metadata": {},
   "source": [
    "**Setup viscosity functions**\n",
    "\n",
    "Remember to use floats everywhere when setting up functions"
   ]
  },
  {
   "cell_type": "code",
   "execution_count": 198,
   "metadata": {
    "collapsed": false
   },
   "outputs": [
    {
     "data": {
      "text/plain": [
       "100000.0"
      ]
     },
     "execution_count": 198,
     "metadata": {},
     "output_type": "execute_result"
    }
   ],
   "source": [
    "ETA_T\n",
    "#CASE"
   ]
  },
  {
   "cell_type": "code",
   "execution_count": 199,
   "metadata": {
    "collapsed": false
   },
   "outputs": [],
   "source": [
    "viscosityl1 = newvisc*fn.math.exp(math.log(ETA_T)*-1.*temperatureField)\n",
    "viscosityl2 = newvisc*fn.math.exp((math.log(ETA_T)*-1.*temperatureField) + (1.-coordinate[1])*math.log(ETA_Y))\n",
    "\n",
    "#Von Mises effective viscosity\n",
    "viscosityp = ETA0 + YSTRESS/(secinv/math.sqrt(0.5)) #extra factor to account for underworld second invariant form\n",
    "\n",
    "if CASE == 1:\n",
    "    fn_viscosity = viscosityl1\n",
    "elif CASE == 2:\n",
    "    fn_viscosity = 2./(1./viscosityl1 + 1./viscosityp)\n",
    "elif CASE == 3:\n",
    "    fn_viscosity = viscosityl2\n",
    "else:\n",
    "    fn_viscosity = 2./(1./viscosityl2 + 1./viscosityp)"
   ]
  },
  {
   "cell_type": "code",
   "execution_count": 200,
   "metadata": {
    "collapsed": false
   },
   "outputs": [],
   "source": [
    "#Viscosities for Air, crust\n",
    "\n",
    "g = 9.81\n",
    "rho = 3300\n",
    "a = 1.25*10**-5\n",
    "kappa = 10**-6\n",
    "dT = 2500\n",
    "eta0 = rho*g*a*dT*((D*1e3)**3)/(RA*kappa)\n",
    "#Composisitional Rayleigh number\n",
    "Rc = (3300*g*(D*1000)**3)/(eta0*kappa)\n",
    "\n",
    "CompRAfact = Rc/RA\n",
    "\n",
    "airviscosity = 0.001\n",
    "airdensity = RA*CompRAfact\n",
    "\n",
    "\n",
    "viscreduct = 0.1\n",
    "\n",
    "#Von Mises effective viscosity\n",
    "crustviscosityp = viscreduct*ETA0 + ((viscreduct*YSTRESS)/(secinv/math.sqrt(0.5))) #extra factor to account for underworld second invariant form\n",
    "crustviscosityFn2 = 2./(1./viscosityl2 + 1./crustviscosityp)"
   ]
  },
  {
   "cell_type": "markdown",
   "metadata": {},
   "source": [
    "**Add functions for density and buoyancy**"
   ]
  },
  {
   "cell_type": "code",
   "execution_count": 201,
   "metadata": {
    "collapsed": false
   },
   "outputs": [],
   "source": [
    "# Here we set a viscosity value of '1.' for both materials\n",
    "viscosityMapFn = fn.branching.map( fn_key = materialVariable,\n",
    "                         mapping = {airIndex:airviscosity, lithosphereIndex:fn_viscosity, crustIndex:crustviscosityFn2,mantleIndex:fn_viscosity} )\n",
    "\n",
    "densityMapFn = fn.branching.map( fn_key = materialVariable,\n",
    "                         mapping = {airIndex:airdensity, lithosphereIndex:RA*temperatureField, crustIndex:RA*temperatureField, mantleIndex:RA*temperatureField} )\n",
    "\n",
    "# Define our gravity using a python tuple (this will be automatically converted to a function)\n",
    "gravity = ( 0.0, 1.0 )\n",
    "\n",
    "buoyancyFn = gravity*densityMapFn"
   ]
  },
  {
   "cell_type": "code",
   "execution_count": null,
   "metadata": {
    "collapsed": false
   },
   "outputs": [],
   "source": []
  },
  {
   "cell_type": "markdown",
   "metadata": {
    "collapsed": true
   },
   "source": [
    "densityFn = RA*temperatureField\n",
    "\n",
    " define our vertical unit vector using a python tuple (this will be automatically converted to a function)\n",
    "z_hat = ( 0.0, 1.0 )\n",
    "\n",
    "\n",
    "now create a buoyancy force vector using the density (FEvariable) and the vertical unit vector. \n",
    "buoyancyFn = densityFn * z_hat"
   ]
  },
  {
   "cell_type": "markdown",
   "metadata": {},
   "source": [
    "Build the Stokes system and solvers\n",
    "------\n",
    "\n",
    "Setup the Stokes system with linear or nonlinear visocity viscosity depending on case."
   ]
  },
  {
   "cell_type": "code",
   "execution_count": 202,
   "metadata": {
    "collapsed": false
   },
   "outputs": [],
   "source": [
    "#We first set up a l\n",
    "stokesPIC = uw.systems.Stokes(velocityField=velocityField, \n",
    "                              pressureField=pressureField,\n",
    "                              conditions=[freeslipBC,],\n",
    "#                              viscosityFn=viscosityFn1, \n",
    "                              fn_viscosity=fn.exception.SafeMaths(viscosityl1), \n",
    "                              fn_bodyforce=buoyancyFn)"
   ]
  },
  {
   "cell_type": "code",
   "execution_count": 203,
   "metadata": {
    "collapsed": true
   },
   "outputs": [],
   "source": [
    "solver = uw.systems.Solver(stokesPIC)\n",
    "solver.solve() "
   ]
  },
  {
   "cell_type": "code",
   "execution_count": 204,
   "metadata": {
    "collapsed": false
   },
   "outputs": [],
   "source": [
    "stokesPIC2 = uw.systems.Stokes( velocityField = velocityField, \n",
    "                               pressureField = pressureField,\n",
    "                               conditions    = [freeslipBC,],\n",
    "                               fn_viscosity   = fn.exception.SafeMaths(viscosityMapFn), \n",
    "                               fn_bodyforce   = buoyancyFn)"
   ]
  },
  {
   "cell_type": "markdown",
   "metadata": {},
   "source": [
    "Setup solver for the Stokes system of equations"
   ]
  },
  {
   "cell_type": "code",
   "execution_count": 205,
   "metadata": {
    "collapsed": false
   },
   "outputs": [],
   "source": [
    "solver = uw.systems.Solver( stokesPIC2 )\n",
    "\n",
    "solver.options.main.Q22_pc_type='uw'\n",
    "solver.options.A11.ksp_rtol=1e-7\n",
    "solver.options.scr.ksp_rtol=1e-6\n",
    "solver.options.scr.use_previous_guess = True\n",
    "solver.options.scr.ksp_set_min_it_converge = 6\n",
    "\n",
    "solver.options.mg.levels = 4\n",
    "\n",
    "solver.options.A11.ksp_monitor=''"
   ]
  },
  {
   "cell_type": "markdown",
   "metadata": {},
   "source": [
    "We do one solve for initial pressure and velocity with linear viscosity to get the initial strain rate invariant. This solve step also calculates a 'guess' of the the velocity field based on the linear system, which is used later in the non-linear solver."
   ]
  },
  {
   "cell_type": "code",
   "execution_count": 206,
   "metadata": {
    "collapsed": false
   },
   "outputs": [],
   "source": [
    "solver.solve( nonLinearIterate=False )"
   ]
  },
  {
   "cell_type": "code",
   "execution_count": 207,
   "metadata": {
    "collapsed": false
   },
   "outputs": [
    {
     "data": {
      "text/plain": [
       "0.01929936745210705"
      ]
     },
     "execution_count": 207,
     "metadata": {},
     "output_type": "execute_result"
    }
   ],
   "source": [
    "dwint   = uw.utils.Integral( temperatureField*velocityField[1], mesh )\n",
    "dwint.evaluate()[0]"
   ]
  },
  {
   "cell_type": "markdown",
   "metadata": {},
   "source": [
    "Create an advective-diffusive system\n",
    "-----\n",
    "\n",
    "Setup the system in underworld by flagging the temperature and velocity field variables."
   ]
  },
  {
   "cell_type": "code",
   "execution_count": 208,
   "metadata": {
    "collapsed": false
   },
   "outputs": [],
   "source": [
    "advDiff = uw.systems.AdvectionDiffusion( temperatureField, temperatureDotField, velocityField,\n",
    "                                         fn_diffusivity=1., conditions=[tempBC,] )\n",
    "\n",
    "\n",
    "advector = uw.systems.SwarmAdvector( swarm=gSwarm, velocityField=velocityField, order=2 )\n"
   ]
  },
  {
   "cell_type": "markdown",
   "metadata": {},
   "source": [
    "Metrics for benchmark\n",
    "=====\n",
    "\n",
    "Define functions to be used in the time loop. For cases 1-4, participants were asked to report a number of diagnostic quantities to be measured after reaching steady state:\n",
    "\n",
    "* Average temperature\n",
    "$$  \\langle T \\rangle  = \\int^1_0 \\int^1_0 T \\, dxdy $$\n",
    "* Top and bottom Nusselt numbers\n",
    "$$Nu_{top/bot} = - \\left. \\int^1_0 \\frac{\\partial T}{\\partial y} \\right|_{y=1/y=0} \\, dx$$\n",
    "* RMS velocity over the whole domain, surface and max velocity at surface\n",
    "$$u_{RMS} = \\left( \\int_0^1 \\int_0^1 \\left( u_x^2 + u_y^2 \\right) dx dy \\right)^{1/2}$$\n",
    "$$u_{RMS}^{surf} = \\left( \\left. \\int_0^1 u_x^2\\right|_{y=1} dx \\right)^{1/2}$$\n",
    "$$u_{max}^{surf} = \\left. \\max(u_x)\\right|_{y=1}$$\n",
    "* max and min viscosity over the whole domain\n",
    "$$\\eta_{max/min} = \\max / \\min \\left( \\eta\\left(x,y\\right) \\right)$$\n",
    "* average rate of work done against gravity\n",
    "$$\\langle W \\rangle = \\int^1_0 \\int^1_0 T u_y \\, dx dy$$\n",
    "* and the average rate of viscous dissipation\n",
    "$$\\langle \\Phi \\rangle = \\int^1_0 \\int^1_0 \\tau_{ij} \\dot \\epsilon_{ij} \\, dx dy$$\n",
    "\n",
    "* In steady state, if thermal energy is accurately conserved, the difference between $\\langle W \\rangle$ and $\\langle \\Phi \\rangle / Ra$ must vanish, so also reported is the percentage error: \n",
    "\n",
    "$$ \\delta = \\frac{\\lvert \\langle W \\rangle - \\frac{\\langle \\Phi \\rangle}{Ra} \\rvert}{max \\left(  \\langle W \\rangle,  \\frac{\\langle \\Phi \\rangle}{Ra}\\right)} \\times 100% $$"
   ]
  },
  {
   "cell_type": "markdown",
   "metadata": {},
   "source": [
    "**Setup volume integrals used in metric functions**"
   ]
  },
  {
   "cell_type": "code",
   "execution_count": 209,
   "metadata": {
    "collapsed": true
   },
   "outputs": [],
   "source": [
    "tempint = uw.utils.Integral( temperatureField, mesh )\n",
    "areaint = uw.utils.Integral( 1.,               mesh )\n",
    "\n",
    "v2int   = uw.utils.Integral( fn.math.dot(velocityField,velocityField), mesh )\n",
    "\n",
    "dwint   = uw.utils.Integral( temperatureField*velocityField[1], mesh )\n",
    "\n",
    "sinner = fn.math.dot( secinv, secinv )\n",
    "vdint = uw.utils.Integral( (4.*fn_viscosity*sinner), mesh )"
   ]
  },
  {
   "cell_type": "markdown",
   "metadata": {},
   "source": [
    "**Setup surface integrals used in metric functions**"
   ]
  },
  {
   "cell_type": "code",
   "execution_count": 210,
   "metadata": {
    "collapsed": false
   },
   "outputs": [],
   "source": [
    "rmsSurfInt = uw.utils.Integral( fn=velocityField[0]*velocityField[0], mesh=mesh, integrationType='Surface', \n",
    "                          surfaceIndexSet=mesh.specialSets[\"MaxJ_VertexSet\"])\n",
    "nuTop      = uw.utils.Integral( fn=temperatureField.fn_gradient[1],    mesh=mesh, integrationType='Surface', \n",
    "                          surfaceIndexSet=mesh.specialSets[\"MaxJ_VertexSet\"])\n",
    "nuBottom   = uw.utils.Integral( fn=temperatureField.fn_gradient[1],    mesh=mesh, integrationType='Surface', \n",
    "                          surfaceIndexSet=mesh.specialSets[\"MinJ_VertexSet\"])"
   ]
  },
  {
   "cell_type": "markdown",
   "metadata": {},
   "source": [
    "**Define diagnostic functions using integrals**"
   ]
  },
  {
   "cell_type": "code",
   "execution_count": 211,
   "metadata": {
    "collapsed": false
   },
   "outputs": [],
   "source": [
    "def avg_temp():\n",
    "    return tempint.evaluate()[0]/areaint.evaluate()[0]\n",
    "\n",
    "def nusseltTB(temp_field, mesh):\n",
    "    return -nuTop.evaluate()[0], -nuBottom.evaluate()[0]\n",
    "\n",
    "def rms():\n",
    "    return math.sqrt(v2int.evaluate()[0]/areaint.evaluate()[0])\n",
    "\n",
    "def rms_surf():\n",
    "    return math.sqrt(rmsSurfInt.evaluate()[0])\n",
    "\n",
    "def max_vx_surf(velfield, mesh):\n",
    "    vuvelxfn = fn.view.min_max(velfield[0])\n",
    "    vuvelxfn.evaluate(mesh.specialSets[\"MaxJ_VertexSet\"])\n",
    "    return vuvelxfn.max_global()\n",
    "\n",
    "def gravwork(workfn):\n",
    "    return workfn.evaluate()[0]\n",
    "\n",
    "def viscdis(vdissfn):\n",
    "    return vdissfn.evaluate()[0]\n",
    "\n",
    "def visc_extr(viscfn):\n",
    "    vuviscfn = fn.view.min_max(viscfn)\n",
    "    vuviscfn.evaluate(mesh)\n",
    "    return vuviscfn.max_global(), vuviscfn.min_global()"
   ]
  },
  {
   "cell_type": "code",
   "execution_count": 212,
   "metadata": {
    "collapsed": false
   },
   "outputs": [
    {
     "data": {
      "text/plain": [
       "0.8225684031135791"
      ]
     },
     "execution_count": 212,
     "metadata": {},
     "output_type": "execute_result"
    }
   ],
   "source": [
    "rms()"
   ]
  },
  {
   "cell_type": "markdown",
   "metadata": {},
   "source": [
    "Main simulation loop\n",
    "------\n",
    "\n",
    "The main time stepping loop begins here. Before this the time and timestep are initialised to zero and the output statistics arrays are set up. Also the frequency of outputting basic statistics to the screen is set in steps_output.\n",
    "\n",
    "Since getting each case to equilibrium takes a long time the default number of steps to do is kept short. Edit this if you wish to go through the entire process yourself."
   ]
  },
  {
   "cell_type": "code",
   "execution_count": 213,
   "metadata": {
    "collapsed": true
   },
   "outputs": [],
   "source": [
    "steps_todo = 10"
   ]
  },
  {
   "cell_type": "markdown",
   "metadata": {},
   "source": [
    "Initialise steps and time. Set to zero unless loading values from file."
   ]
  },
  {
   "cell_type": "code",
   "execution_count": 214,
   "metadata": {
    "collapsed": false
   },
   "outputs": [],
   "source": [
    "try:\n",
    "    realtime = timeVal[-1]\n",
    "    step = int(stepsVal[-1])\n",
    "except:\n",
    "    realtime = 0.0\n",
    "    step = 0\n",
    "steps_end = step + steps_todo\n",
    "steps_output = 10\n",
    "steps_output = max(steps_output,1)"
   ]
  },
  {
   "cell_type": "code",
   "execution_count": 215,
   "metadata": {
    "collapsed": false
   },
   "outputs": [
    {
     "name": "stdout",
     "output_type": "stream",
     "text": [
      "Step :  0\n",
      "Step :  1\n",
      "Step :  2\n",
      "Step :  3\n",
      "Step :  4\n",
      "Step :  5\n",
      "Step :  6\n",
      "Step :  7\n",
      "Step :  8\n",
      "step = 9 ; dt = 1.52587890625e-05 ; CPU time = 153.924429 ; vrms =  3.18594663108\n",
      "Step :  9\n",
      "step = 10 ; dt = 1.52587890625e-05 ; CPU time = 175.834412 ; vrms =  2.88445988588\n"
     ]
    }
   ],
   "source": [
    "# initialise timer for computation\n",
    "startMain = time.clock()\n",
    "# start loop\n",
    "while step < steps_end:\n",
    "    # Solve non-linear system\n",
    "    print \"Step : \", step\n",
    "    solver.solve(nonLinearIterate=True)\n",
    "    dt = advDiff.get_max_dt()\n",
    "    if step == 0:\n",
    "        dt = 0.\n",
    "    # Advect using this timestep size   \n",
    "    start = time.clock()\n",
    "    advDiff.integrate(dt)\n",
    "    machine_time = (time.clock()-start)\n",
    "    #print(\"total advDiff time is: \" + str(machine_time))\n",
    "    # Advect swarm using this timestep size\n",
    "    start = time.clock()\n",
    "    advector.integrate(dt)\n",
    "    machine_time = (time.clock()-start)\n",
    "    #print(\"total advector time is: \" + str(machine_time))\n",
    "    # Increment\n",
    "    # Increment\n",
    "    realtime += dt\n",
    "    step += 1\n",
    "    \n",
    "\n",
    "    # output fields and summary info to file (output graphics can also be added here)\n",
    "    if uw.rank()==0:\n",
    "        if (step % steps_output == 0) or (step == steps_end-1):\n",
    "            # Calculate the Metrics, only on 1 of the processors:\n",
    "            Avg_temp = avg_temp()\n",
    "            Rms = rms()\n",
    "            Rms_surf = rms_surf()\n",
    "            Max_vx_surf = max_vx_surf(velocityField, mesh)\n",
    "            Gravwork = gravwork(dwint)\n",
    "            Viscdis = viscdis(vdint)\n",
    "            nu1, nu0 = nusseltTB(temperatureField, mesh) # return top then bottom\n",
    "            etamax, etamin = visc_extr(fn_viscosity)\n",
    "            # store results\n",
    "            stepsVal.append(       step)\n",
    "            timeVal.append(        realtime )\n",
    "            viscdiscVal.append(    Viscdis )\n",
    "            nu0Val.append(         nu0 )\n",
    "            nu1Val.append(         nu1 )\n",
    "            Avg_tempVal.append(    Avg_temp )\n",
    "            vrmsVal.append(        Rms )\n",
    "            Rms_surfVal.append(    Rms_surf )\n",
    "            Max_vx_surfVal.append( Max_vx_surf )\n",
    "            GravworkVal.append(    Gravwork )\n",
    "            etamaxVal.append(      etamax )\n",
    "            etaminVal.append(      etamin )\n",
    "            print 'step =',step, '; dt =', dt, '; CPU time =', time.clock()-startMain, '; vrms = ',Rms\n",
    "            # Temperature\n",
    "            fnametemp = \"temperatureField_\" + str(step).zfill(6) + \".h5\"\n",
    "            fullpath = os.path.join(outputPath + \"files/\" + fnametemp)\n",
    "            temperatureField.save(fullpath)\n",
    "            # Temperature time derivative\n",
    "            fnametemp = \"temperatureDotField_\" + str(step).zfill(6) + \".h5\"\n",
    "            fullpath = os.path.join(outputPath + \"files/\" + fnametemp)\n",
    "            temperatureDotField.save(fullpath)\n",
    "            # Pressure\n",
    "            fnametemp = \"pressureField_\" + str(step).zfill(6) + \".h5\"\n",
    "            fullpath = os.path.join(outputPath + \"files/\" + fnametemp)\n",
    "            pressureField.save(fullpath)\n",
    "            # Velocity\n",
    "            fnametemp = \"velocityField_\" + str(step).zfill(6) + \".h5\"\n",
    "            fullpath = os.path.join(outputPath + \"files/\" + fnametemp)\n",
    "            velocityField.save(fullpath)\n",
    "\n",
    "            np.savetxt( outputPath + 'Summary.txt', np.c_[stepsVal, timeVal, viscdiscVal, nu0Val, \n",
    "                                                          nu1Val, Avg_tempVal, vrmsVal, Rms_surfVal,\n",
    "                                                         Max_vx_surfVal, GravworkVal, etamaxVal, etaminVal], \n",
    "                   header=\"Steps, Time, visc, Nusselt bottom/top, av_T, vrms, surf_rms, surf_max, grav, etamax, etamin\" )\n"
   ]
  },
  {
   "cell_type": "code",
   "execution_count": 216,
   "metadata": {
    "collapsed": false
   },
   "outputs": [
    {
     "data": {
      "text/plain": [
       "9"
      ]
     },
     "execution_count": 216,
     "metadata": {},
     "output_type": "execute_result"
    }
   ],
   "source": [
    "steps_output\n",
    "steps_end-1"
   ]
  },
  {
   "cell_type": "code",
   "execution_count": 217,
   "metadata": {
    "collapsed": false
   },
   "outputs": [
    {
     "data": {
      "text/plain": [
       "0.0"
      ]
     },
     "execution_count": 217,
     "metadata": {},
     "output_type": "execute_result"
    }
   ],
   "source": [
    "velocityField.evaluate(iWalls)[:,0].min()\n"
   ]
  },
  {
   "cell_type": "code",
   "execution_count": 218,
   "metadata": {
    "collapsed": false
   },
   "outputs": [],
   "source": [
    "viscVariable = gSwarm.add_variable( dataType=\"float\", count=1 )\n",
    "viscVariable.data[:] = viscosityMapFn.evaluate(gSwarm)\n"
   ]
  },
  {
   "cell_type": "code",
   "execution_count": 110,
   "metadata": {
    "collapsed": false
   },
   "outputs": [],
   "source": [
    "figEta = glucifer.Figure()\n",
    "figEta.append( glucifer.objects.Points(gSwarm,viscVariable, logScale=True))\n",
    "figEta.append( glucifer.objects.Mesh(mesh) )\n",
    "figEta.append( glucifer.objects.VectorArrows(mesh, velocityField, arrowHead=0.2, scaling=0.02))\n",
    "figEta.show()\n",
    "figEta.save_database('test.gldb')"
   ]
  },
  {
   "cell_type": "code",
   "execution_count": 107,
   "metadata": {
    "collapsed": false
   },
   "outputs": [
    {
     "data": {
      "text/html": [
       "<img src='data:image/png;base64,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'>"
      ],
      "text/plain": [
       "<IPython.core.display.HTML object>"
      ]
     },
     "execution_count": 107,
     "metadata": {},
     "output_type": "execute_result"
    }
   ],
   "source": [
    "figtemp = glucifer.Figure( figsize=(800,400) )\n",
    "figtemp.append( glucifer.objects.Surface(mesh, temperatureField, colours=\"blue white red\") )\n",
    "figtemp.append( glucifer.objects.Mesh(mesh) )\n",
    "figtemp.append( glucifer.objects.VectorArrows(mesh, velocityField, arrowHead=0.2, scaling=0.02))\n",
    "figtemp.show()\n",
    "#figtemp.save_database('test.gldb')\n",
    "\n"
   ]
  },
  {
   "cell_type": "code",
   "execution_count": 53,
   "metadata": {
    "collapsed": true
   },
   "outputs": [],
   "source": [
    "import matplotlib.pyplot as pyplot\n",
    "%matplotlib inline"
   ]
  },
  {
   "cell_type": "code",
   "execution_count": 54,
   "metadata": {
    "collapsed": false
   },
   "outputs": [],
   "source": [
    "uni= np.genfromtxt(os.path.join(\"noRefine.txt\"), skip_header=0)\n",
    "rold= np.genfromtxt(os.path.join(\"oldRefine.txt\"), skip_header=0)\n",
    "rnew= np.genfromtxt(os.path.join(\"newRefine.txt\"), skip_header=0)\n",
    "\n"
   ]
  },
  {
   "cell_type": "code",
   "execution_count": 55,
   "metadata": {
    "collapsed": false
   },
   "outputs": [],
   "source": [
    "colnames = [\"Steps\", \"Time\", \"visc\", \"Nusselt_bottom\", \"Nusselt_top\", \"av_T\", \"vrms\", \"surf_rms\", \"surf_max\", \"grav\", \"etamax\", \"etamin\"]"
   ]
  },
  {
   "cell_type": "code",
   "execution_count": 63,
   "metadata": {
    "collapsed": false
   },
   "outputs": [
    {
     "name": "stdout",
     "output_type": "stream",
     "text": [
      "vrms\n"
     ]
    },
    {
     "data": {
      "text/plain": [
       "[<matplotlib.lines.Line2D at 0x1208e8190>]"
      ]
     },
     "execution_count": 63,
     "metadata": {},
     "output_type": "execute_result"
    },
    {
     "data": {
      "image/png": "[encoded data removed]",
      "text/plain": [
       "<matplotlib.figure.Figure at 0x1207a4ad0>"
      ]
     },
     "metadata": {},
     "output_type": "display_data"
    }
   ],
   "source": [
    "col = 6\n",
    "print(colnames[col])\n",
    "\n",
    "pyplot.plot(rold[:, 1], rold[:, col], c = 'r')\n",
    "pyplot.plot(rnew[:, 1], rnew[:, col], c = 'g')\n",
    "pyplot.plot(uni[:, 1], uni[:, col], c = 'b', linestyle = '--')\n",
    "#pyplot.ylim((0, 0.6))"
   ]
  },
  {
   "cell_type": "markdown",
   "metadata": {},
   "source": [
    "Save final fields - useful for continuing runs."
   ]
  },
  {
   "cell_type": "code",
   "execution_count": null,
   "metadata": {
    "collapsed": true
   },
   "outputs": [],
   "source": []
  }
 ],
 "metadata": {
  "kernelspec": {
   "display_name": "Python 2",
   "language": "python",
   "name": "python2"
  },
  "language_info": {
   "codemirror_mode": {
    "name": "ipython",
    "version": 2
   },
   "file_extension": ".py",
   "mimetype": "text/x-python",
   "name": "python",
   "nbconvert_exporter": "python",
   "pygments_lexer": "ipython2",
   "version": "2.7.11"
  }
 },
 "nbformat": 4,
 "nbformat_minor": 0
}
